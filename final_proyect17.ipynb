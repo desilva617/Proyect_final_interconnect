{
 "cells": [
  {
   "cell_type": "markdown",
   "metadata": {},
   "source": [
    "# Predicción de cancelación de clientes en Telecom Interconnect"
   ]
  },
  {
   "cell_type": "markdown",
   "metadata": {},
   "source": [
    "## Carga de librerías y de datos"
   ]
  },
  {
   "cell_type": "code",
   "execution_count": 4,
   "metadata": {},
   "outputs": [],
   "source": [
    "import pandas as pd\n",
    "import matplotlib\n",
    "import matplotlib.pyplot as plt\n",
    "import numpy as np\n",
    "import seaborn as sns"
   ]
  },
  {
   "cell_type": "code",
   "execution_count": 10,
   "metadata": {},
   "outputs": [],
   "source": [
    "df_contract = pd.read_csv('/Users/diana/Desktop/PRACTICUM DS/final_provider/contract.csv')\n",
    "df_internet = pd.read_csv('/Users/diana/Desktop/PRACTICUM DS/final_provider/internet.csv')\n",
    "df_personal = pd.read_csv('/Users/diana/Desktop/PRACTICUM DS/final_provider/personal.csv')\n",
    "df_phone = pd.read_csv('/Users/diana/Desktop/PRACTICUM DS/final_provider/phone.csv')"
   ]
  },
  {
   "cell_type": "markdown",
   "metadata": {},
   "source": [
    "## Exploración de datos"
   ]
  },
  {
   "cell_type": "markdown",
   "metadata": {},
   "source": [
    "### Contrato de clientes"
   ]
  },
  {
   "cell_type": "code",
   "execution_count": 7,
   "metadata": {},
   "outputs": [
    {
     "data": {
      "text/html": [
       "<div>\n",
       "<style scoped>\n",
       "    .dataframe tbody tr th:only-of-type {\n",
       "        vertical-align: middle;\n",
       "    }\n",
       "\n",
       "    .dataframe tbody tr th {\n",
       "        vertical-align: top;\n",
       "    }\n",
       "\n",
       "    .dataframe thead th {\n",
       "        text-align: right;\n",
       "    }\n",
       "</style>\n",
       "<table border=\"1\" class=\"dataframe\">\n",
       "  <thead>\n",
       "    <tr style=\"text-align: right;\">\n",
       "      <th></th>\n",
       "      <th>customerID</th>\n",
       "      <th>BeginDate</th>\n",
       "      <th>EndDate</th>\n",
       "      <th>Type</th>\n",
       "      <th>PaperlessBilling</th>\n",
       "      <th>PaymentMethod</th>\n",
       "      <th>MonthlyCharges</th>\n",
       "      <th>TotalCharges</th>\n",
       "    </tr>\n",
       "  </thead>\n",
       "  <tbody>\n",
       "    <tr>\n",
       "      <th>0</th>\n",
       "      <td>7590-VHVEG</td>\n",
       "      <td>2020-01-01</td>\n",
       "      <td>No</td>\n",
       "      <td>Month-to-month</td>\n",
       "      <td>Yes</td>\n",
       "      <td>Electronic check</td>\n",
       "      <td>29.85</td>\n",
       "      <td>29.85</td>\n",
       "    </tr>\n",
       "    <tr>\n",
       "      <th>1</th>\n",
       "      <td>5575-GNVDE</td>\n",
       "      <td>2017-04-01</td>\n",
       "      <td>No</td>\n",
       "      <td>One year</td>\n",
       "      <td>No</td>\n",
       "      <td>Mailed check</td>\n",
       "      <td>56.95</td>\n",
       "      <td>1889.5</td>\n",
       "    </tr>\n",
       "    <tr>\n",
       "      <th>2</th>\n",
       "      <td>3668-QPYBK</td>\n",
       "      <td>2019-10-01</td>\n",
       "      <td>2019-12-01 00:00:00</td>\n",
       "      <td>Month-to-month</td>\n",
       "      <td>Yes</td>\n",
       "      <td>Mailed check</td>\n",
       "      <td>53.85</td>\n",
       "      <td>108.15</td>\n",
       "    </tr>\n",
       "    <tr>\n",
       "      <th>3</th>\n",
       "      <td>7795-CFOCW</td>\n",
       "      <td>2016-05-01</td>\n",
       "      <td>No</td>\n",
       "      <td>One year</td>\n",
       "      <td>No</td>\n",
       "      <td>Bank transfer (automatic)</td>\n",
       "      <td>42.30</td>\n",
       "      <td>1840.75</td>\n",
       "    </tr>\n",
       "    <tr>\n",
       "      <th>4</th>\n",
       "      <td>9237-HQITU</td>\n",
       "      <td>2019-09-01</td>\n",
       "      <td>2019-11-01 00:00:00</td>\n",
       "      <td>Month-to-month</td>\n",
       "      <td>Yes</td>\n",
       "      <td>Electronic check</td>\n",
       "      <td>70.70</td>\n",
       "      <td>151.65</td>\n",
       "    </tr>\n",
       "  </tbody>\n",
       "</table>\n",
       "</div>"
      ],
      "text/plain": [
       "   customerID   BeginDate              EndDate            Type  \\\n",
       "0  7590-VHVEG  2020-01-01                   No  Month-to-month   \n",
       "1  5575-GNVDE  2017-04-01                   No        One year   \n",
       "2  3668-QPYBK  2019-10-01  2019-12-01 00:00:00  Month-to-month   \n",
       "3  7795-CFOCW  2016-05-01                   No        One year   \n",
       "4  9237-HQITU  2019-09-01  2019-11-01 00:00:00  Month-to-month   \n",
       "\n",
       "  PaperlessBilling              PaymentMethod  MonthlyCharges TotalCharges  \n",
       "0              Yes           Electronic check           29.85        29.85  \n",
       "1               No               Mailed check           56.95       1889.5  \n",
       "2              Yes               Mailed check           53.85       108.15  \n",
       "3               No  Bank transfer (automatic)           42.30      1840.75  \n",
       "4              Yes           Electronic check           70.70       151.65  "
      ]
     },
     "execution_count": 7,
     "metadata": {},
     "output_type": "execute_result"
    }
   ],
   "source": [
    "df_contract.head()"
   ]
  },
  {
   "cell_type": "code",
   "execution_count": 8,
   "metadata": {},
   "outputs": [
    {
     "name": "stdout",
     "output_type": "stream",
     "text": [
      "<class 'pandas.core.frame.DataFrame'>\n",
      "RangeIndex: 7043 entries, 0 to 7042\n",
      "Data columns (total 8 columns):\n",
      " #   Column            Non-Null Count  Dtype  \n",
      "---  ------            --------------  -----  \n",
      " 0   customerID        7043 non-null   object \n",
      " 1   BeginDate         7043 non-null   object \n",
      " 2   EndDate           7043 non-null   object \n",
      " 3   Type              7043 non-null   object \n",
      " 4   PaperlessBilling  7043 non-null   object \n",
      " 5   PaymentMethod     7043 non-null   object \n",
      " 6   MonthlyCharges    7043 non-null   float64\n",
      " 7   TotalCharges      7043 non-null   object \n",
      "dtypes: float64(1), object(7)\n",
      "memory usage: 440.3+ KB\n"
     ]
    }
   ],
   "source": [
    "df_contract.info()"
   ]
  },
  {
   "cell_type": "code",
   "execution_count": 9,
   "metadata": {},
   "outputs": [
    {
     "data": {
      "text/plain": [
       "Type\n",
       "Month-to-month    3875\n",
       "Two year          1695\n",
       "One year          1473\n",
       "Name: count, dtype: int64"
      ]
     },
     "execution_count": 9,
     "metadata": {},
     "output_type": "execute_result"
    }
   ],
   "source": [
    "df_contract['Type'].value_counts()"
   ]
  },
  {
   "cell_type": "code",
   "execution_count": 10,
   "metadata": {},
   "outputs": [
    {
     "data": {
      "text/plain": [
       "0"
      ]
     },
     "execution_count": 10,
     "metadata": {},
     "output_type": "execute_result"
    }
   ],
   "source": [
    "df_contract.duplicated().sum()"
   ]
  },
  {
   "cell_type": "code",
   "execution_count": 11,
   "metadata": {},
   "outputs": [
    {
     "data": {
      "text/html": [
       "<div>\n",
       "<style scoped>\n",
       "    .dataframe tbody tr th:only-of-type {\n",
       "        vertical-align: middle;\n",
       "    }\n",
       "\n",
       "    .dataframe tbody tr th {\n",
       "        vertical-align: top;\n",
       "    }\n",
       "\n",
       "    .dataframe thead th {\n",
       "        text-align: right;\n",
       "    }\n",
       "</style>\n",
       "<table border=\"1\" class=\"dataframe\">\n",
       "  <thead>\n",
       "    <tr style=\"text-align: right;\">\n",
       "      <th></th>\n",
       "      <th>MonthlyCharges</th>\n",
       "    </tr>\n",
       "  </thead>\n",
       "  <tbody>\n",
       "    <tr>\n",
       "      <th>count</th>\n",
       "      <td>7043.000000</td>\n",
       "    </tr>\n",
       "    <tr>\n",
       "      <th>mean</th>\n",
       "      <td>64.761692</td>\n",
       "    </tr>\n",
       "    <tr>\n",
       "      <th>std</th>\n",
       "      <td>30.090047</td>\n",
       "    </tr>\n",
       "    <tr>\n",
       "      <th>min</th>\n",
       "      <td>18.250000</td>\n",
       "    </tr>\n",
       "    <tr>\n",
       "      <th>25%</th>\n",
       "      <td>35.500000</td>\n",
       "    </tr>\n",
       "    <tr>\n",
       "      <th>50%</th>\n",
       "      <td>70.350000</td>\n",
       "    </tr>\n",
       "    <tr>\n",
       "      <th>75%</th>\n",
       "      <td>89.850000</td>\n",
       "    </tr>\n",
       "    <tr>\n",
       "      <th>max</th>\n",
       "      <td>118.750000</td>\n",
       "    </tr>\n",
       "  </tbody>\n",
       "</table>\n",
       "</div>"
      ],
      "text/plain": [
       "       MonthlyCharges\n",
       "count     7043.000000\n",
       "mean        64.761692\n",
       "std         30.090047\n",
       "min         18.250000\n",
       "25%         35.500000\n",
       "50%         70.350000\n",
       "75%         89.850000\n",
       "max        118.750000"
      ]
     },
     "execution_count": 11,
     "metadata": {},
     "output_type": "execute_result"
    }
   ],
   "source": [
    "df_contract.describe()"
   ]
  },
  {
   "cell_type": "markdown",
   "metadata": {},
   "source": [
    "* No hay datos ausentes ni duplicados.\n",
    "* Lo mínimo a pagar al mes ha sido 18 y lo máximo 118. La mayoría (75%) paga 89.\n",
    "* Hay que cambiar los tipos de datos de TotalCharges y fechas."
   ]
  },
  {
   "cell_type": "code",
   "execution_count": 12,
   "metadata": {},
   "outputs": [
    {
     "data": {
      "text/plain": [
       "EndDate\n",
       "No                     5174\n",
       "2019-11-01 00:00:00     485\n",
       "2019-12-01 00:00:00     466\n",
       "2020-01-01 00:00:00     460\n",
       "2019-10-01 00:00:00     458\n",
       "Name: count, dtype: int64"
      ]
     },
     "execution_count": 12,
     "metadata": {},
     "output_type": "execute_result"
    }
   ],
   "source": [
    "df_contract['EndDate'].value_counts()"
   ]
  },
  {
   "cell_type": "code",
   "execution_count": 11,
   "metadata": {},
   "outputs": [],
   "source": [
    "df_contract['BeginDate'] = pd.to_datetime(df_contract['BeginDate'], format='%Y-%m-%d')"
   ]
  },
  {
   "cell_type": "code",
   "execution_count": 12,
   "metadata": {},
   "outputs": [
    {
     "data": {
      "text/plain": [
       "BeginDate\n",
       "2019    1957\n",
       "2014    1344\n",
       "2018    1030\n",
       "2015     852\n",
       "2017     845\n",
       "2016     763\n",
       "2020     244\n",
       "2013       8\n",
       "Name: count, dtype: int64"
      ]
     },
     "execution_count": 12,
     "metadata": {},
     "output_type": "execute_result"
    }
   ],
   "source": [
    "df_contract['BeginDate'].dt.year.value_counts()"
   ]
  },
  {
   "cell_type": "code",
   "execution_count": 13,
   "metadata": {},
   "outputs": [
    {
     "data": {
      "text/plain": [
       "BeginDate\n",
       "2     804\n",
       "1     623\n",
       "9     623\n",
       "11    621\n",
       "12    604\n",
       "10    601\n",
       "3     590\n",
       "8     532\n",
       "6     522\n",
       "7     518\n",
       "4     511\n",
       "5     494\n",
       "Name: count, dtype: int64"
      ]
     },
     "execution_count": 13,
     "metadata": {},
     "output_type": "execute_result"
    }
   ],
   "source": [
    "df_contract['BeginDate'].dt.month.value_counts()"
   ]
  },
  {
   "cell_type": "code",
   "execution_count": 14,
   "metadata": {},
   "outputs": [
    {
     "data": {
      "text/plain": [
       "BeginDate\n",
       "1    7043\n",
       "Name: count, dtype: int64"
      ]
     },
     "execution_count": 14,
     "metadata": {},
     "output_type": "execute_result"
    }
   ],
   "source": [
    "df_contract['BeginDate'].dt.day.value_counts()"
   ]
  },
  {
   "cell_type": "code",
   "execution_count": 15,
   "metadata": {},
   "outputs": [],
   "source": [
    "df_contract['TotalCharges'] = pd.to_numeric(df_contract['TotalCharges'], errors='coerce')"
   ]
  },
  {
   "cell_type": "code",
   "execution_count": 16,
   "metadata": {},
   "outputs": [],
   "source": [
    "df_contract.columns = (df_contract.columns.str.replace(r'(?<!^)(?=[A-Z])', '_', regex=True).str.lower())\n",
    "df_contract.rename(columns={\"customer_i_d\": \"customer_id\"}, inplace=True)"
   ]
  },
  {
   "cell_type": "code",
   "execution_count": 19,
   "metadata": {},
   "outputs": [
    {
     "name": "stdout",
     "output_type": "stream",
     "text": [
      "<class 'pandas.core.frame.DataFrame'>\n",
      "RangeIndex: 7043 entries, 0 to 7042\n",
      "Data columns (total 8 columns):\n",
      " #   Column             Non-Null Count  Dtype         \n",
      "---  ------             --------------  -----         \n",
      " 0   customer_id        7043 non-null   object        \n",
      " 1   begin_date         7043 non-null   datetime64[ns]\n",
      " 2   end_date           7043 non-null   object        \n",
      " 3   type               7043 non-null   object        \n",
      " 4   paperless_billing  7043 non-null   object        \n",
      " 5   payment_method     7043 non-null   object        \n",
      " 6   monthly_charges    7043 non-null   float64       \n",
      " 7   total_charges      7032 non-null   float64       \n",
      "dtypes: datetime64[ns](1), float64(2), object(5)\n",
      "memory usage: 440.3+ KB\n"
     ]
    }
   ],
   "source": [
    "df_contract.info()"
   ]
  },
  {
   "cell_type": "markdown",
   "metadata": {},
   "source": [
    "Hay datos ausentes en la columna 'total_charges'."
   ]
  },
  {
   "cell_type": "code",
   "execution_count": 17,
   "metadata": {},
   "outputs": [
    {
     "data": {
      "text/html": [
       "<div>\n",
       "<style scoped>\n",
       "    .dataframe tbody tr th:only-of-type {\n",
       "        vertical-align: middle;\n",
       "    }\n",
       "\n",
       "    .dataframe tbody tr th {\n",
       "        vertical-align: top;\n",
       "    }\n",
       "\n",
       "    .dataframe thead th {\n",
       "        text-align: right;\n",
       "    }\n",
       "</style>\n",
       "<table border=\"1\" class=\"dataframe\">\n",
       "  <thead>\n",
       "    <tr style=\"text-align: right;\">\n",
       "      <th></th>\n",
       "      <th>customer_id</th>\n",
       "      <th>begin_date</th>\n",
       "      <th>end_date</th>\n",
       "      <th>type</th>\n",
       "      <th>paperless_billing</th>\n",
       "      <th>payment_method</th>\n",
       "      <th>monthly_charges</th>\n",
       "      <th>total_charges</th>\n",
       "    </tr>\n",
       "  </thead>\n",
       "  <tbody>\n",
       "    <tr>\n",
       "      <th>488</th>\n",
       "      <td>4472-LVYGI</td>\n",
       "      <td>2020-02-01</td>\n",
       "      <td>No</td>\n",
       "      <td>Two year</td>\n",
       "      <td>Yes</td>\n",
       "      <td>Bank transfer (automatic)</td>\n",
       "      <td>52.55</td>\n",
       "      <td>NaN</td>\n",
       "    </tr>\n",
       "    <tr>\n",
       "      <th>753</th>\n",
       "      <td>3115-CZMZD</td>\n",
       "      <td>2020-02-01</td>\n",
       "      <td>No</td>\n",
       "      <td>Two year</td>\n",
       "      <td>No</td>\n",
       "      <td>Mailed check</td>\n",
       "      <td>20.25</td>\n",
       "      <td>NaN</td>\n",
       "    </tr>\n",
       "    <tr>\n",
       "      <th>936</th>\n",
       "      <td>5709-LVOEQ</td>\n",
       "      <td>2020-02-01</td>\n",
       "      <td>No</td>\n",
       "      <td>Two year</td>\n",
       "      <td>No</td>\n",
       "      <td>Mailed check</td>\n",
       "      <td>80.85</td>\n",
       "      <td>NaN</td>\n",
       "    </tr>\n",
       "    <tr>\n",
       "      <th>1082</th>\n",
       "      <td>4367-NUYAO</td>\n",
       "      <td>2020-02-01</td>\n",
       "      <td>No</td>\n",
       "      <td>Two year</td>\n",
       "      <td>No</td>\n",
       "      <td>Mailed check</td>\n",
       "      <td>25.75</td>\n",
       "      <td>NaN</td>\n",
       "    </tr>\n",
       "    <tr>\n",
       "      <th>1340</th>\n",
       "      <td>1371-DWPAZ</td>\n",
       "      <td>2020-02-01</td>\n",
       "      <td>No</td>\n",
       "      <td>Two year</td>\n",
       "      <td>No</td>\n",
       "      <td>Credit card (automatic)</td>\n",
       "      <td>56.05</td>\n",
       "      <td>NaN</td>\n",
       "    </tr>\n",
       "    <tr>\n",
       "      <th>3331</th>\n",
       "      <td>7644-OMVMY</td>\n",
       "      <td>2020-02-01</td>\n",
       "      <td>No</td>\n",
       "      <td>Two year</td>\n",
       "      <td>No</td>\n",
       "      <td>Mailed check</td>\n",
       "      <td>19.85</td>\n",
       "      <td>NaN</td>\n",
       "    </tr>\n",
       "    <tr>\n",
       "      <th>3826</th>\n",
       "      <td>3213-VVOLG</td>\n",
       "      <td>2020-02-01</td>\n",
       "      <td>No</td>\n",
       "      <td>Two year</td>\n",
       "      <td>No</td>\n",
       "      <td>Mailed check</td>\n",
       "      <td>25.35</td>\n",
       "      <td>NaN</td>\n",
       "    </tr>\n",
       "    <tr>\n",
       "      <th>4380</th>\n",
       "      <td>2520-SGTTA</td>\n",
       "      <td>2020-02-01</td>\n",
       "      <td>No</td>\n",
       "      <td>Two year</td>\n",
       "      <td>No</td>\n",
       "      <td>Mailed check</td>\n",
       "      <td>20.00</td>\n",
       "      <td>NaN</td>\n",
       "    </tr>\n",
       "    <tr>\n",
       "      <th>5218</th>\n",
       "      <td>2923-ARZLG</td>\n",
       "      <td>2020-02-01</td>\n",
       "      <td>No</td>\n",
       "      <td>One year</td>\n",
       "      <td>Yes</td>\n",
       "      <td>Mailed check</td>\n",
       "      <td>19.70</td>\n",
       "      <td>NaN</td>\n",
       "    </tr>\n",
       "    <tr>\n",
       "      <th>6670</th>\n",
       "      <td>4075-WKNIU</td>\n",
       "      <td>2020-02-01</td>\n",
       "      <td>No</td>\n",
       "      <td>Two year</td>\n",
       "      <td>No</td>\n",
       "      <td>Mailed check</td>\n",
       "      <td>73.35</td>\n",
       "      <td>NaN</td>\n",
       "    </tr>\n",
       "    <tr>\n",
       "      <th>6754</th>\n",
       "      <td>2775-SEFEE</td>\n",
       "      <td>2020-02-01</td>\n",
       "      <td>No</td>\n",
       "      <td>Two year</td>\n",
       "      <td>Yes</td>\n",
       "      <td>Bank transfer (automatic)</td>\n",
       "      <td>61.90</td>\n",
       "      <td>NaN</td>\n",
       "    </tr>\n",
       "  </tbody>\n",
       "</table>\n",
       "</div>"
      ],
      "text/plain": [
       "     customer_id begin_date end_date      type paperless_billing  \\\n",
       "488   4472-LVYGI 2020-02-01       No  Two year               Yes   \n",
       "753   3115-CZMZD 2020-02-01       No  Two year                No   \n",
       "936   5709-LVOEQ 2020-02-01       No  Two year                No   \n",
       "1082  4367-NUYAO 2020-02-01       No  Two year                No   \n",
       "1340  1371-DWPAZ 2020-02-01       No  Two year                No   \n",
       "3331  7644-OMVMY 2020-02-01       No  Two year                No   \n",
       "3826  3213-VVOLG 2020-02-01       No  Two year                No   \n",
       "4380  2520-SGTTA 2020-02-01       No  Two year                No   \n",
       "5218  2923-ARZLG 2020-02-01       No  One year               Yes   \n",
       "6670  4075-WKNIU 2020-02-01       No  Two year                No   \n",
       "6754  2775-SEFEE 2020-02-01       No  Two year               Yes   \n",
       "\n",
       "                 payment_method  monthly_charges  total_charges  \n",
       "488   Bank transfer (automatic)            52.55            NaN  \n",
       "753                Mailed check            20.25            NaN  \n",
       "936                Mailed check            80.85            NaN  \n",
       "1082               Mailed check            25.75            NaN  \n",
       "1340    Credit card (automatic)            56.05            NaN  \n",
       "3331               Mailed check            19.85            NaN  \n",
       "3826               Mailed check            25.35            NaN  \n",
       "4380               Mailed check            20.00            NaN  \n",
       "5218               Mailed check            19.70            NaN  \n",
       "6670               Mailed check            73.35            NaN  \n",
       "6754  Bank transfer (automatic)            61.90            NaN  "
      ]
     },
     "execution_count": 17,
     "metadata": {},
     "output_type": "execute_result"
    }
   ],
   "source": [
    "filter = df_contract.query(\"total_charges.isna()\")\n",
    "filter"
   ]
  },
  {
   "cell_type": "markdown",
   "metadata": {},
   "source": [
    "Tenemos 11 datos ausentes y corresponden a personas que no han cancelado su plan y que recién se han unido a la empresa, por lo que se eliminarán estos datos."
   ]
  },
  {
   "cell_type": "code",
   "execution_count": 18,
   "metadata": {},
   "outputs": [],
   "source": [
    "df_contract = df_contract.dropna().reset_index(drop=True)"
   ]
  },
  {
   "cell_type": "code",
   "execution_count": 22,
   "metadata": {},
   "outputs": [
    {
     "name": "stdout",
     "output_type": "stream",
     "text": [
      "<class 'pandas.core.frame.DataFrame'>\n",
      "RangeIndex: 7032 entries, 0 to 7031\n",
      "Data columns (total 8 columns):\n",
      " #   Column             Non-Null Count  Dtype         \n",
      "---  ------             --------------  -----         \n",
      " 0   customer_id        7032 non-null   object        \n",
      " 1   begin_date         7032 non-null   datetime64[ns]\n",
      " 2   end_date           7032 non-null   object        \n",
      " 3   type               7032 non-null   object        \n",
      " 4   paperless_billing  7032 non-null   object        \n",
      " 5   payment_method     7032 non-null   object        \n",
      " 6   monthly_charges    7032 non-null   float64       \n",
      " 7   total_charges      7032 non-null   float64       \n",
      "dtypes: datetime64[ns](1), float64(2), object(5)\n",
      "memory usage: 439.6+ KB\n"
     ]
    }
   ],
   "source": [
    "df_contract.info()"
   ]
  },
  {
   "cell_type": "markdown",
   "metadata": {},
   "source": [
    "* Se cambió el tipo de datos de total_charges. \n",
    "* Se cambió a datetime begin_date, sin embargo end_date aún no se cambiará porque contiene dos tipos de datos.\n",
    "* Se cambiaron los nombres de las a columnas a formato snake_case."
   ]
  },
  {
   "cell_type": "code",
   "execution_count": 23,
   "metadata": {},
   "outputs": [
    {
     "data": {
      "image/png": "[encoded data removed]",
      "text/plain": [
       "<Figure size 1000x1000 with 3 Axes>"
      ]
     },
     "metadata": {},
     "output_type": "display_data"
    }
   ],
   "source": [
    "cat_var =  ['type', 'paperless_billing', 'payment_method']\n",
    "\n",
    "for i, var in enumerate(cat_var):\n",
    "    plt.subplot(1, len(cat_var), i+1)\n",
    "    df_contract[var].value_counts().plot.pie(fontsize=10, figsize=(10,10), autopct=\"%.1f\")\n",
    "    plt.gca().set_aspect('equal')\n",
    "\n",
    "plt.show()"
   ]
  },
  {
   "cell_type": "markdown",
   "metadata": {},
   "source": [
    "* Más de la mitas de contratos han sido mensuales.\n",
    "* La mayoría prefiere su factura por email, pero no parece relevante.\n",
    "* El método de pago al parece se distribuye proporcionalmnete, aunque un mayor porcentaje prefiere por cheque electrónico."
   ]
  },
  {
   "cell_type": "markdown",
   "metadata": {},
   "source": [
    "### Servicio de internet"
   ]
  },
  {
   "cell_type": "code",
   "execution_count": 24,
   "metadata": {},
   "outputs": [
    {
     "data": {
      "text/html": [
       "<div>\n",
       "<style scoped>\n",
       "    .dataframe tbody tr th:only-of-type {\n",
       "        vertical-align: middle;\n",
       "    }\n",
       "\n",
       "    .dataframe tbody tr th {\n",
       "        vertical-align: top;\n",
       "    }\n",
       "\n",
       "    .dataframe thead th {\n",
       "        text-align: right;\n",
       "    }\n",
       "</style>\n",
       "<table border=\"1\" class=\"dataframe\">\n",
       "  <thead>\n",
       "    <tr style=\"text-align: right;\">\n",
       "      <th></th>\n",
       "      <th>customerID</th>\n",
       "      <th>InternetService</th>\n",
       "      <th>OnlineSecurity</th>\n",
       "      <th>OnlineBackup</th>\n",
       "      <th>DeviceProtection</th>\n",
       "      <th>TechSupport</th>\n",
       "      <th>StreamingTV</th>\n",
       "      <th>StreamingMovies</th>\n",
       "    </tr>\n",
       "  </thead>\n",
       "  <tbody>\n",
       "    <tr>\n",
       "      <th>0</th>\n",
       "      <td>7590-VHVEG</td>\n",
       "      <td>DSL</td>\n",
       "      <td>No</td>\n",
       "      <td>Yes</td>\n",
       "      <td>No</td>\n",
       "      <td>No</td>\n",
       "      <td>No</td>\n",
       "      <td>No</td>\n",
       "    </tr>\n",
       "    <tr>\n",
       "      <th>1</th>\n",
       "      <td>5575-GNVDE</td>\n",
       "      <td>DSL</td>\n",
       "      <td>Yes</td>\n",
       "      <td>No</td>\n",
       "      <td>Yes</td>\n",
       "      <td>No</td>\n",
       "      <td>No</td>\n",
       "      <td>No</td>\n",
       "    </tr>\n",
       "    <tr>\n",
       "      <th>2</th>\n",
       "      <td>3668-QPYBK</td>\n",
       "      <td>DSL</td>\n",
       "      <td>Yes</td>\n",
       "      <td>Yes</td>\n",
       "      <td>No</td>\n",
       "      <td>No</td>\n",
       "      <td>No</td>\n",
       "      <td>No</td>\n",
       "    </tr>\n",
       "    <tr>\n",
       "      <th>3</th>\n",
       "      <td>7795-CFOCW</td>\n",
       "      <td>DSL</td>\n",
       "      <td>Yes</td>\n",
       "      <td>No</td>\n",
       "      <td>Yes</td>\n",
       "      <td>Yes</td>\n",
       "      <td>No</td>\n",
       "      <td>No</td>\n",
       "    </tr>\n",
       "    <tr>\n",
       "      <th>4</th>\n",
       "      <td>9237-HQITU</td>\n",
       "      <td>Fiber optic</td>\n",
       "      <td>No</td>\n",
       "      <td>No</td>\n",
       "      <td>No</td>\n",
       "      <td>No</td>\n",
       "      <td>No</td>\n",
       "      <td>No</td>\n",
       "    </tr>\n",
       "  </tbody>\n",
       "</table>\n",
       "</div>"
      ],
      "text/plain": [
       "   customerID InternetService OnlineSecurity OnlineBackup DeviceProtection  \\\n",
       "0  7590-VHVEG             DSL             No          Yes               No   \n",
       "1  5575-GNVDE             DSL            Yes           No              Yes   \n",
       "2  3668-QPYBK             DSL            Yes          Yes               No   \n",
       "3  7795-CFOCW             DSL            Yes           No              Yes   \n",
       "4  9237-HQITU     Fiber optic             No           No               No   \n",
       "\n",
       "  TechSupport StreamingTV StreamingMovies  \n",
       "0          No          No              No  \n",
       "1          No          No              No  \n",
       "2          No          No              No  \n",
       "3         Yes          No              No  \n",
       "4          No          No              No  "
      ]
     },
     "execution_count": 24,
     "metadata": {},
     "output_type": "execute_result"
    }
   ],
   "source": [
    "df_internet.head()"
   ]
  },
  {
   "cell_type": "code",
   "execution_count": 25,
   "metadata": {},
   "outputs": [
    {
     "name": "stdout",
     "output_type": "stream",
     "text": [
      "<class 'pandas.core.frame.DataFrame'>\n",
      "RangeIndex: 5517 entries, 0 to 5516\n",
      "Data columns (total 8 columns):\n",
      " #   Column            Non-Null Count  Dtype \n",
      "---  ------            --------------  ----- \n",
      " 0   customerID        5517 non-null   object\n",
      " 1   InternetService   5517 non-null   object\n",
      " 2   OnlineSecurity    5517 non-null   object\n",
      " 3   OnlineBackup      5517 non-null   object\n",
      " 4   DeviceProtection  5517 non-null   object\n",
      " 5   TechSupport       5517 non-null   object\n",
      " 6   StreamingTV       5517 non-null   object\n",
      " 7   StreamingMovies   5517 non-null   object\n",
      "dtypes: object(8)\n",
      "memory usage: 344.9+ KB\n"
     ]
    }
   ],
   "source": [
    "df_internet.info()"
   ]
  },
  {
   "cell_type": "code",
   "execution_count": 26,
   "metadata": {},
   "outputs": [
    {
     "data": {
      "text/plain": [
       "0"
      ]
     },
     "execution_count": 26,
     "metadata": {},
     "output_type": "execute_result"
    }
   ],
   "source": [
    "df_internet.duplicated().sum()"
   ]
  },
  {
   "cell_type": "code",
   "execution_count": 27,
   "metadata": {},
   "outputs": [
    {
     "data": {
      "text/plain": [
       "InternetService\n",
       "Fiber optic    3096\n",
       "DSL            2421\n",
       "Name: count, dtype: int64"
      ]
     },
     "execution_count": 27,
     "metadata": {},
     "output_type": "execute_result"
    }
   ],
   "source": [
    "df_internet['InternetService'].value_counts()"
   ]
  },
  {
   "cell_type": "markdown",
   "metadata": {},
   "source": [
    "* No hay datos ausentes ni duplicados. Solo hay que cambiar el nombre de las columnas."
   ]
  },
  {
   "cell_type": "code",
   "execution_count": 20,
   "metadata": {},
   "outputs": [],
   "source": [
    "df_internet.columns = (df_internet.columns.str.replace(r'(?<!^)(?=[A-Z])', '_', regex=True).str.lower())\n",
    "df_internet.rename(columns={\"customer_i_d\": \"customer_id\", \"streaming_t_v\": \"streaming_tv\" }, inplace=True)"
   ]
  },
  {
   "cell_type": "code",
   "execution_count": 29,
   "metadata": {},
   "outputs": [
    {
     "data": {
      "text/plain": [
       "Index(['customer_id', 'internet_service', 'online_security', 'online_backup',\n",
       "       'device_protection', 'tech_support', 'streaming_tv',\n",
       "       'streaming_movies'],\n",
       "      dtype='object')"
      ]
     },
     "execution_count": 29,
     "metadata": {},
     "output_type": "execute_result"
    }
   ],
   "source": [
    "df_internet.columns"
   ]
  },
  {
   "cell_type": "code",
   "execution_count": 30,
   "metadata": {},
   "outputs": [
    {
     "data": {
      "image/png": "[encoded data removed]",
      "text/plain": [
       "<Figure size 800x800 with 7 Axes>"
      ]
     },
     "metadata": {},
     "output_type": "display_data"
    }
   ],
   "source": [
    "cat_var =  ['internet_service', 'online_security', 'online_backup', 'device_protection', \n",
    "            'tech_support', 'streaming_tv','streaming_movies']\n",
    "\n",
    "for i, var in enumerate(cat_var):\n",
    "    plt.subplot(3,3, i+1)\n",
    "    df_internet[var].value_counts().plot.pie(fontsize=10, figsize=(8, 8), autopct=\"%.1f\")\n",
    "    plt.gca().set_aspect('equal')\n",
    "\n",
    "plt.show()"
   ]
  },
  {
   "cell_type": "markdown",
   "metadata": {},
   "source": [
    "* Se puede decir que más de la mitas de los clientes si contratan o contraton los servicios de internet y prefieren más la fibra óptica.\n",
    "* Los serviciso de streaming no tienen mucho diferencia. "
   ]
  },
  {
   "cell_type": "markdown",
   "metadata": {},
   "source": [
    "### Datos personales de los clientes"
   ]
  },
  {
   "cell_type": "code",
   "execution_count": 31,
   "metadata": {},
   "outputs": [
    {
     "data": {
      "text/html": [
       "<div>\n",
       "<style scoped>\n",
       "    .dataframe tbody tr th:only-of-type {\n",
       "        vertical-align: middle;\n",
       "    }\n",
       "\n",
       "    .dataframe tbody tr th {\n",
       "        vertical-align: top;\n",
       "    }\n",
       "\n",
       "    .dataframe thead th {\n",
       "        text-align: right;\n",
       "    }\n",
       "</style>\n",
       "<table border=\"1\" class=\"dataframe\">\n",
       "  <thead>\n",
       "    <tr style=\"text-align: right;\">\n",
       "      <th></th>\n",
       "      <th>customerID</th>\n",
       "      <th>gender</th>\n",
       "      <th>SeniorCitizen</th>\n",
       "      <th>Partner</th>\n",
       "      <th>Dependents</th>\n",
       "    </tr>\n",
       "  </thead>\n",
       "  <tbody>\n",
       "    <tr>\n",
       "      <th>0</th>\n",
       "      <td>7590-VHVEG</td>\n",
       "      <td>Female</td>\n",
       "      <td>0</td>\n",
       "      <td>Yes</td>\n",
       "      <td>No</td>\n",
       "    </tr>\n",
       "    <tr>\n",
       "      <th>1</th>\n",
       "      <td>5575-GNVDE</td>\n",
       "      <td>Male</td>\n",
       "      <td>0</td>\n",
       "      <td>No</td>\n",
       "      <td>No</td>\n",
       "    </tr>\n",
       "    <tr>\n",
       "      <th>2</th>\n",
       "      <td>3668-QPYBK</td>\n",
       "      <td>Male</td>\n",
       "      <td>0</td>\n",
       "      <td>No</td>\n",
       "      <td>No</td>\n",
       "    </tr>\n",
       "    <tr>\n",
       "      <th>3</th>\n",
       "      <td>7795-CFOCW</td>\n",
       "      <td>Male</td>\n",
       "      <td>0</td>\n",
       "      <td>No</td>\n",
       "      <td>No</td>\n",
       "    </tr>\n",
       "    <tr>\n",
       "      <th>4</th>\n",
       "      <td>9237-HQITU</td>\n",
       "      <td>Female</td>\n",
       "      <td>0</td>\n",
       "      <td>No</td>\n",
       "      <td>No</td>\n",
       "    </tr>\n",
       "  </tbody>\n",
       "</table>\n",
       "</div>"
      ],
      "text/plain": [
       "   customerID  gender  SeniorCitizen Partner Dependents\n",
       "0  7590-VHVEG  Female              0     Yes         No\n",
       "1  5575-GNVDE    Male              0      No         No\n",
       "2  3668-QPYBK    Male              0      No         No\n",
       "3  7795-CFOCW    Male              0      No         No\n",
       "4  9237-HQITU  Female              0      No         No"
      ]
     },
     "execution_count": 31,
     "metadata": {},
     "output_type": "execute_result"
    }
   ],
   "source": [
    "df_personal.head()"
   ]
  },
  {
   "cell_type": "code",
   "execution_count": 32,
   "metadata": {},
   "outputs": [
    {
     "name": "stdout",
     "output_type": "stream",
     "text": [
      "<class 'pandas.core.frame.DataFrame'>\n",
      "RangeIndex: 7043 entries, 0 to 7042\n",
      "Data columns (total 5 columns):\n",
      " #   Column         Non-Null Count  Dtype \n",
      "---  ------         --------------  ----- \n",
      " 0   customerID     7043 non-null   object\n",
      " 1   gender         7043 non-null   object\n",
      " 2   SeniorCitizen  7043 non-null   int64 \n",
      " 3   Partner        7043 non-null   object\n",
      " 4   Dependents     7043 non-null   object\n",
      "dtypes: int64(1), object(4)\n",
      "memory usage: 275.2+ KB\n"
     ]
    }
   ],
   "source": [
    "df_personal.info()"
   ]
  },
  {
   "cell_type": "code",
   "execution_count": 33,
   "metadata": {},
   "outputs": [
    {
     "data": {
      "text/plain": [
       "SeniorCitizen\n",
       "0    5901\n",
       "1    1142\n",
       "Name: count, dtype: int64"
      ]
     },
     "execution_count": 33,
     "metadata": {},
     "output_type": "execute_result"
    }
   ],
   "source": [
    "df_personal['SeniorCitizen'].value_counts()"
   ]
  },
  {
   "cell_type": "markdown",
   "metadata": {},
   "source": [
    "* No Hay datos ausentes ni duplicados.\n",
    "* Cambio de nombre de columnas"
   ]
  },
  {
   "cell_type": "code",
   "execution_count": 21,
   "metadata": {},
   "outputs": [],
   "source": [
    "df_personal.columns = (df_personal.columns.str.replace(r'(?<!^)(?=[A-Z])', '_', regex=True).str.lower())\n",
    "df_personal.rename(columns={\"customer_i_d\": \"customer_id\"}, inplace=True)"
   ]
  },
  {
   "cell_type": "code",
   "execution_count": 35,
   "metadata": {},
   "outputs": [
    {
     "data": {
      "text/plain": [
       "Index(['customer_id', 'gender', 'senior_citizen', 'partner', 'dependents'], dtype='object')"
      ]
     },
     "execution_count": 35,
     "metadata": {},
     "output_type": "execute_result"
    }
   ],
   "source": [
    "df_personal.columns"
   ]
  },
  {
   "cell_type": "code",
   "execution_count": 36,
   "metadata": {},
   "outputs": [
    {
     "data": {
      "image/png": "[encoded data removed]",
      "text/plain": [
       "<Figure size 1200x1200 with 4 Axes>"
      ]
     },
     "metadata": {},
     "output_type": "display_data"
    }
   ],
   "source": [
    "cat_var =  ['gender', 'senior_citizen', 'partner', 'dependents']\n",
    "\n",
    "for i, var in enumerate(cat_var):\n",
    "    plt.subplot(1, len(cat_var), i+1)\n",
    "    df_personal[var].value_counts().plot.pie(fontsize=10, figsize=(12,12), autopct=\"%.1f\")\n",
    "    plt.gca().set_aspect('equal')\n",
    "\n",
    "plt.show()"
   ]
  },
  {
   "cell_type": "markdown",
   "metadata": {},
   "source": [
    "* La myoría de clientes no son jubilados y no tienen familiares dependientes.\n",
    "* Se distribuye en casi igual proporción hombre y mujeres y los que tienen pareja."
   ]
  },
  {
   "cell_type": "markdown",
   "metadata": {},
   "source": [
    "### Servicio de teléfono"
   ]
  },
  {
   "cell_type": "code",
   "execution_count": 37,
   "metadata": {},
   "outputs": [
    {
     "data": {
      "text/html": [
       "<div>\n",
       "<style scoped>\n",
       "    .dataframe tbody tr th:only-of-type {\n",
       "        vertical-align: middle;\n",
       "    }\n",
       "\n",
       "    .dataframe tbody tr th {\n",
       "        vertical-align: top;\n",
       "    }\n",
       "\n",
       "    .dataframe thead th {\n",
       "        text-align: right;\n",
       "    }\n",
       "</style>\n",
       "<table border=\"1\" class=\"dataframe\">\n",
       "  <thead>\n",
       "    <tr style=\"text-align: right;\">\n",
       "      <th></th>\n",
       "      <th>customerID</th>\n",
       "      <th>MultipleLines</th>\n",
       "    </tr>\n",
       "  </thead>\n",
       "  <tbody>\n",
       "    <tr>\n",
       "      <th>0</th>\n",
       "      <td>5575-GNVDE</td>\n",
       "      <td>No</td>\n",
       "    </tr>\n",
       "    <tr>\n",
       "      <th>1</th>\n",
       "      <td>3668-QPYBK</td>\n",
       "      <td>No</td>\n",
       "    </tr>\n",
       "    <tr>\n",
       "      <th>2</th>\n",
       "      <td>9237-HQITU</td>\n",
       "      <td>No</td>\n",
       "    </tr>\n",
       "    <tr>\n",
       "      <th>3</th>\n",
       "      <td>9305-CDSKC</td>\n",
       "      <td>Yes</td>\n",
       "    </tr>\n",
       "    <tr>\n",
       "      <th>4</th>\n",
       "      <td>1452-KIOVK</td>\n",
       "      <td>Yes</td>\n",
       "    </tr>\n",
       "  </tbody>\n",
       "</table>\n",
       "</div>"
      ],
      "text/plain": [
       "   customerID MultipleLines\n",
       "0  5575-GNVDE            No\n",
       "1  3668-QPYBK            No\n",
       "2  9237-HQITU            No\n",
       "3  9305-CDSKC           Yes\n",
       "4  1452-KIOVK           Yes"
      ]
     },
     "execution_count": 37,
     "metadata": {},
     "output_type": "execute_result"
    }
   ],
   "source": [
    "df_phone.head()"
   ]
  },
  {
   "cell_type": "code",
   "execution_count": 38,
   "metadata": {},
   "outputs": [
    {
     "name": "stdout",
     "output_type": "stream",
     "text": [
      "<class 'pandas.core.frame.DataFrame'>\n",
      "RangeIndex: 6361 entries, 0 to 6360\n",
      "Data columns (total 2 columns):\n",
      " #   Column         Non-Null Count  Dtype \n",
      "---  ------         --------------  ----- \n",
      " 0   customerID     6361 non-null   object\n",
      " 1   MultipleLines  6361 non-null   object\n",
      "dtypes: object(2)\n",
      "memory usage: 99.5+ KB\n"
     ]
    }
   ],
   "source": [
    "df_phone.info()"
   ]
  },
  {
   "cell_type": "code",
   "execution_count": 39,
   "metadata": {},
   "outputs": [
    {
     "data": {
      "text/plain": [
       "0"
      ]
     },
     "execution_count": 39,
     "metadata": {},
     "output_type": "execute_result"
    }
   ],
   "source": [
    "df_phone.duplicated().sum()"
   ]
  },
  {
   "cell_type": "code",
   "execution_count": 40,
   "metadata": {},
   "outputs": [
    {
     "data": {
      "text/plain": [
       "MultipleLines\n",
       "No     3390\n",
       "Yes    2971\n",
       "Name: count, dtype: int64"
      ]
     },
     "execution_count": 40,
     "metadata": {},
     "output_type": "execute_result"
    }
   ],
   "source": [
    "df_phone['MultipleLines'].value_counts()"
   ]
  },
  {
   "cell_type": "markdown",
   "metadata": {},
   "source": [
    "* No hay datos ausentes o suplicados.\n",
    "* Cambio de nombre de columnas."
   ]
  },
  {
   "cell_type": "code",
   "execution_count": 22,
   "metadata": {},
   "outputs": [],
   "source": [
    "df_phone.rename(columns={\"customerID\": \"customer_id\", \"MultipleLines\": \"multiple_lines\"}, inplace=True)"
   ]
  },
  {
   "cell_type": "code",
   "execution_count": 42,
   "metadata": {},
   "outputs": [
    {
     "data": {
      "image/png": "[encoded data removed]",
      "text/plain": [
       "<Figure size 300x300 with 1 Axes>"
      ]
     },
     "metadata": {},
     "output_type": "display_data"
    }
   ],
   "source": [
    "df_phone['multiple_lines'].value_counts().plot.pie(fontsize=10, figsize=(3,3), autopct=\"%.1f\")\n",
    "\n",
    "plt.show()"
   ]
  },
  {
   "cell_type": "markdown",
   "metadata": {},
   "source": [
    "* Hay una diferencia de 7 puntos entre los que tienen el servicio de multiples lineas."
   ]
  },
  {
   "cell_type": "markdown",
   "metadata": {},
   "source": [
    "## Análisis exploratorio de datos"
   ]
  },
  {
   "cell_type": "markdown",
   "metadata": {},
   "source": [
    "* Para el análisis exploratorio se unirán las tablas por medio de la columna de código de clientes."
   ]
  },
  {
   "cell_type": "code",
   "execution_count": 23,
   "metadata": {},
   "outputs": [
    {
     "data": {
      "text/html": [
       "<div>\n",
       "<style scoped>\n",
       "    .dataframe tbody tr th:only-of-type {\n",
       "        vertical-align: middle;\n",
       "    }\n",
       "\n",
       "    .dataframe tbody tr th {\n",
       "        vertical-align: top;\n",
       "    }\n",
       "\n",
       "    .dataframe thead th {\n",
       "        text-align: right;\n",
       "    }\n",
       "</style>\n",
       "<table border=\"1\" class=\"dataframe\">\n",
       "  <thead>\n",
       "    <tr style=\"text-align: right;\">\n",
       "      <th></th>\n",
       "      <th>customer_id</th>\n",
       "      <th>begin_date</th>\n",
       "      <th>end_date</th>\n",
       "      <th>type</th>\n",
       "      <th>paperless_billing</th>\n",
       "      <th>payment_method</th>\n",
       "      <th>monthly_charges</th>\n",
       "      <th>total_charges</th>\n",
       "      <th>internet_service</th>\n",
       "      <th>online_security</th>\n",
       "      <th>online_backup</th>\n",
       "      <th>device_protection</th>\n",
       "      <th>tech_support</th>\n",
       "      <th>streaming_tv</th>\n",
       "      <th>streaming_movies</th>\n",
       "      <th>gender</th>\n",
       "      <th>senior_citizen</th>\n",
       "      <th>partner</th>\n",
       "      <th>dependents</th>\n",
       "      <th>multiple_lines</th>\n",
       "    </tr>\n",
       "  </thead>\n",
       "  <tbody>\n",
       "    <tr>\n",
       "      <th>0</th>\n",
       "      <td>7590-VHVEG</td>\n",
       "      <td>2020-01-01</td>\n",
       "      <td>No</td>\n",
       "      <td>Month-to-month</td>\n",
       "      <td>Yes</td>\n",
       "      <td>Electronic check</td>\n",
       "      <td>29.85</td>\n",
       "      <td>29.85</td>\n",
       "      <td>DSL</td>\n",
       "      <td>No</td>\n",
       "      <td>Yes</td>\n",
       "      <td>No</td>\n",
       "      <td>No</td>\n",
       "      <td>No</td>\n",
       "      <td>No</td>\n",
       "      <td>Female</td>\n",
       "      <td>0</td>\n",
       "      <td>Yes</td>\n",
       "      <td>No</td>\n",
       "      <td>NaN</td>\n",
       "    </tr>\n",
       "    <tr>\n",
       "      <th>1</th>\n",
       "      <td>5575-GNVDE</td>\n",
       "      <td>2017-04-01</td>\n",
       "      <td>No</td>\n",
       "      <td>One year</td>\n",
       "      <td>No</td>\n",
       "      <td>Mailed check</td>\n",
       "      <td>56.95</td>\n",
       "      <td>1889.50</td>\n",
       "      <td>DSL</td>\n",
       "      <td>Yes</td>\n",
       "      <td>No</td>\n",
       "      <td>Yes</td>\n",
       "      <td>No</td>\n",
       "      <td>No</td>\n",
       "      <td>No</td>\n",
       "      <td>Male</td>\n",
       "      <td>0</td>\n",
       "      <td>No</td>\n",
       "      <td>No</td>\n",
       "      <td>No</td>\n",
       "    </tr>\n",
       "    <tr>\n",
       "      <th>2</th>\n",
       "      <td>3668-QPYBK</td>\n",
       "      <td>2019-10-01</td>\n",
       "      <td>2019-12-01 00:00:00</td>\n",
       "      <td>Month-to-month</td>\n",
       "      <td>Yes</td>\n",
       "      <td>Mailed check</td>\n",
       "      <td>53.85</td>\n",
       "      <td>108.15</td>\n",
       "      <td>DSL</td>\n",
       "      <td>Yes</td>\n",
       "      <td>Yes</td>\n",
       "      <td>No</td>\n",
       "      <td>No</td>\n",
       "      <td>No</td>\n",
       "      <td>No</td>\n",
       "      <td>Male</td>\n",
       "      <td>0</td>\n",
       "      <td>No</td>\n",
       "      <td>No</td>\n",
       "      <td>No</td>\n",
       "    </tr>\n",
       "    <tr>\n",
       "      <th>3</th>\n",
       "      <td>7795-CFOCW</td>\n",
       "      <td>2016-05-01</td>\n",
       "      <td>No</td>\n",
       "      <td>One year</td>\n",
       "      <td>No</td>\n",
       "      <td>Bank transfer (automatic)</td>\n",
       "      <td>42.30</td>\n",
       "      <td>1840.75</td>\n",
       "      <td>DSL</td>\n",
       "      <td>Yes</td>\n",
       "      <td>No</td>\n",
       "      <td>Yes</td>\n",
       "      <td>Yes</td>\n",
       "      <td>No</td>\n",
       "      <td>No</td>\n",
       "      <td>Male</td>\n",
       "      <td>0</td>\n",
       "      <td>No</td>\n",
       "      <td>No</td>\n",
       "      <td>NaN</td>\n",
       "    </tr>\n",
       "    <tr>\n",
       "      <th>4</th>\n",
       "      <td>9237-HQITU</td>\n",
       "      <td>2019-09-01</td>\n",
       "      <td>2019-11-01 00:00:00</td>\n",
       "      <td>Month-to-month</td>\n",
       "      <td>Yes</td>\n",
       "      <td>Electronic check</td>\n",
       "      <td>70.70</td>\n",
       "      <td>151.65</td>\n",
       "      <td>Fiber optic</td>\n",
       "      <td>No</td>\n",
       "      <td>No</td>\n",
       "      <td>No</td>\n",
       "      <td>No</td>\n",
       "      <td>No</td>\n",
       "      <td>No</td>\n",
       "      <td>Female</td>\n",
       "      <td>0</td>\n",
       "      <td>No</td>\n",
       "      <td>No</td>\n",
       "      <td>No</td>\n",
       "    </tr>\n",
       "  </tbody>\n",
       "</table>\n",
       "</div>"
      ],
      "text/plain": [
       "  customer_id begin_date             end_date            type  \\\n",
       "0  7590-VHVEG 2020-01-01                   No  Month-to-month   \n",
       "1  5575-GNVDE 2017-04-01                   No        One year   \n",
       "2  3668-QPYBK 2019-10-01  2019-12-01 00:00:00  Month-to-month   \n",
       "3  7795-CFOCW 2016-05-01                   No        One year   \n",
       "4  9237-HQITU 2019-09-01  2019-11-01 00:00:00  Month-to-month   \n",
       "\n",
       "  paperless_billing             payment_method  monthly_charges  \\\n",
       "0               Yes           Electronic check            29.85   \n",
       "1                No               Mailed check            56.95   \n",
       "2               Yes               Mailed check            53.85   \n",
       "3                No  Bank transfer (automatic)            42.30   \n",
       "4               Yes           Electronic check            70.70   \n",
       "\n",
       "   total_charges internet_service online_security online_backup  \\\n",
       "0          29.85              DSL              No           Yes   \n",
       "1        1889.50              DSL             Yes            No   \n",
       "2         108.15              DSL             Yes           Yes   \n",
       "3        1840.75              DSL             Yes            No   \n",
       "4         151.65      Fiber optic              No            No   \n",
       "\n",
       "  device_protection tech_support streaming_tv streaming_movies  gender  \\\n",
       "0                No           No           No               No  Female   \n",
       "1               Yes           No           No               No    Male   \n",
       "2                No           No           No               No    Male   \n",
       "3               Yes          Yes           No               No    Male   \n",
       "4                No           No           No               No  Female   \n",
       "\n",
       "   senior_citizen partner dependents multiple_lines  \n",
       "0               0     Yes         No            NaN  \n",
       "1               0      No         No             No  \n",
       "2               0      No         No             No  \n",
       "3               0      No         No            NaN  \n",
       "4               0      No         No             No  "
      ]
     },
     "execution_count": 23,
     "metadata": {},
     "output_type": "execute_result"
    }
   ],
   "source": [
    "df_provider = df_contract.merge(df_internet, on='customer_id', how='left')\n",
    "df_provider = df_provider.merge(df_personal, on='customer_id', how='left')\n",
    "df_provider = df_provider.merge(df_phone, on='customer_id', how='left')\n",
    "df_provider.head()"
   ]
  },
  {
   "cell_type": "code",
   "execution_count": 44,
   "metadata": {},
   "outputs": [
    {
     "data": {
      "text/html": [
       "<div>\n",
       "<style scoped>\n",
       "    .dataframe tbody tr th:only-of-type {\n",
       "        vertical-align: middle;\n",
       "    }\n",
       "\n",
       "    .dataframe tbody tr th {\n",
       "        vertical-align: top;\n",
       "    }\n",
       "\n",
       "    .dataframe thead th {\n",
       "        text-align: right;\n",
       "    }\n",
       "</style>\n",
       "<table border=\"1\" class=\"dataframe\">\n",
       "  <thead>\n",
       "    <tr style=\"text-align: right;\">\n",
       "      <th></th>\n",
       "      <th>customer_id</th>\n",
       "      <th>begin_date</th>\n",
       "      <th>end_date</th>\n",
       "      <th>type</th>\n",
       "      <th>paperless_billing</th>\n",
       "      <th>payment_method</th>\n",
       "      <th>monthly_charges</th>\n",
       "      <th>total_charges</th>\n",
       "      <th>internet_service</th>\n",
       "      <th>online_security</th>\n",
       "      <th>online_backup</th>\n",
       "      <th>device_protection</th>\n",
       "      <th>tech_support</th>\n",
       "      <th>streaming_tv</th>\n",
       "      <th>streaming_movies</th>\n",
       "      <th>gender</th>\n",
       "      <th>senior_citizen</th>\n",
       "      <th>partner</th>\n",
       "      <th>dependents</th>\n",
       "      <th>multiple_lines</th>\n",
       "    </tr>\n",
       "  </thead>\n",
       "  <tbody>\n",
       "  </tbody>\n",
       "</table>\n",
       "</div>"
      ],
      "text/plain": [
       "Empty DataFrame\n",
       "Columns: [customer_id, begin_date, end_date, type, paperless_billing, payment_method, monthly_charges, total_charges, internet_service, online_security, online_backup, device_protection, tech_support, streaming_tv, streaming_movies, gender, senior_citizen, partner, dependents, multiple_lines]\n",
       "Index: []"
      ]
     },
     "execution_count": 44,
     "metadata": {},
     "output_type": "execute_result"
    }
   ],
   "source": [
    "filter = df_provider.query(\"internet_service.isna() and multiple_lines.isna()\")\n",
    "filter"
   ]
  },
  {
   "cell_type": "markdown",
   "metadata": {},
   "source": [
    "* No hay clientes que no hayan tenido o no tienen contratos."
   ]
  },
  {
   "cell_type": "markdown",
   "metadata": {},
   "source": [
    "Nuestro objetivo será si los clientes que han cancelado su contrato por lo que creará una columna con la información de end_date."
   ]
  },
  {
   "cell_type": "code",
   "execution_count": 24,
   "metadata": {},
   "outputs": [],
   "source": [
    "df_provider['cancel'] = np.where(df_provider['end_date'] == 'No', 0, 1)"
   ]
  },
  {
   "cell_type": "code",
   "execution_count": 46,
   "metadata": {},
   "outputs": [
    {
     "data": {
      "text/plain": [
       "cancel\n",
       "0    5163\n",
       "1    1869\n",
       "Name: count, dtype: int64"
      ]
     },
     "execution_count": 46,
     "metadata": {},
     "output_type": "execute_result"
    }
   ],
   "source": [
    "df_provider['cancel'].value_counts()"
   ]
  },
  {
   "cell_type": "markdown",
   "metadata": {},
   "source": [
    "También se creará nuevas columnas para el año y mes en que los clientes empezaron, por lo que se segmentará 'begin_date' para el modelo."
   ]
  },
  {
   "cell_type": "code",
   "execution_count": 25,
   "metadata": {},
   "outputs": [],
   "source": [
    "df_provider['begin_year'] = df_provider['begin_date'].dt.year\n",
    "df_provider['begin_month'] = df_provider['begin_date'].dt.month"
   ]
  },
  {
   "cell_type": "markdown",
   "metadata": {},
   "source": [
    "Llenaremos los datos ausentes de las columnas con 'no_plan' ya que estos clientes no tienen plan en ese servicio."
   ]
  },
  {
   "cell_type": "code",
   "execution_count": 26,
   "metadata": {},
   "outputs": [
    {
     "name": "stdout",
     "output_type": "stream",
     "text": [
      "<class 'pandas.core.frame.DataFrame'>\n",
      "RangeIndex: 7032 entries, 0 to 7031\n",
      "Data columns (total 23 columns):\n",
      " #   Column             Non-Null Count  Dtype         \n",
      "---  ------             --------------  -----         \n",
      " 0   customer_id        7032 non-null   object        \n",
      " 1   begin_date         7032 non-null   datetime64[ns]\n",
      " 2   end_date           7032 non-null   object        \n",
      " 3   type               7032 non-null   object        \n",
      " 4   paperless_billing  7032 non-null   object        \n",
      " 5   payment_method     7032 non-null   object        \n",
      " 6   monthly_charges    7032 non-null   float64       \n",
      " 7   total_charges      7032 non-null   float64       \n",
      " 8   internet_service   7032 non-null   object        \n",
      " 9   online_security    7032 non-null   object        \n",
      " 10  online_backup      7032 non-null   object        \n",
      " 11  device_protection  7032 non-null   object        \n",
      " 12  tech_support       7032 non-null   object        \n",
      " 13  streaming_tv       7032 non-null   object        \n",
      " 14  streaming_movies   7032 non-null   object        \n",
      " 15  gender             7032 non-null   object        \n",
      " 16  senior_citizen     7032 non-null   int64         \n",
      " 17  partner            7032 non-null   object        \n",
      " 18  dependents         7032 non-null   object        \n",
      " 19  multiple_lines     7032 non-null   object        \n",
      " 20  cancel             7032 non-null   int32         \n",
      " 21  begin_year         7032 non-null   int32         \n",
      " 22  begin_month        7032 non-null   int32         \n",
      "dtypes: datetime64[ns](1), float64(2), int32(3), int64(1), object(16)\n",
      "memory usage: 1.2+ MB\n",
      "None\n"
     ]
    }
   ],
   "source": [
    "df_provider.iloc[: , 8:20] = df_provider.iloc[:, 8:20].fillna('no_plan')\n",
    "\n",
    "print(df_provider.info())"
   ]
  },
  {
   "cell_type": "markdown",
   "metadata": {},
   "source": [
    "### Gráfico de barras"
   ]
  },
  {
   "cell_type": "code",
   "execution_count": 49,
   "metadata": {},
   "outputs": [
    {
     "data": {
      "image/png": "[encoded data removed]",
      "text/plain": [
       "<Figure size 1800x2500 with 18 Axes>"
      ]
     },
     "metadata": {},
     "output_type": "display_data"
    }
   ],
   "source": [
    "categorical_columns = df_provider.drop(['customer_id', 'begin_date', 'monthly_charges', 'total_charges', 'end_date'], axis=1)\n",
    "\n",
    "fig, axs = plt.subplots(6, 3, figsize=(18,25), constrained_layout = True)\n",
    "fig.suptitle(\"Gráfica de barras de características categóricas por cancelación de contrato\", fontsize=25)\n",
    "\n",
    "for column, ax in zip(categorical_columns.columns.drop('cancel'), axs.ravel()):\n",
    "    count_plot = sns.countplot(data=df_provider, \n",
    "                               y=column, \n",
    "                               hue='cancel', \n",
    "                               palette=['palevioletred', 'skyblue'], \n",
    "                               ax=ax)\n",
    "    ax.set_title(f'{column}', fontsize=17)\n",
    "    ax.legend(['No cancelado', 'cancelado'], loc='lower right', fontsize=12)  \n",
    "    \n",
    "plt.show()"
   ]
  },
  {
   "cell_type": "markdown",
   "metadata": {},
   "source": [
    "* Los clientes de mes a mes tienen más probabilidades de cancelar su contrato que los clientes con otros tipos de planes.\n",
    "* Los clientes que pagan con cheques electrónicos tienen más probabilidades de abandonar su cuenta que los clientes que pagan con otros métodos.\n",
    "* Ambos sexos tienen la misma probabilidad de abandonar su cuenta.\n",
    "* Los clientes que no tienen servicios de Internet adicionales generalmente tienen más probabilidades de abandonar su cuenta que los clientes que sí los tienen. Los clientes con 6 servicios de Internet adicionales son los que tienen menos probabilidades de abandonar su cuenta.\n",
    "* Los que tienen cargas familiares son más problables de abandonar su cuenta.\n",
    "* Los que tienen y no tienen multuples lineas son igual de probables de cancelar contratos.\n",
    "* Los clientes que no cuentan con servicios de internet adicionales suelen tener más probabilidades de abandonar el servicio que los clientes que sí los tienen."
   ]
  },
  {
   "cell_type": "code",
   "execution_count": 50,
   "metadata": {},
   "outputs": [
    {
     "data": {
      "image/png": "[encoded data removed]",
      "text/plain": [
       "<Figure size 1400x500 with 1 Axes>"
      ]
     },
     "metadata": {},
     "output_type": "display_data"
    }
   ],
   "source": [
    "cancel_by_date = df_provider.groupby(['begin_date', 'cancel']).size().reset_index().pivot(columns='cancel', index='begin_date', values=0)\n",
    "\n",
    "cancel_by_date.plot(kind='bar', \n",
    "                     stacked=True, \n",
    "                     figsize=(14, 5), \n",
    "                     color=['steelblue', 'darkseagreen'])\n",
    "\n",
    "plt.title('Número de clientes que han cancelado su contrato por fecha de inicio')\n",
    "plt.legend(['No cancelado', 'Cancelado'])\n",
    "\n",
    "plt.show()"
   ]
  },
  {
   "cell_type": "markdown",
   "metadata": {},
   "source": [
    "* Hay datos desde 2013 hasta 2020 de inicios de contratos.\n",
    "* Todos los del 2013 y enero de 2014 abandonaron sus cuentas.\n",
    "* Febrero de 2014 fue el mejor mes para la empresa ya que pocos abandonaron.\n",
    "* Los clientes que iniciaron sus contratos entre 2014 y 2018 no abondaron la empresa.\n",
    "* En 2019 han tenido más clientes pero alrededor de 50% abandonaron su cuenta.\n",
    "* En 2020 no han tenido abandonos.\n",
    "* Los nuevos clientes tienen más probabilidades de irse que los antiguos."
   ]
  },
  {
   "cell_type": "code",
   "execution_count": 51,
   "metadata": {},
   "outputs": [
    {
     "data": {
      "image/png": "[encoded data removed]",
      "text/plain": [
       "<Figure size 800x300 with 2 Axes>"
      ]
     },
     "metadata": {},
     "output_type": "display_data"
    }
   ],
   "source": [
    "numeric_columns = df_provider[['monthly_charges', 'total_charges']]\n",
    "\n",
    "fig, axs = plt.subplots(1, 2, figsize=(8, 3), constrained_layout=True)\n",
    "fig.suptitle('Histogramas de varibles numéricas', fontsize=14)\n",
    "\n",
    "for column, ax in zip(numeric_columns, axs.ravel()):\n",
    "    sns.histplot(df_provider, \n",
    "                 x=column, \n",
    "                 palette=['steelblue', 'orchid'], \n",
    "                 bins=20, \n",
    "                 hue='cancel', \n",
    "                 ax=ax, \n",
    "                 element='poly')\n",
    "    ax.set_title(f'{column}')\n",
    "    ax.legend(labels=['Cancelado', 'No cancelado']) \n",
    "    \n",
    "plt.show()"
   ]
  },
  {
   "cell_type": "markdown",
   "metadata": {},
   "source": [
    "* La distribución de los cargos mensuales tiene un pico grande en 20 entre los que no han cancelado su planes. Se puede decir que la mayoría de los que cancelan sus contratos son los que pagan más de 70.\n",
    "* Los cargos totales están muy sesgados hacia la izquiera, se puede decir que no muchos se han quedado mucho tiempo y que la mayoría de los que no han cancelado no pagan mucho."
   ]
  },
  {
   "cell_type": "markdown",
   "metadata": {},
   "source": [
    "**Preguntas aclaratorias**"
   ]
  },
  {
   "cell_type": "markdown",
   "metadata": {},
   "source": [
    "- ¿Qué tipo de clientes se pueden fugar con mayor probabilidad?\n",
    "- ¿Qué porcentaje de clientes con mayor probabilidad de fuga recibirán una oferta de promoción?\n",
    "- ¿Cuál es el objetivo del modelo?\n",
    "- ¿Qué modelos se utilizaran en el proyecto?\n",
    "- ¿Qué métrica se utilizará para el evaluar el modelo y qué minimo se requiere? "
   ]
  },
  {
   "cell_type": "markdown",
   "metadata": {},
   "source": [
    "**Plan de trabajo**"
   ]
  },
  {
   "cell_type": "markdown",
   "metadata": {},
   "source": [
    "1. Primero se corregirá los tipos de datos y nombres de las columnas y se hará un analisis exploratorio de datos.\n",
    "2. Se investigará las variables categóricas que parecen intuitivamente ser las más importantes a la hora de predecir.\n",
    "4. Se determinará las características y el objetivo para el modelo, y se utilizará la codificación one-hot para transformar variables categóricas y se estandarizará las varibles numéricas\n",
    "4. Se construirá un modelo predictivo, para una tarea de clasificación, empleando algoritmos de aumento de gradiente, específicamente Random Forest, Gradient Boosting. \n",
    "5. Se hará un ajuste de hiperámetros y se evaluará los modelos con la metrica AUC."
   ]
  },
  {
   "cell_type": "markdown",
   "metadata": {},
   "source": [
    "## Preprocesamiento de datos"
   ]
  },
  {
   "cell_type": "code",
   "execution_count": 2,
   "metadata": {},
   "outputs": [],
   "source": [
    "from sklearn.model_selection import train_test_split, cross_validate, GridSearchCV\n",
    "from sklearn.preprocessing import OneHotEncoder, StandardScaler, LabelEncoder\n",
    "from sklearn.compose import make_column_transformer\n",
    "from sklearn.linear_model import LogisticRegression\n",
    "from sklearn.ensemble import RandomForestClassifier\n",
    "from sklearn.metrics import accuracy_score\n",
    "from sklearn.metrics import recall_score\n",
    "from sklearn.pipeline import make_pipeline\n",
    "from sklearn.metrics import f1_score\n",
    "from sklearn.metrics import roc_auc_score\n",
    "from imblearn.pipeline import Pipeline\n",
    "\n",
    "from catboost import CatBoostClassifier\n",
    "\n",
    "from lightgbm import LGBMClassifier\n",
    "\n",
    "from xgboost import XGBClassifier\n",
    "\n",
    "import lightgbm as lgb\n",
    "import xgboost as xgb"
   ]
  },
  {
   "cell_type": "markdown",
   "metadata": {},
   "source": [
    "Se sustituyeron las columnas con dos categorías con 0 y 1."
   ]
  },
  {
   "cell_type": "code",
   "execution_count": 27,
   "metadata": {},
   "outputs": [
    {
     "data": {
      "text/html": [
       "<div>\n",
       "<style scoped>\n",
       "    .dataframe tbody tr th:only-of-type {\n",
       "        vertical-align: middle;\n",
       "    }\n",
       "\n",
       "    .dataframe tbody tr th {\n",
       "        vertical-align: top;\n",
       "    }\n",
       "\n",
       "    .dataframe thead th {\n",
       "        text-align: right;\n",
       "    }\n",
       "</style>\n",
       "<table border=\"1\" class=\"dataframe\">\n",
       "  <thead>\n",
       "    <tr style=\"text-align: right;\">\n",
       "      <th></th>\n",
       "      <th>customer_id</th>\n",
       "      <th>begin_date</th>\n",
       "      <th>end_date</th>\n",
       "      <th>type</th>\n",
       "      <th>paperless_billing</th>\n",
       "      <th>payment_method</th>\n",
       "      <th>monthly_charges</th>\n",
       "      <th>total_charges</th>\n",
       "      <th>internet_service</th>\n",
       "      <th>online_security</th>\n",
       "      <th>...</th>\n",
       "      <th>streaming_tv</th>\n",
       "      <th>streaming_movies</th>\n",
       "      <th>gender</th>\n",
       "      <th>senior_citizen</th>\n",
       "      <th>partner</th>\n",
       "      <th>dependents</th>\n",
       "      <th>multiple_lines</th>\n",
       "      <th>cancel</th>\n",
       "      <th>begin_year</th>\n",
       "      <th>begin_month</th>\n",
       "    </tr>\n",
       "  </thead>\n",
       "  <tbody>\n",
       "    <tr>\n",
       "      <th>0</th>\n",
       "      <td>7590-VHVEG</td>\n",
       "      <td>2020-01-01</td>\n",
       "      <td>No</td>\n",
       "      <td>Month-to-month</td>\n",
       "      <td>1</td>\n",
       "      <td>Electronic check</td>\n",
       "      <td>29.85</td>\n",
       "      <td>29.85</td>\n",
       "      <td>DSL</td>\n",
       "      <td>No</td>\n",
       "      <td>...</td>\n",
       "      <td>No</td>\n",
       "      <td>No</td>\n",
       "      <td>0</td>\n",
       "      <td>0</td>\n",
       "      <td>1</td>\n",
       "      <td>0</td>\n",
       "      <td>no_plan</td>\n",
       "      <td>0</td>\n",
       "      <td>2020</td>\n",
       "      <td>1</td>\n",
       "    </tr>\n",
       "    <tr>\n",
       "      <th>1</th>\n",
       "      <td>5575-GNVDE</td>\n",
       "      <td>2017-04-01</td>\n",
       "      <td>No</td>\n",
       "      <td>One year</td>\n",
       "      <td>0</td>\n",
       "      <td>Mailed check</td>\n",
       "      <td>56.95</td>\n",
       "      <td>1889.50</td>\n",
       "      <td>DSL</td>\n",
       "      <td>Yes</td>\n",
       "      <td>...</td>\n",
       "      <td>No</td>\n",
       "      <td>No</td>\n",
       "      <td>1</td>\n",
       "      <td>0</td>\n",
       "      <td>0</td>\n",
       "      <td>0</td>\n",
       "      <td>No</td>\n",
       "      <td>0</td>\n",
       "      <td>2017</td>\n",
       "      <td>4</td>\n",
       "    </tr>\n",
       "    <tr>\n",
       "      <th>2</th>\n",
       "      <td>3668-QPYBK</td>\n",
       "      <td>2019-10-01</td>\n",
       "      <td>2019-12-01 00:00:00</td>\n",
       "      <td>Month-to-month</td>\n",
       "      <td>1</td>\n",
       "      <td>Mailed check</td>\n",
       "      <td>53.85</td>\n",
       "      <td>108.15</td>\n",
       "      <td>DSL</td>\n",
       "      <td>Yes</td>\n",
       "      <td>...</td>\n",
       "      <td>No</td>\n",
       "      <td>No</td>\n",
       "      <td>1</td>\n",
       "      <td>0</td>\n",
       "      <td>0</td>\n",
       "      <td>0</td>\n",
       "      <td>No</td>\n",
       "      <td>1</td>\n",
       "      <td>2019</td>\n",
       "      <td>10</td>\n",
       "    </tr>\n",
       "    <tr>\n",
       "      <th>3</th>\n",
       "      <td>7795-CFOCW</td>\n",
       "      <td>2016-05-01</td>\n",
       "      <td>No</td>\n",
       "      <td>One year</td>\n",
       "      <td>0</td>\n",
       "      <td>Bank transfer (automatic)</td>\n",
       "      <td>42.30</td>\n",
       "      <td>1840.75</td>\n",
       "      <td>DSL</td>\n",
       "      <td>Yes</td>\n",
       "      <td>...</td>\n",
       "      <td>No</td>\n",
       "      <td>No</td>\n",
       "      <td>1</td>\n",
       "      <td>0</td>\n",
       "      <td>0</td>\n",
       "      <td>0</td>\n",
       "      <td>no_plan</td>\n",
       "      <td>0</td>\n",
       "      <td>2016</td>\n",
       "      <td>5</td>\n",
       "    </tr>\n",
       "    <tr>\n",
       "      <th>4</th>\n",
       "      <td>9237-HQITU</td>\n",
       "      <td>2019-09-01</td>\n",
       "      <td>2019-11-01 00:00:00</td>\n",
       "      <td>Month-to-month</td>\n",
       "      <td>1</td>\n",
       "      <td>Electronic check</td>\n",
       "      <td>70.70</td>\n",
       "      <td>151.65</td>\n",
       "      <td>Fiber optic</td>\n",
       "      <td>No</td>\n",
       "      <td>...</td>\n",
       "      <td>No</td>\n",
       "      <td>No</td>\n",
       "      <td>0</td>\n",
       "      <td>0</td>\n",
       "      <td>0</td>\n",
       "      <td>0</td>\n",
       "      <td>No</td>\n",
       "      <td>1</td>\n",
       "      <td>2019</td>\n",
       "      <td>9</td>\n",
       "    </tr>\n",
       "  </tbody>\n",
       "</table>\n",
       "<p>5 rows × 23 columns</p>\n",
       "</div>"
      ],
      "text/plain": [
       "  customer_id begin_date             end_date            type  \\\n",
       "0  7590-VHVEG 2020-01-01                   No  Month-to-month   \n",
       "1  5575-GNVDE 2017-04-01                   No        One year   \n",
       "2  3668-QPYBK 2019-10-01  2019-12-01 00:00:00  Month-to-month   \n",
       "3  7795-CFOCW 2016-05-01                   No        One year   \n",
       "4  9237-HQITU 2019-09-01  2019-11-01 00:00:00  Month-to-month   \n",
       "\n",
       "   paperless_billing             payment_method  monthly_charges  \\\n",
       "0                  1           Electronic check            29.85   \n",
       "1                  0               Mailed check            56.95   \n",
       "2                  1               Mailed check            53.85   \n",
       "3                  0  Bank transfer (automatic)            42.30   \n",
       "4                  1           Electronic check            70.70   \n",
       "\n",
       "   total_charges internet_service online_security  ... streaming_tv  \\\n",
       "0          29.85              DSL              No  ...           No   \n",
       "1        1889.50              DSL             Yes  ...           No   \n",
       "2         108.15              DSL             Yes  ...           No   \n",
       "3        1840.75              DSL             Yes  ...           No   \n",
       "4         151.65      Fiber optic              No  ...           No   \n",
       "\n",
       "  streaming_movies gender senior_citizen partner  dependents  multiple_lines  \\\n",
       "0               No      0              0       1           0         no_plan   \n",
       "1               No      1              0       0           0              No   \n",
       "2               No      1              0       0           0              No   \n",
       "3               No      1              0       0           0         no_plan   \n",
       "4               No      0              0       0           0              No   \n",
       "\n",
       "   cancel  begin_year begin_month  \n",
       "0       0        2020           1  \n",
       "1       0        2017           4  \n",
       "2       1        2019          10  \n",
       "3       0        2016           5  \n",
       "4       1        2019           9  \n",
       "\n",
       "[5 rows x 23 columns]"
      ]
     },
     "execution_count": 27,
     "metadata": {},
     "output_type": "execute_result"
    }
   ],
   "source": [
    "df_provider['paperless_billing'] = np.where(df_provider['paperless_billing'] == 'Yes', 1, 0)\n",
    "df_provider['gender'] = np.where(df_provider['gender'] == 'Male', 1, 0)\n",
    "df_provider['partner'] = np.where(df_provider['partner'] == 'Yes', 1, 0)\n",
    "df_provider['dependents'] = np.where(df_provider['dependents'] == 'Yes', 1, 0)\n",
    "\n",
    "df_provider.head()"
   ]
  },
  {
   "cell_type": "markdown",
   "metadata": {},
   "source": [
    "Se definieron las columnas de características y el objetivo, y se eliminaron las que no son relevantes para el modelo."
   ]
  },
  {
   "cell_type": "code",
   "execution_count": 28,
   "metadata": {},
   "outputs": [
    {
     "name": "stdout",
     "output_type": "stream",
     "text": [
      "Target:\n",
      "\n",
      "<class 'pandas.core.series.Series'>\n",
      "RangeIndex: 7032 entries, 0 to 7031\n",
      "Series name: cancel\n",
      "Non-Null Count  Dtype\n",
      "--------------  -----\n",
      "7032 non-null   int32\n",
      "dtypes: int32(1)\n",
      "memory usage: 27.6 KB\n",
      "None\n",
      "\n",
      "Features:\n",
      "\n",
      "<class 'pandas.core.frame.DataFrame'>\n",
      "RangeIndex: 7032 entries, 0 to 7031\n",
      "Data columns (total 19 columns):\n",
      " #   Column             Non-Null Count  Dtype  \n",
      "---  ------             --------------  -----  \n",
      " 0   type               7032 non-null   object \n",
      " 1   paperless_billing  7032 non-null   int32  \n",
      " 2   payment_method     7032 non-null   object \n",
      " 3   monthly_charges    7032 non-null   float64\n",
      " 4   total_charges      7032 non-null   float64\n",
      " 5   internet_service   7032 non-null   object \n",
      " 6   online_security    7032 non-null   object \n",
      " 7   online_backup      7032 non-null   object \n",
      " 8   device_protection  7032 non-null   object \n",
      " 9   tech_support       7032 non-null   object \n",
      " 10  streaming_tv       7032 non-null   object \n",
      " 11  streaming_movies   7032 non-null   object \n",
      " 12  gender             7032 non-null   int32  \n",
      " 13  senior_citizen     7032 non-null   int64  \n",
      " 14  partner            7032 non-null   int32  \n",
      " 15  dependents         7032 non-null   int32  \n",
      " 16  multiple_lines     7032 non-null   object \n",
      " 17  begin_year         7032 non-null   int32  \n",
      " 18  begin_month        7032 non-null   int32  \n",
      "dtypes: float64(2), int32(6), int64(1), object(10)\n",
      "memory usage: 879.1+ KB\n",
      "None\n"
     ]
    }
   ],
   "source": [
    "target = df_provider['cancel']\n",
    "features = df_provider.drop(['customer_id', 'begin_date', 'end_date', 'cancel'], axis=1)\n",
    "\n",
    "print('Target:')\n",
    "print()\n",
    "print(target.info())\n",
    "print()\n",
    "print('Features:')\n",
    "print()\n",
    "print(features.info())"
   ]
  },
  {
   "cell_type": "markdown",
   "metadata": {},
   "source": [
    "Se divieron los datos para entrenamiento y para validación."
   ]
  },
  {
   "cell_type": "code",
   "execution_count": 53,
   "metadata": {},
   "outputs": [
    {
     "name": "stdout",
     "output_type": "stream",
     "text": [
      "Features Train Shape: (5274, 19)\n",
      "Features Test Shape: (1758, 19)\n",
      "\n",
      "Target Train Shape: (5274,)\n",
      "Target Test Shape: (1758,)\n"
     ]
    }
   ],
   "source": [
    "X_train, X_test, y_train, y_test = train_test_split(features, target, stratify=target, test_size = 0.25, random_state = 12345)\n",
    "\n",
    "print(f'Features Train Shape: {X_train.shape}')\n",
    "print(f'Features Test Shape: {X_test.shape}')\n",
    "print()\n",
    "print(f'Target Train Shape: {y_train.shape}')\n",
    "print(f'Target Test Shape: {y_test.shape}')"
   ]
  },
  {
   "cell_type": "markdown",
   "metadata": {},
   "source": [
    "Se definieron las columnas que se codificaran con OHE, el tranformador para las pipelines y las métricas"
   ]
  },
  {
   "cell_type": "code",
   "execution_count": 30,
   "metadata": {},
   "outputs": [],
   "source": [
    "# Columnas con más de dos categorías\n",
    "ohe_columns = ['type', 'payment_method', 'internet_service', 'multiple_lines',\n",
    "               'online_security', 'online_backup', 'device_protection',\n",
    "               'tech_support', 'streaming_tv', 'streaming_movies']\n",
    "\n",
    "# Definir los pasos para el pipeline\n",
    "preprocessor = make_column_transformer((OneHotEncoder(drop='first'), ohe_columns),\n",
    "                                       (StandardScaler(), ['monthly_charges', 'begin_month', 'begin_year', 'total_charges']),\n",
    "                                       remainder='passthrough')\n",
    "\n",
    "# Metrícas para el cross-validate and GridSearchCV\n",
    "scorers = {'roc_auc': 'roc_auc',\n",
    "          'accuracy': 'accuracy',\n",
    "          'recall': 'recall',\n",
    "          'f1': 'f1'}"
   ]
  },
  {
   "cell_type": "markdown",
   "metadata": {},
   "source": [
    "Se definieron funciones para mostrat los resultados de las métricas."
   ]
  },
  {
   "cell_type": "code",
   "execution_count": 57,
   "metadata": {},
   "outputs": [],
   "source": [
    "#Función para mostrar las mejores metricas en CV\n",
    "def cv_results(cv_object, main_scorer, *add_scores):\n",
    "    \n",
    "    main_scorer_avg = cv_object[f'test_{main_scorer}'].mean()\n",
    "    results = pd.DataFrame(data={f'{main_scorer}': [main_scorer_avg]})\n",
    "    \n",
    "    for score in add_scores:\n",
    "        score_avg = cv_object[f'test_{score}'].mean()\n",
    "        results[f'{score}'] = score_avg\n",
    "    \n",
    "    return results"
   ]
  },
  {
   "cell_type": "code",
   "execution_count": 43,
   "metadata": {},
   "outputs": [],
   "source": [
    "# Función para mostrar los mejores resultados en gridsearchcv\n",
    "def gscv_results(gscv_object, main_scorer, *add_scores):\n",
    "    \n",
    "    cv_results = pd.DataFrame(gscv_object.cv_results_).sort_values(by=f'mean_test_{main_scorer}', ascending=False)\n",
    "\n",
    "    best_params = gscv_object.best_params_\n",
    "    best_index = gscv_object.best_index_\n",
    "\n",
    "    best_score = gscv_object.best_score_.round(4)\n",
    "    results = pd.DataFrame(data={f'{main_scorer}':[best_score]})\n",
    "    \n",
    "    for score in add_scores:\n",
    "        results[f'{score}'] = cv_results.loc[best_index, f'mean_test_{score}'].round(4)\n",
    "\n",
    "    return best_params, results"
   ]
  },
  {
   "cell_type": "markdown",
   "metadata": {},
   "source": [
    "## Modelamiento "
   ]
  },
  {
   "cell_type": "markdown",
   "metadata": {},
   "source": [
    "### Regresión logística"
   ]
  },
  {
   "cell_type": "markdown",
   "metadata": {},
   "source": [
    "#### Sin equilibrio de clases"
   ]
  },
  {
   "cell_type": "code",
   "execution_count": 175,
   "metadata": {},
   "outputs": [
    {
     "name": "stdout",
     "output_type": "stream",
     "text": [
      "Resultados del modelo de regresión lineal:\n"
     ]
    },
    {
     "data": {
      "text/html": [
       "<div>\n",
       "<style scoped>\n",
       "    .dataframe tbody tr th:only-of-type {\n",
       "        vertical-align: middle;\n",
       "    }\n",
       "\n",
       "    .dataframe tbody tr th {\n",
       "        vertical-align: top;\n",
       "    }\n",
       "\n",
       "    .dataframe thead th {\n",
       "        text-align: right;\n",
       "    }\n",
       "</style>\n",
       "<table border=\"1\" class=\"dataframe\">\n",
       "  <thead>\n",
       "    <tr style=\"text-align: right;\">\n",
       "      <th></th>\n",
       "      <th>roc_auc</th>\n",
       "      <th>accuracy</th>\n",
       "      <th>recall</th>\n",
       "      <th>f1</th>\n",
       "    </tr>\n",
       "  </thead>\n",
       "  <tbody>\n",
       "    <tr>\n",
       "      <th>0</th>\n",
       "      <td>0.84</td>\n",
       "      <td>0.8</td>\n",
       "      <td>0.52</td>\n",
       "      <td>0.58</td>\n",
       "    </tr>\n",
       "  </tbody>\n",
       "</table>\n",
       "</div>"
      ],
      "text/plain": [
       "   roc_auc  accuracy  recall    f1\n",
       "0     0.84       0.8    0.52  0.58"
      ]
     },
     "metadata": {},
     "output_type": "display_data"
    },
    {
     "name": "stdout",
     "output_type": "stream",
     "text": [
      "CPU times: total: 516 ms\n",
      "Wall time: 341 ms\n"
     ]
    }
   ],
   "source": [
    "%%time\n",
    "model_lr = LogisticRegression(solver='liblinear', random_state=123)\n",
    "\n",
    "pipeline = make_pipeline(preprocessor, model_lr)\n",
    "\n",
    "lr_cv = cross_validate(pipeline, X_train, y_train, scoring=scorers, cv=5)\n",
    "\n",
    "lr_results = cv_results(lr_cv, 'roc_auc', 'accuracy', 'recall', 'f1')\n",
    "\n",
    "print('Resultados del modelo de regresión lineal:')\n",
    "display(lr_results.round(2))"
   ]
  },
  {
   "cell_type": "markdown",
   "metadata": {},
   "source": [
    "#### Parámetro class_weight"
   ]
  },
  {
   "cell_type": "code",
   "execution_count": 176,
   "metadata": {},
   "outputs": [
    {
     "name": "stdout",
     "output_type": "stream",
     "text": [
      "Resultados del modelo de regresión lineal con class_weight:\n"
     ]
    },
    {
     "data": {
      "text/html": [
       "<div>\n",
       "<style scoped>\n",
       "    .dataframe tbody tr th:only-of-type {\n",
       "        vertical-align: middle;\n",
       "    }\n",
       "\n",
       "    .dataframe tbody tr th {\n",
       "        vertical-align: top;\n",
       "    }\n",
       "\n",
       "    .dataframe thead th {\n",
       "        text-align: right;\n",
       "    }\n",
       "</style>\n",
       "<table border=\"1\" class=\"dataframe\">\n",
       "  <thead>\n",
       "    <tr style=\"text-align: right;\">\n",
       "      <th></th>\n",
       "      <th>roc_auc</th>\n",
       "      <th>accuracy</th>\n",
       "      <th>recall</th>\n",
       "      <th>f1</th>\n",
       "    </tr>\n",
       "  </thead>\n",
       "  <tbody>\n",
       "    <tr>\n",
       "      <th>0</th>\n",
       "      <td>0.84</td>\n",
       "      <td>0.74</td>\n",
       "      <td>0.79</td>\n",
       "      <td>0.62</td>\n",
       "    </tr>\n",
       "  </tbody>\n",
       "</table>\n",
       "</div>"
      ],
      "text/plain": [
       "   roc_auc  accuracy  recall    f1\n",
       "0     0.84      0.74    0.79  0.62"
      ]
     },
     "metadata": {},
     "output_type": "display_data"
    },
    {
     "name": "stdout",
     "output_type": "stream",
     "text": [
      "CPU times: total: 438 ms\n",
      "Wall time: 327 ms\n"
     ]
    }
   ],
   "source": [
    "%%time\n",
    "model_lr = LogisticRegression( class_weight = 'balanced', solver='liblinear', random_state=12345)\n",
    "\n",
    "pipeline = make_pipeline(preprocessor, model_lr)\n",
    "\n",
    "lr_wc_cv = cross_validate(pipeline, X_train, y_train, scoring=scorers, cv=5)\n",
    "\n",
    "lr_wc_results = cv_results(lr_wc_cv, 'roc_auc', 'accuracy', 'recall', 'f1')\n",
    "\n",
    "print('Resultados del modelo de regresión lineal con class_weight:')\n",
    "display(lr_wc_results.round(2))"
   ]
  },
  {
   "cell_type": "code",
   "execution_count": 179,
   "metadata": {},
   "outputs": [
    {
     "name": "stdout",
     "output_type": "stream",
     "text": [
      "LR Results Summary:\n"
     ]
    },
    {
     "data": {
      "text/html": [
       "<div>\n",
       "<style scoped>\n",
       "    .dataframe tbody tr th:only-of-type {\n",
       "        vertical-align: middle;\n",
       "    }\n",
       "\n",
       "    .dataframe tbody tr th {\n",
       "        vertical-align: top;\n",
       "    }\n",
       "\n",
       "    .dataframe thead th {\n",
       "        text-align: right;\n",
       "    }\n",
       "</style>\n",
       "<table border=\"1\" class=\"dataframe\">\n",
       "  <thead>\n",
       "    <tr style=\"text-align: right;\">\n",
       "      <th></th>\n",
       "      <th>roc_auc</th>\n",
       "      <th>accuracy</th>\n",
       "      <th>recall</th>\n",
       "      <th>f1</th>\n",
       "    </tr>\n",
       "  </thead>\n",
       "  <tbody>\n",
       "    <tr>\n",
       "      <th>LR</th>\n",
       "      <td>0.837</td>\n",
       "      <td>0.798</td>\n",
       "      <td>0.524</td>\n",
       "      <td>0.579</td>\n",
       "    </tr>\n",
       "    <tr>\n",
       "      <th>LR class_weight</th>\n",
       "      <td>0.837</td>\n",
       "      <td>0.742</td>\n",
       "      <td>0.787</td>\n",
       "      <td>0.619</td>\n",
       "    </tr>\n",
       "  </tbody>\n",
       "</table>\n",
       "</div>"
      ],
      "text/plain": [
       "                 roc_auc  accuracy  recall     f1\n",
       "LR                 0.837     0.798   0.524  0.579\n",
       "LR class_weight    0.837     0.742   0.787  0.619"
      ]
     },
     "metadata": {},
     "output_type": "display_data"
    }
   ],
   "source": [
    "lr_table_results = pd.concat([lr_results, lr_wc_results])\n",
    "\n",
    "lr_table_results.index = ['LR', 'LR class_weight']\n",
    "\n",
    "print('LR Results Summary:')\n",
    "display(lr_table_results.sort_values(by='roc_auc', ascending=False).round(3))"
   ]
  },
  {
   "cell_type": "markdown",
   "metadata": {},
   "source": [
    "El resultado fue igual para AUC, sin embargo con el equilibrio de clases mejoró considerablemente la metrica recall y f1."
   ]
  },
  {
   "cell_type": "markdown",
   "metadata": {},
   "source": [
    " ### Bosque Aleatorio"
   ]
  },
  {
   "cell_type": "markdown",
   "metadata": {},
   "source": [
    "#### Sin equilibrio de clases"
   ]
  },
  {
   "cell_type": "code",
   "execution_count": 183,
   "metadata": {},
   "outputs": [
    {
     "name": "stdout",
     "output_type": "stream",
     "text": [
      "CPU times: total: 3min 12s\n",
      "Wall time: 8min 59s\n"
     ]
    }
   ],
   "source": [
    "%%time\n",
    "pipe = make_pipeline(preprocessor, RandomForestClassifier(random_state=12345))\n",
    "\n",
    "grid_param = {\"randomforestclassifier__n_estimators\": [25, 50, 75, 90, 100],\n",
    "              \"randomforestclassifier__max_depth\":[3,4,5,8,15],\n",
    "              \"randomforestclassifier__min_samples_leaf\":[1,2,5,10,15,25,30],\n",
    "              \"randomforestclassifier__max_leaf_nodes\": [2, 5,10]}\n",
    "\n",
    "gridsearch = GridSearchCV(pipe, grid_param, cv=3, scoring=scorers, refit='roc_auc', return_train_score=True,) \n",
    "\n",
    "rf_model = gridsearch.fit(X_train, y_train)"
   ]
  },
  {
   "cell_type": "code",
   "execution_count": 185,
   "metadata": {},
   "outputs": [
    {
     "name": "stdout",
     "output_type": "stream",
     "text": [
      "Mejores parámetros para Random Forest sin equilibrio de clases:\n",
      "{'randomforestclassifier__max_depth': 8, 'randomforestclassifier__max_leaf_nodes': 10, 'randomforestclassifier__min_samples_leaf': 10, 'randomforestclassifier__n_estimators': 25}\n",
      "\n",
      "Mejores resultados para Random Forest sin equilibrio de clases:\n"
     ]
    },
    {
     "data": {
      "text/html": [
       "<div>\n",
       "<style scoped>\n",
       "    .dataframe tbody tr th:only-of-type {\n",
       "        vertical-align: middle;\n",
       "    }\n",
       "\n",
       "    .dataframe tbody tr th {\n",
       "        vertical-align: top;\n",
       "    }\n",
       "\n",
       "    .dataframe thead th {\n",
       "        text-align: right;\n",
       "    }\n",
       "</style>\n",
       "<table border=\"1\" class=\"dataframe\">\n",
       "  <thead>\n",
       "    <tr style=\"text-align: right;\">\n",
       "      <th></th>\n",
       "      <th>roc_auc</th>\n",
       "      <th>accuracy</th>\n",
       "      <th>recall</th>\n",
       "      <th>f1</th>\n",
       "    </tr>\n",
       "  </thead>\n",
       "  <tbody>\n",
       "    <tr>\n",
       "      <th>0</th>\n",
       "      <td>0.8518</td>\n",
       "      <td>0.802</td>\n",
       "      <td>0.4087</td>\n",
       "      <td>0.523</td>\n",
       "    </tr>\n",
       "  </tbody>\n",
       "</table>\n",
       "</div>"
      ],
      "text/plain": [
       "   roc_auc  accuracy  recall     f1\n",
       "0   0.8518     0.802  0.4087  0.523"
      ]
     },
     "metadata": {},
     "output_type": "display_data"
    }
   ],
   "source": [
    "rf_params, rf_results = gscv_results(rf_model, 'roc_auc', 'accuracy', 'recall', 'f1')\n",
    "\n",
    "print('Mejores parámetros para Random Forest sin equilibrio de clases:')\n",
    "print(rf_params)\n",
    "print()\n",
    "print('Mejores resultados para Random Forest sin equilibrio de clases:')\n",
    "display(rf_results)"
   ]
  },
  {
   "cell_type": "markdown",
   "metadata": {},
   "source": [
    "#### Parámetro Class_weight"
   ]
  },
  {
   "cell_type": "code",
   "execution_count": 90,
   "metadata": {},
   "outputs": [
    {
     "name": "stdout",
     "output_type": "stream",
     "text": [
      "CPU times: total: 3min 42s\n",
      "Wall time: 9min 15s\n"
     ]
    }
   ],
   "source": [
    "%%time\n",
    "pipe = make_pipeline(preprocessor, RandomForestClassifier(random_state=12345, class_weight='balanced'))\n",
    "\n",
    "grid_param = {\"randomforestclassifier__n_estimators\": [25, 50, 75, 90, 100],\n",
    "              \"randomforestclassifier__max_depth\":[3,4,5,8,15],\n",
    "              \"randomforestclassifier__min_samples_leaf\":[1,2,5,10,15,25,30],\n",
    "              \"randomforestclassifier__max_leaf_nodes\": [2, 5,10]}\n",
    "\n",
    "gridsearch = GridSearchCV(pipe, grid_param, cv=3, scoring=scorers, refit='roc_auc', return_train_score=True,) \n",
    "\n",
    "rf_cw = gridsearch.fit(X_train, y_train)"
   ]
  },
  {
   "cell_type": "code",
   "execution_count": 180,
   "metadata": {},
   "outputs": [
    {
     "name": "stdout",
     "output_type": "stream",
     "text": [
      "Mejores parámetros para Random Forest con class_weight:\n",
      "{'randomforestclassifier__max_depth': 8, 'randomforestclassifier__max_leaf_nodes': 10, 'randomforestclassifier__min_samples_leaf': 5, 'randomforestclassifier__n_estimators': 25}\n",
      "\n",
      "Mejores resultados para Random Forest con class_weight:\n"
     ]
    },
    {
     "data": {
      "text/html": [
       "<div>\n",
       "<style scoped>\n",
       "    .dataframe tbody tr th:only-of-type {\n",
       "        vertical-align: middle;\n",
       "    }\n",
       "\n",
       "    .dataframe tbody tr th {\n",
       "        vertical-align: top;\n",
       "    }\n",
       "\n",
       "    .dataframe thead th {\n",
       "        text-align: right;\n",
       "    }\n",
       "</style>\n",
       "<table border=\"1\" class=\"dataframe\">\n",
       "  <thead>\n",
       "    <tr style=\"text-align: right;\">\n",
       "      <th></th>\n",
       "      <th>roc_auc</th>\n",
       "      <th>accuracy</th>\n",
       "      <th>recall</th>\n",
       "      <th>f1</th>\n",
       "    </tr>\n",
       "  </thead>\n",
       "  <tbody>\n",
       "    <tr>\n",
       "      <th>0</th>\n",
       "      <td>0.8514</td>\n",
       "      <td>0.7533</td>\n",
       "      <td>0.8145</td>\n",
       "      <td>0.6371</td>\n",
       "    </tr>\n",
       "  </tbody>\n",
       "</table>\n",
       "</div>"
      ],
      "text/plain": [
       "   roc_auc  accuracy  recall      f1\n",
       "0   0.8514    0.7533  0.8145  0.6371"
      ]
     },
     "metadata": {},
     "output_type": "display_data"
    }
   ],
   "source": [
    "rf_wc_params, rf_wc_results = gscv_results(rf_cw, 'roc_auc', 'accuracy', 'recall', 'f1')\n",
    "\n",
    "print('Mejores parámetros para Random Forest con class_weight:')\n",
    "print(rf_wc_params)\n",
    "print()\n",
    "print('Mejores resultados para Random Forest con class_weight:')\n",
    "display(rf_wc_results)"
   ]
  },
  {
   "cell_type": "code",
   "execution_count": 186,
   "metadata": {},
   "outputs": [
    {
     "name": "stdout",
     "output_type": "stream",
     "text": [
      "RF Results Summary:\n"
     ]
    },
    {
     "data": {
      "text/html": [
       "<div>\n",
       "<style scoped>\n",
       "    .dataframe tbody tr th:only-of-type {\n",
       "        vertical-align: middle;\n",
       "    }\n",
       "\n",
       "    .dataframe tbody tr th {\n",
       "        vertical-align: top;\n",
       "    }\n",
       "\n",
       "    .dataframe thead th {\n",
       "        text-align: right;\n",
       "    }\n",
       "</style>\n",
       "<table border=\"1\" class=\"dataframe\">\n",
       "  <thead>\n",
       "    <tr style=\"text-align: right;\">\n",
       "      <th></th>\n",
       "      <th>roc_auc</th>\n",
       "      <th>accuracy</th>\n",
       "      <th>recall</th>\n",
       "      <th>f1</th>\n",
       "    </tr>\n",
       "  </thead>\n",
       "  <tbody>\n",
       "    <tr>\n",
       "      <th>RF</th>\n",
       "      <td>0.852</td>\n",
       "      <td>0.802</td>\n",
       "      <td>0.409</td>\n",
       "      <td>0.523</td>\n",
       "    </tr>\n",
       "    <tr>\n",
       "      <th>RF class_weight</th>\n",
       "      <td>0.851</td>\n",
       "      <td>0.753</td>\n",
       "      <td>0.814</td>\n",
       "      <td>0.637</td>\n",
       "    </tr>\n",
       "  </tbody>\n",
       "</table>\n",
       "</div>"
      ],
      "text/plain": [
       "                 roc_auc  accuracy  recall     f1\n",
       "RF                 0.852     0.802   0.409  0.523\n",
       "RF class_weight    0.851     0.753   0.814  0.637"
      ]
     },
     "metadata": {},
     "output_type": "display_data"
    }
   ],
   "source": [
    "rf_table_results = pd.concat([rf_results, rf_wc_results])\n",
    "\n",
    "rf_table_results.index = ['RF', 'RF class_weight']\n",
    "\n",
    "print('RF Results Summary:')\n",
    "display(rf_table_results.sort_values(by='roc_auc', ascending=False).round(3))"
   ]
  },
  {
   "cell_type": "markdown",
   "metadata": {},
   "source": [
    "El resultado fue casi para AUC, sin embargo el quilibrio de clases mejoró considerablemente la metrica accuracy, recall y f1."
   ]
  },
  {
   "cell_type": "markdown",
   "metadata": {},
   "source": [
    "### Catboost"
   ]
  },
  {
   "cell_type": "code",
   "execution_count": 141,
   "metadata": {},
   "outputs": [],
   "source": [
    "X_train_copy = X_train.copy()"
   ]
  },
  {
   "cell_type": "code",
   "execution_count": 142,
   "metadata": {},
   "outputs": [],
   "source": [
    "cat_columns = ['type', 'paperless_billing', 'payment_method', \n",
    "               'gender', 'senior_citizen', 'partner', 'dependents', \n",
    "               'internet_service', 'online_security', 'online_backup',\n",
    "               'device_protection', 'tech_support', 'streaming_tv',\n",
    "               'streaming_movies', 'multiple_lines']"
   ]
  },
  {
   "cell_type": "code",
   "execution_count": 143,
   "metadata": {},
   "outputs": [
    {
     "data": {
      "text/html": [
       "<div>\n",
       "<style scoped>\n",
       "    .dataframe tbody tr th:only-of-type {\n",
       "        vertical-align: middle;\n",
       "    }\n",
       "\n",
       "    .dataframe tbody tr th {\n",
       "        vertical-align: top;\n",
       "    }\n",
       "\n",
       "    .dataframe thead th {\n",
       "        text-align: right;\n",
       "    }\n",
       "</style>\n",
       "<table border=\"1\" class=\"dataframe\">\n",
       "  <thead>\n",
       "    <tr style=\"text-align: right;\">\n",
       "      <th></th>\n",
       "      <th>type</th>\n",
       "      <th>paperless_billing</th>\n",
       "      <th>payment_method</th>\n",
       "      <th>monthly_charges</th>\n",
       "      <th>total_charges</th>\n",
       "      <th>internet_service</th>\n",
       "      <th>online_security</th>\n",
       "      <th>online_backup</th>\n",
       "      <th>device_protection</th>\n",
       "      <th>tech_support</th>\n",
       "      <th>streaming_tv</th>\n",
       "      <th>streaming_movies</th>\n",
       "      <th>gender</th>\n",
       "      <th>senior_citizen</th>\n",
       "      <th>partner</th>\n",
       "      <th>dependents</th>\n",
       "      <th>multiple_lines</th>\n",
       "      <th>begin_year</th>\n",
       "      <th>begin_month</th>\n",
       "    </tr>\n",
       "  </thead>\n",
       "  <tbody>\n",
       "    <tr>\n",
       "      <th>2160</th>\n",
       "      <td>One year</td>\n",
       "      <td>0</td>\n",
       "      <td>Mailed check</td>\n",
       "      <td>-1.482494</td>\n",
       "      <td>-0.889562</td>\n",
       "      <td>no_plan</td>\n",
       "      <td>no_plan</td>\n",
       "      <td>no_plan</td>\n",
       "      <td>no_plan</td>\n",
       "      <td>no_plan</td>\n",
       "      <td>no_plan</td>\n",
       "      <td>no_plan</td>\n",
       "      <td>0</td>\n",
       "      <td>0</td>\n",
       "      <td>0</td>\n",
       "      <td>0</td>\n",
       "      <td>No</td>\n",
       "      <td>1.084831</td>\n",
       "      <td>-1.521779</td>\n",
       "    </tr>\n",
       "    <tr>\n",
       "      <th>3808</th>\n",
       "      <td>Two year</td>\n",
       "      <td>1</td>\n",
       "      <td>Credit card (automatic)</td>\n",
       "      <td>0.790277</td>\n",
       "      <td>1.783331</td>\n",
       "      <td>DSL</td>\n",
       "      <td>Yes</td>\n",
       "      <td>Yes</td>\n",
       "      <td>Yes</td>\n",
       "      <td>Yes</td>\n",
       "      <td>Yes</td>\n",
       "      <td>Yes</td>\n",
       "      <td>1</td>\n",
       "      <td>0</td>\n",
       "      <td>1</td>\n",
       "      <td>0</td>\n",
       "      <td>Yes</td>\n",
       "      <td>-1.469593</td>\n",
       "      <td>-1.241370</td>\n",
       "    </tr>\n",
       "    <tr>\n",
       "      <th>2509</th>\n",
       "      <td>Month-to-month</td>\n",
       "      <td>1</td>\n",
       "      <td>Electronic check</td>\n",
       "      <td>0.823457</td>\n",
       "      <td>-0.040800</td>\n",
       "      <td>Fiber optic</td>\n",
       "      <td>No</td>\n",
       "      <td>Yes</td>\n",
       "      <td>No</td>\n",
       "      <td>No</td>\n",
       "      <td>No</td>\n",
       "      <td>Yes</td>\n",
       "      <td>0</td>\n",
       "      <td>1</td>\n",
       "      <td>0</td>\n",
       "      <td>0</td>\n",
       "      <td>Yes</td>\n",
       "      <td>0.063061</td>\n",
       "      <td>1.282309</td>\n",
       "    </tr>\n",
       "    <tr>\n",
       "      <th>3830</th>\n",
       "      <td>One year</td>\n",
       "      <td>1</td>\n",
       "      <td>Electronic check</td>\n",
       "      <td>1.352664</td>\n",
       "      <td>-0.813899</td>\n",
       "      <td>Fiber optic</td>\n",
       "      <td>No</td>\n",
       "      <td>Yes</td>\n",
       "      <td>Yes</td>\n",
       "      <td>Yes</td>\n",
       "      <td>Yes</td>\n",
       "      <td>Yes</td>\n",
       "      <td>0</td>\n",
       "      <td>0</td>\n",
       "      <td>0</td>\n",
       "      <td>0</td>\n",
       "      <td>No</td>\n",
       "      <td>1.084831</td>\n",
       "      <td>0.441083</td>\n",
       "    </tr>\n",
       "    <tr>\n",
       "      <th>2568</th>\n",
       "      <td>Month-to-month</td>\n",
       "      <td>1</td>\n",
       "      <td>Mailed check</td>\n",
       "      <td>-0.336155</td>\n",
       "      <td>-0.986440</td>\n",
       "      <td>DSL</td>\n",
       "      <td>No</td>\n",
       "      <td>No</td>\n",
       "      <td>No</td>\n",
       "      <td>No</td>\n",
       "      <td>No</td>\n",
       "      <td>Yes</td>\n",
       "      <td>0</td>\n",
       "      <td>0</td>\n",
       "      <td>0</td>\n",
       "      <td>0</td>\n",
       "      <td>No</td>\n",
       "      <td>1.084831</td>\n",
       "      <td>1.562718</td>\n",
       "    </tr>\n",
       "  </tbody>\n",
       "</table>\n",
       "</div>"
      ],
      "text/plain": [
       "                type  paperless_billing           payment_method  \\\n",
       "2160        One year                  0             Mailed check   \n",
       "3808        Two year                  1  Credit card (automatic)   \n",
       "2509  Month-to-month                  1         Electronic check   \n",
       "3830        One year                  1         Electronic check   \n",
       "2568  Month-to-month                  1             Mailed check   \n",
       "\n",
       "      monthly_charges  total_charges internet_service online_security  \\\n",
       "2160        -1.482494      -0.889562          no_plan         no_plan   \n",
       "3808         0.790277       1.783331              DSL             Yes   \n",
       "2509         0.823457      -0.040800      Fiber optic              No   \n",
       "3830         1.352664      -0.813899      Fiber optic              No   \n",
       "2568        -0.336155      -0.986440              DSL              No   \n",
       "\n",
       "     online_backup device_protection tech_support streaming_tv  \\\n",
       "2160       no_plan           no_plan      no_plan      no_plan   \n",
       "3808           Yes               Yes          Yes          Yes   \n",
       "2509           Yes                No           No           No   \n",
       "3830           Yes               Yes          Yes          Yes   \n",
       "2568            No                No           No           No   \n",
       "\n",
       "     streaming_movies  gender  senior_citizen  partner  dependents  \\\n",
       "2160          no_plan       0               0        0           0   \n",
       "3808              Yes       1               0        1           0   \n",
       "2509              Yes       0               1        0           0   \n",
       "3830              Yes       0               0        0           0   \n",
       "2568              Yes       0               0        0           0   \n",
       "\n",
       "     multiple_lines  begin_year  begin_month  \n",
       "2160             No    1.084831    -1.521779  \n",
       "3808            Yes   -1.469593    -1.241370  \n",
       "2509            Yes    0.063061     1.282309  \n",
       "3830             No    1.084831     0.441083  \n",
       "2568             No    1.084831     1.562718  "
      ]
     },
     "execution_count": 143,
     "metadata": {},
     "output_type": "execute_result"
    }
   ],
   "source": [
    "# Escalar datos numéricos\n",
    "numeric_scaler = StandardScaler()\n",
    "\n",
    "numeric_columns = ['monthly_charges', 'begin_year', 'begin_month', 'total_charges']\n",
    "\n",
    "X_train_copy[numeric_columns] = numeric_scaler.fit_transform(X_train_copy[numeric_columns])\n",
    "\n",
    "X_train_copy.head()"
   ]
  },
  {
   "cell_type": "markdown",
   "metadata": {},
   "source": [
    "#### Catboost sin equilibrio de clases"
   ]
  },
  {
   "cell_type": "code",
   "execution_count": 67,
   "metadata": {},
   "outputs": [
    {
     "data": {
      "text/html": [
       "<style>#sk-container-id-1 {color: black;}#sk-container-id-1 pre{padding: 0;}#sk-container-id-1 div.sk-toggleable {background-color: white;}#sk-container-id-1 label.sk-toggleable__label {cursor: pointer;display: block;width: 100%;margin-bottom: 0;padding: 0.3em;box-sizing: border-box;text-align: center;}#sk-container-id-1 label.sk-toggleable__label-arrow:before {content: \"▸\";float: left;margin-right: 0.25em;color: #696969;}#sk-container-id-1 label.sk-toggleable__label-arrow:hover:before {color: black;}#sk-container-id-1 div.sk-estimator:hover label.sk-toggleable__label-arrow:before {color: black;}#sk-container-id-1 div.sk-toggleable__content {max-height: 0;max-width: 0;overflow: hidden;text-align: left;background-color: #f0f8ff;}#sk-container-id-1 div.sk-toggleable__content pre {margin: 0.2em;color: black;border-radius: 0.25em;background-color: #f0f8ff;}#sk-container-id-1 input.sk-toggleable__control:checked~div.sk-toggleable__content {max-height: 200px;max-width: 100%;overflow: auto;}#sk-container-id-1 input.sk-toggleable__control:checked~label.sk-toggleable__label-arrow:before {content: \"▾\";}#sk-container-id-1 div.sk-estimator input.sk-toggleable__control:checked~label.sk-toggleable__label {background-color: #d4ebff;}#sk-container-id-1 div.sk-label input.sk-toggleable__control:checked~label.sk-toggleable__label {background-color: #d4ebff;}#sk-container-id-1 input.sk-hidden--visually {border: 0;clip: rect(1px 1px 1px 1px);clip: rect(1px, 1px, 1px, 1px);height: 1px;margin: -1px;overflow: hidden;padding: 0;position: absolute;width: 1px;}#sk-container-id-1 div.sk-estimator {font-family: monospace;background-color: #f0f8ff;border: 1px dotted black;border-radius: 0.25em;box-sizing: border-box;margin-bottom: 0.5em;}#sk-container-id-1 div.sk-estimator:hover {background-color: #d4ebff;}#sk-container-id-1 div.sk-parallel-item::after {content: \"\";width: 100%;border-bottom: 1px solid gray;flex-grow: 1;}#sk-container-id-1 div.sk-label:hover label.sk-toggleable__label {background-color: #d4ebff;}#sk-container-id-1 div.sk-serial::before {content: \"\";position: absolute;border-left: 1px solid gray;box-sizing: border-box;top: 0;bottom: 0;left: 50%;z-index: 0;}#sk-container-id-1 div.sk-serial {display: flex;flex-direction: column;align-items: center;background-color: white;padding-right: 0.2em;padding-left: 0.2em;position: relative;}#sk-container-id-1 div.sk-item {position: relative;z-index: 1;}#sk-container-id-1 div.sk-parallel {display: flex;align-items: stretch;justify-content: center;background-color: white;position: relative;}#sk-container-id-1 div.sk-item::before, #sk-container-id-1 div.sk-parallel-item::before {content: \"\";position: absolute;border-left: 1px solid gray;box-sizing: border-box;top: 0;bottom: 0;left: 50%;z-index: -1;}#sk-container-id-1 div.sk-parallel-item {display: flex;flex-direction: column;z-index: 1;position: relative;background-color: white;}#sk-container-id-1 div.sk-parallel-item:first-child::after {align-self: flex-end;width: 50%;}#sk-container-id-1 div.sk-parallel-item:last-child::after {align-self: flex-start;width: 50%;}#sk-container-id-1 div.sk-parallel-item:only-child::after {width: 0;}#sk-container-id-1 div.sk-dashed-wrapped {border: 1px dashed gray;margin: 0 0.4em 0.5em 0.4em;box-sizing: border-box;padding-bottom: 0.4em;background-color: white;}#sk-container-id-1 div.sk-label label {font-family: monospace;font-weight: bold;display: inline-block;line-height: 1.2em;}#sk-container-id-1 div.sk-label-container {text-align: center;}#sk-container-id-1 div.sk-container {/* jupyter's `normalize.less` sets `[hidden] { display: none; }` but bootstrap.min.css set `[hidden] { display: none !important; }` so we also need the `!important` here to be able to override the default hidden behavior on the sphinx rendered scikit-learn.org. See: https://github.com/scikit-learn/scikit-learn/issues/21755 */display: inline-block !important;position: relative;}#sk-container-id-1 div.sk-text-repr-fallback {display: none;}</style><div id=\"sk-container-id-1\" class=\"sk-top-container\"><div class=\"sk-text-repr-fallback\"><pre>GridSearchCV(cv=3,\n",
       "             estimator=&lt;catboost.core.CatBoostClassifier object at 0x00000166642511D0&gt;,\n",
       "             param_grid={&#x27;depth&#x27;: [4, 6, 10], &#x27;l2_leaf_reg&#x27;: [1, 3, 5, 7, 9],\n",
       "                         &#x27;learning_rate&#x27;: [0.03, 0.1]},\n",
       "             refit=&#x27;roc_auc&#x27;, return_train_score=True,\n",
       "             scoring={&#x27;accuracy&#x27;: &#x27;accuracy&#x27;, &#x27;f1&#x27;: &#x27;f1&#x27;, &#x27;recall&#x27;: &#x27;recall&#x27;,\n",
       "                      &#x27;roc_auc&#x27;: &#x27;roc_auc&#x27;})</pre><b>In a Jupyter environment, please rerun this cell to show the HTML representation or trust the notebook. <br />On GitHub, the HTML representation is unable to render, please try loading this page with nbviewer.org.</b></div><div class=\"sk-container\" hidden><div class=\"sk-item sk-dashed-wrapped\"><div class=\"sk-label-container\"><div class=\"sk-label sk-toggleable\"><input class=\"sk-toggleable__control sk-hidden--visually\" id=\"sk-estimator-id-1\" type=\"checkbox\" ><label for=\"sk-estimator-id-1\" class=\"sk-toggleable__label sk-toggleable__label-arrow\">GridSearchCV</label><div class=\"sk-toggleable__content\"><pre>GridSearchCV(cv=3,\n",
       "             estimator=&lt;catboost.core.CatBoostClassifier object at 0x00000166642511D0&gt;,\n",
       "             param_grid={&#x27;depth&#x27;: [4, 6, 10], &#x27;l2_leaf_reg&#x27;: [1, 3, 5, 7, 9],\n",
       "                         &#x27;learning_rate&#x27;: [0.03, 0.1]},\n",
       "             refit=&#x27;roc_auc&#x27;, return_train_score=True,\n",
       "             scoring={&#x27;accuracy&#x27;: &#x27;accuracy&#x27;, &#x27;f1&#x27;: &#x27;f1&#x27;, &#x27;recall&#x27;: &#x27;recall&#x27;,\n",
       "                      &#x27;roc_auc&#x27;: &#x27;roc_auc&#x27;})</pre></div></div></div><div class=\"sk-parallel\"><div class=\"sk-parallel-item\"><div class=\"sk-item\"><div class=\"sk-label-container\"><div class=\"sk-label sk-toggleable\"><input class=\"sk-toggleable__control sk-hidden--visually\" id=\"sk-estimator-id-2\" type=\"checkbox\" ><label for=\"sk-estimator-id-2\" class=\"sk-toggleable__label sk-toggleable__label-arrow\">estimator: CatBoostClassifier</label><div class=\"sk-toggleable__content\"><pre>&lt;catboost.core.CatBoostClassifier object at 0x00000166642511D0&gt;</pre></div></div></div><div class=\"sk-serial\"><div class=\"sk-item\"><div class=\"sk-estimator sk-toggleable\"><input class=\"sk-toggleable__control sk-hidden--visually\" id=\"sk-estimator-id-3\" type=\"checkbox\" ><label for=\"sk-estimator-id-3\" class=\"sk-toggleable__label sk-toggleable__label-arrow\">CatBoostClassifier</label><div class=\"sk-toggleable__content\"><pre>&lt;catboost.core.CatBoostClassifier object at 0x00000166642511D0&gt;</pre></div></div></div></div></div></div></div></div></div></div>"
      ],
      "text/plain": [
       "GridSearchCV(cv=3,\n",
       "             estimator=<catboost.core.CatBoostClassifier object at 0x00000166642511D0>,\n",
       "             param_grid={'depth': [4, 6, 10], 'l2_leaf_reg': [1, 3, 5, 7, 9],\n",
       "                         'learning_rate': [0.03, 0.1]},\n",
       "             refit='roc_auc', return_train_score=True,\n",
       "             scoring={'accuracy': 'accuracy', 'f1': 'f1', 'recall': 'recall',\n",
       "                      'roc_auc': 'roc_auc'})"
      ]
     },
     "execution_count": 67,
     "metadata": {},
     "output_type": "execute_result"
    }
   ],
   "source": [
    "%%time\n",
    "catboost = CatBoostClassifier(iterations=150, silent=True, cat_features = cat_columns, loss_function='Logloss', random_state=12345)\n",
    "\n",
    "grid = {'learning_rate': [0.03, 0.1],\n",
    "        'depth': [4, 6, 10],\n",
    "        'l2_leaf_reg': [1, 3, 5, 7, 9]}\n",
    "\n",
    "cb_gscv = GridSearchCV(catboost, \n",
    "                       param_grid=grid, \n",
    "                       scoring=scorers,\n",
    "                       refit='roc_auc', \n",
    "                       cv=3, \n",
    "                       return_train_score=True)\n",
    "\n",
    "cb_gscv.fit(X_train_copy, y_train)"
   ]
  },
  {
   "cell_type": "code",
   "execution_count": 68,
   "metadata": {},
   "outputs": [
    {
     "name": "stdout",
     "output_type": "stream",
     "text": [
      "CatBoost No Class Balancing Best Params:\n",
      "{'depth': 10, 'l2_leaf_reg': 1, 'learning_rate': 0.1}\n",
      "\n",
      "CatBoost with No Class Balancing Results:\n"
     ]
    },
    {
     "data": {
      "text/html": [
       "<div>\n",
       "<style scoped>\n",
       "    .dataframe tbody tr th:only-of-type {\n",
       "        vertical-align: middle;\n",
       "    }\n",
       "\n",
       "    .dataframe tbody tr th {\n",
       "        vertical-align: top;\n",
       "    }\n",
       "\n",
       "    .dataframe thead th {\n",
       "        text-align: right;\n",
       "    }\n",
       "</style>\n",
       "<table border=\"1\" class=\"dataframe\">\n",
       "  <thead>\n",
       "    <tr style=\"text-align: right;\">\n",
       "      <th></th>\n",
       "      <th>roc_auc</th>\n",
       "      <th>accuracy</th>\n",
       "      <th>recall</th>\n",
       "      <th>f1</th>\n",
       "    </tr>\n",
       "  </thead>\n",
       "  <tbody>\n",
       "    <tr>\n",
       "      <th>0</th>\n",
       "      <td>0.894</td>\n",
       "      <td>0.8549</td>\n",
       "      <td>0.6056</td>\n",
       "      <td>0.6894</td>\n",
       "    </tr>\n",
       "  </tbody>\n",
       "</table>\n",
       "</div>"
      ],
      "text/plain": [
       "   roc_auc  accuracy  recall      f1\n",
       "0    0.894    0.8549  0.6056  0.6894"
      ]
     },
     "metadata": {},
     "output_type": "display_data"
    }
   ],
   "source": [
    "cb_params, cb_results = gscv_results(cb_gscv, 'roc_auc', 'accuracy', 'recall', 'f1')\n",
    "\n",
    "print('Mejores parámetros de CatBoost sin equilibrio de clases')\n",
    "print(cb_params)\n",
    "print()\n",
    "print('Mejores resultados de CatBoost sin equilibrio de clases')\n",
    "display(cb_results)"
   ]
  },
  {
   "cell_type": "markdown",
   "metadata": {},
   "source": [
    "scale_pos_weight obtiene la cantidad (número total de ejemplos en la clase mayoritaria dividido por el número total de ejemplos en la clase minoritaria). \n",
    "\n",
    "En nuestra data: Número de clientes que no abandonaron el servicio: 5174/\n",
    "                               Número de clientes que abandonaron el servicio: 1869\n",
    "                               \n",
    "Por lo que se ajustara el peso en 3."
   ]
  },
  {
   "cell_type": "markdown",
   "metadata": {},
   "source": [
    "#### CatBoost con equilibrio de clases"
   ]
  },
  {
   "cell_type": "code",
   "execution_count": 145,
   "metadata": {},
   "outputs": [
    {
     "name": "stdout",
     "output_type": "stream",
     "text": [
      "CPU times: total: 2min 41s\n",
      "Wall time: 7min 12s\n"
     ]
    },
    {
     "data": {
      "text/html": [
       "<style>#sk-container-id-5 {color: black;}#sk-container-id-5 pre{padding: 0;}#sk-container-id-5 div.sk-toggleable {background-color: white;}#sk-container-id-5 label.sk-toggleable__label {cursor: pointer;display: block;width: 100%;margin-bottom: 0;padding: 0.3em;box-sizing: border-box;text-align: center;}#sk-container-id-5 label.sk-toggleable__label-arrow:before {content: \"▸\";float: left;margin-right: 0.25em;color: #696969;}#sk-container-id-5 label.sk-toggleable__label-arrow:hover:before {color: black;}#sk-container-id-5 div.sk-estimator:hover label.sk-toggleable__label-arrow:before {color: black;}#sk-container-id-5 div.sk-toggleable__content {max-height: 0;max-width: 0;overflow: hidden;text-align: left;background-color: #f0f8ff;}#sk-container-id-5 div.sk-toggleable__content pre {margin: 0.2em;color: black;border-radius: 0.25em;background-color: #f0f8ff;}#sk-container-id-5 input.sk-toggleable__control:checked~div.sk-toggleable__content {max-height: 200px;max-width: 100%;overflow: auto;}#sk-container-id-5 input.sk-toggleable__control:checked~label.sk-toggleable__label-arrow:before {content: \"▾\";}#sk-container-id-5 div.sk-estimator input.sk-toggleable__control:checked~label.sk-toggleable__label {background-color: #d4ebff;}#sk-container-id-5 div.sk-label input.sk-toggleable__control:checked~label.sk-toggleable__label {background-color: #d4ebff;}#sk-container-id-5 input.sk-hidden--visually {border: 0;clip: rect(1px 1px 1px 1px);clip: rect(1px, 1px, 1px, 1px);height: 1px;margin: -1px;overflow: hidden;padding: 0;position: absolute;width: 1px;}#sk-container-id-5 div.sk-estimator {font-family: monospace;background-color: #f0f8ff;border: 1px dotted black;border-radius: 0.25em;box-sizing: border-box;margin-bottom: 0.5em;}#sk-container-id-5 div.sk-estimator:hover {background-color: #d4ebff;}#sk-container-id-5 div.sk-parallel-item::after {content: \"\";width: 100%;border-bottom: 1px solid gray;flex-grow: 1;}#sk-container-id-5 div.sk-label:hover label.sk-toggleable__label {background-color: #d4ebff;}#sk-container-id-5 div.sk-serial::before {content: \"\";position: absolute;border-left: 1px solid gray;box-sizing: border-box;top: 0;bottom: 0;left: 50%;z-index: 0;}#sk-container-id-5 div.sk-serial {display: flex;flex-direction: column;align-items: center;background-color: white;padding-right: 0.2em;padding-left: 0.2em;position: relative;}#sk-container-id-5 div.sk-item {position: relative;z-index: 1;}#sk-container-id-5 div.sk-parallel {display: flex;align-items: stretch;justify-content: center;background-color: white;position: relative;}#sk-container-id-5 div.sk-item::before, #sk-container-id-5 div.sk-parallel-item::before {content: \"\";position: absolute;border-left: 1px solid gray;box-sizing: border-box;top: 0;bottom: 0;left: 50%;z-index: -1;}#sk-container-id-5 div.sk-parallel-item {display: flex;flex-direction: column;z-index: 1;position: relative;background-color: white;}#sk-container-id-5 div.sk-parallel-item:first-child::after {align-self: flex-end;width: 50%;}#sk-container-id-5 div.sk-parallel-item:last-child::after {align-self: flex-start;width: 50%;}#sk-container-id-5 div.sk-parallel-item:only-child::after {width: 0;}#sk-container-id-5 div.sk-dashed-wrapped {border: 1px dashed gray;margin: 0 0.4em 0.5em 0.4em;box-sizing: border-box;padding-bottom: 0.4em;background-color: white;}#sk-container-id-5 div.sk-label label {font-family: monospace;font-weight: bold;display: inline-block;line-height: 1.2em;}#sk-container-id-5 div.sk-label-container {text-align: center;}#sk-container-id-5 div.sk-container {/* jupyter's `normalize.less` sets `[hidden] { display: none; }` but bootstrap.min.css set `[hidden] { display: none !important; }` so we also need the `!important` here to be able to override the default hidden behavior on the sphinx rendered scikit-learn.org. See: https://github.com/scikit-learn/scikit-learn/issues/21755 */display: inline-block !important;position: relative;}#sk-container-id-5 div.sk-text-repr-fallback {display: none;}</style><div id=\"sk-container-id-5\" class=\"sk-top-container\"><div class=\"sk-text-repr-fallback\"><pre>GridSearchCV(cv=3,\n",
       "             estimator=&lt;catboost.core.CatBoostClassifier object at 0x000001666B686390&gt;,\n",
       "             param_grid={&#x27;depth&#x27;: [4, 6, 10], &#x27;l2_leaf_reg&#x27;: [1, 3, 5, 7, 9],\n",
       "                         &#x27;learning_rate&#x27;: [0.03, 0.1]},\n",
       "             refit=&#x27;roc_auc&#x27;, return_train_score=True,\n",
       "             scoring={&#x27;accuracy&#x27;: &#x27;accuracy&#x27;, &#x27;f1&#x27;: &#x27;f1&#x27;, &#x27;recall&#x27;: &#x27;recall&#x27;,\n",
       "                      &#x27;roc_auc&#x27;: &#x27;roc_auc&#x27;})</pre><b>In a Jupyter environment, please rerun this cell to show the HTML representation or trust the notebook. <br />On GitHub, the HTML representation is unable to render, please try loading this page with nbviewer.org.</b></div><div class=\"sk-container\" hidden><div class=\"sk-item sk-dashed-wrapped\"><div class=\"sk-label-container\"><div class=\"sk-label sk-toggleable\"><input class=\"sk-toggleable__control sk-hidden--visually\" id=\"sk-estimator-id-20\" type=\"checkbox\" ><label for=\"sk-estimator-id-20\" class=\"sk-toggleable__label sk-toggleable__label-arrow\">GridSearchCV</label><div class=\"sk-toggleable__content\"><pre>GridSearchCV(cv=3,\n",
       "             estimator=&lt;catboost.core.CatBoostClassifier object at 0x000001666B686390&gt;,\n",
       "             param_grid={&#x27;depth&#x27;: [4, 6, 10], &#x27;l2_leaf_reg&#x27;: [1, 3, 5, 7, 9],\n",
       "                         &#x27;learning_rate&#x27;: [0.03, 0.1]},\n",
       "             refit=&#x27;roc_auc&#x27;, return_train_score=True,\n",
       "             scoring={&#x27;accuracy&#x27;: &#x27;accuracy&#x27;, &#x27;f1&#x27;: &#x27;f1&#x27;, &#x27;recall&#x27;: &#x27;recall&#x27;,\n",
       "                      &#x27;roc_auc&#x27;: &#x27;roc_auc&#x27;})</pre></div></div></div><div class=\"sk-parallel\"><div class=\"sk-parallel-item\"><div class=\"sk-item\"><div class=\"sk-label-container\"><div class=\"sk-label sk-toggleable\"><input class=\"sk-toggleable__control sk-hidden--visually\" id=\"sk-estimator-id-21\" type=\"checkbox\" ><label for=\"sk-estimator-id-21\" class=\"sk-toggleable__label sk-toggleable__label-arrow\">estimator: CatBoostClassifier</label><div class=\"sk-toggleable__content\"><pre>&lt;catboost.core.CatBoostClassifier object at 0x000001666B686390&gt;</pre></div></div></div><div class=\"sk-serial\"><div class=\"sk-item\"><div class=\"sk-estimator sk-toggleable\"><input class=\"sk-toggleable__control sk-hidden--visually\" id=\"sk-estimator-id-22\" type=\"checkbox\" ><label for=\"sk-estimator-id-22\" class=\"sk-toggleable__label sk-toggleable__label-arrow\">CatBoostClassifier</label><div class=\"sk-toggleable__content\"><pre>&lt;catboost.core.CatBoostClassifier object at 0x000001666B686390&gt;</pre></div></div></div></div></div></div></div></div></div></div>"
      ],
      "text/plain": [
       "GridSearchCV(cv=3,\n",
       "             estimator=<catboost.core.CatBoostClassifier object at 0x000001666B686390>,\n",
       "             param_grid={'depth': [4, 6, 10], 'l2_leaf_reg': [1, 3, 5, 7, 9],\n",
       "                         'learning_rate': [0.03, 0.1]},\n",
       "             refit='roc_auc', return_train_score=True,\n",
       "             scoring={'accuracy': 'accuracy', 'f1': 'f1', 'recall': 'recall',\n",
       "                      'roc_auc': 'roc_auc'})"
      ]
     },
     "execution_count": 145,
     "metadata": {},
     "output_type": "execute_result"
    }
   ],
   "source": [
    "%%time\n",
    "catboost = CatBoostClassifier(iterations=150, silent=True, \n",
    "                              cat_features = cat_columns, loss_function='Logloss', \n",
    "                              random_state=12345, scale_pos_weight=3)\n",
    "\n",
    "grid = {'learning_rate': [0.03, 0.1],\n",
    "        'depth': [4, 6, 10],\n",
    "        'l2_leaf_reg': [1, 3, 5, 7, 9]}\n",
    "\n",
    "cb_wc_gscv = GridSearchCV(catboost, \n",
    "                       param_grid=grid, \n",
    "                       scoring=scorers,\n",
    "                       refit='roc_auc', \n",
    "                       cv=3, \n",
    "                       return_train_score=True)\n",
    "\n",
    "cb_wc_gscv.fit(X_train_copy, y_train)"
   ]
  },
  {
   "cell_type": "code",
   "execution_count": 146,
   "metadata": {},
   "outputs": [
    {
     "name": "stdout",
     "output_type": "stream",
     "text": [
      "Mejores parámetros de CatBoost con scale_pos_weight\n",
      "{'depth': 6, 'l2_leaf_reg': 1, 'learning_rate': 0.1}\n",
      "\n",
      "Mejores resultados de CatBoost con scale_pos_weight\n"
     ]
    },
    {
     "data": {
      "text/html": [
       "<div>\n",
       "<style scoped>\n",
       "    .dataframe tbody tr th:only-of-type {\n",
       "        vertical-align: middle;\n",
       "    }\n",
       "\n",
       "    .dataframe tbody tr th {\n",
       "        vertical-align: top;\n",
       "    }\n",
       "\n",
       "    .dataframe thead th {\n",
       "        text-align: right;\n",
       "    }\n",
       "</style>\n",
       "<table border=\"1\" class=\"dataframe\">\n",
       "  <thead>\n",
       "    <tr style=\"text-align: right;\">\n",
       "      <th></th>\n",
       "      <th>roc_auc</th>\n",
       "      <th>accuracy</th>\n",
       "      <th>recall</th>\n",
       "      <th>f1</th>\n",
       "    </tr>\n",
       "  </thead>\n",
       "  <tbody>\n",
       "    <tr>\n",
       "      <th>0</th>\n",
       "      <td>0.891</td>\n",
       "      <td>0.8038</td>\n",
       "      <td>0.8217</td>\n",
       "      <td>0.69</td>\n",
       "    </tr>\n",
       "  </tbody>\n",
       "</table>\n",
       "</div>"
      ],
      "text/plain": [
       "   roc_auc  accuracy  recall    f1\n",
       "0    0.891    0.8038  0.8217  0.69"
      ]
     },
     "metadata": {},
     "output_type": "display_data"
    }
   ],
   "source": [
    "cb_wc_params, cb_wc_results = gscv_results(cb_wc_gscv, 'roc_auc', 'accuracy', 'recall', 'f1')\n",
    "\n",
    "print('Mejores parámetros de CatBoost con scale_pos_weight')\n",
    "print(cb_wc_params)\n",
    "print()\n",
    "print('Mejores resultados de CatBoost con scale_pos_weight')\n",
    "display(cb_wc_results)"
   ]
  },
  {
   "cell_type": "code",
   "execution_count": 187,
   "metadata": {},
   "outputs": [
    {
     "name": "stdout",
     "output_type": "stream",
     "text": [
      "CatBoost Results Summary:\n"
     ]
    },
    {
     "data": {
      "text/html": [
       "<div>\n",
       "<style scoped>\n",
       "    .dataframe tbody tr th:only-of-type {\n",
       "        vertical-align: middle;\n",
       "    }\n",
       "\n",
       "    .dataframe tbody tr th {\n",
       "        vertical-align: top;\n",
       "    }\n",
       "\n",
       "    .dataframe thead th {\n",
       "        text-align: right;\n",
       "    }\n",
       "</style>\n",
       "<table border=\"1\" class=\"dataframe\">\n",
       "  <thead>\n",
       "    <tr style=\"text-align: right;\">\n",
       "      <th></th>\n",
       "      <th>roc_auc</th>\n",
       "      <th>accuracy</th>\n",
       "      <th>recall</th>\n",
       "      <th>f1</th>\n",
       "    </tr>\n",
       "  </thead>\n",
       "  <tbody>\n",
       "    <tr>\n",
       "      <th>CatBoost</th>\n",
       "      <td>0.894</td>\n",
       "      <td>0.855</td>\n",
       "      <td>0.606</td>\n",
       "      <td>0.689</td>\n",
       "    </tr>\n",
       "    <tr>\n",
       "      <th>CatBoost class_weight</th>\n",
       "      <td>0.891</td>\n",
       "      <td>0.804</td>\n",
       "      <td>0.822</td>\n",
       "      <td>0.690</td>\n",
       "    </tr>\n",
       "  </tbody>\n",
       "</table>\n",
       "</div>"
      ],
      "text/plain": [
       "                       roc_auc  accuracy  recall     f1\n",
       "CatBoost                 0.894     0.855   0.606  0.689\n",
       "CatBoost class_weight    0.891     0.804   0.822  0.690"
      ]
     },
     "metadata": {},
     "output_type": "display_data"
    }
   ],
   "source": [
    "cb_table_results = pd.concat([cb_results, cb_wc_results])\n",
    "\n",
    "cb_table_results.index = ['CatBoost', 'CatBoost class_weight']\n",
    "\n",
    "print('CatBoost Results Summary:')\n",
    "display(cb_table_results.sort_values(by='roc_auc', ascending=False).round(3))"
   ]
  },
  {
   "cell_type": "markdown",
   "metadata": {},
   "source": [
    "No hubo mucha diferencia para el modelo Catboost sin o con el equilibrio de clases, pero el recall mejoró bastante."
   ]
  },
  {
   "cell_type": "markdown",
   "metadata": {},
   "source": [
    "### LightGBM"
   ]
  },
  {
   "cell_type": "code",
   "execution_count": 147,
   "metadata": {},
   "outputs": [],
   "source": [
    "multi_cat_columns = ['type', 'payment_method', 'internet_service', 'multiple_lines',\n",
    "                     'online_security', 'online_backup', 'device_protection',\n",
    "                     'tech_support', 'streaming_tv', 'streaming_movies']\n",
    "\n",
    "le = LabelEncoder()\n",
    "\n",
    "X_train_copy[multi_cat_columns] = X_train_copy[multi_cat_columns].apply(le.fit_transform)"
   ]
  },
  {
   "cell_type": "code",
   "execution_count": 148,
   "metadata": {},
   "outputs": [
    {
     "name": "stdout",
     "output_type": "stream",
     "text": [
      "<class 'pandas.core.frame.DataFrame'>\n",
      "Index: 5274 entries, 2160 to 6151\n",
      "Data columns (total 19 columns):\n",
      " #   Column             Non-Null Count  Dtype   \n",
      "---  ------             --------------  -----   \n",
      " 0   type               5274 non-null   category\n",
      " 1   paperless_billing  5274 non-null   category\n",
      " 2   payment_method     5274 non-null   category\n",
      " 3   monthly_charges    5274 non-null   float64 \n",
      " 4   total_charges      5274 non-null   float64 \n",
      " 5   internet_service   5274 non-null   category\n",
      " 6   online_security    5274 non-null   category\n",
      " 7   online_backup      5274 non-null   category\n",
      " 8   device_protection  5274 non-null   category\n",
      " 9   tech_support       5274 non-null   category\n",
      " 10  streaming_tv       5274 non-null   category\n",
      " 11  streaming_movies   5274 non-null   category\n",
      " 12  gender             5274 non-null   category\n",
      " 13  senior_citizen     5274 non-null   category\n",
      " 14  partner            5274 non-null   category\n",
      " 15  dependents         5274 non-null   category\n",
      " 16  multiple_lines     5274 non-null   category\n",
      " 17  begin_year         5274 non-null   float64 \n",
      " 18  begin_month        5274 non-null   float64 \n",
      "dtypes: category(15), float64(4)\n",
      "memory usage: 284.8 KB\n"
     ]
    }
   ],
   "source": [
    "cat_columns = ['type', 'paperless_billing', 'payment_method', \n",
    "               'gender', 'senior_citizen', 'partner', 'dependents', \n",
    "               'internet_service', 'online_security', 'online_backup',\n",
    "               'device_protection', 'tech_support', 'streaming_tv',\n",
    "               'streaming_movies', 'multiple_lines']\n",
    "\n",
    "X_train_copy[cat_columns] = X_train_copy[cat_columns].astype('category')\n",
    "\n",
    "X_train_copy.info()"
   ]
  },
  {
   "cell_type": "code",
   "execution_count": 71,
   "metadata": {},
   "outputs": [
    {
     "data": {
      "text/html": [
       "<div>\n",
       "<style scoped>\n",
       "    .dataframe tbody tr th:only-of-type {\n",
       "        vertical-align: middle;\n",
       "    }\n",
       "\n",
       "    .dataframe tbody tr th {\n",
       "        vertical-align: top;\n",
       "    }\n",
       "\n",
       "    .dataframe thead th {\n",
       "        text-align: right;\n",
       "    }\n",
       "</style>\n",
       "<table border=\"1\" class=\"dataframe\">\n",
       "  <thead>\n",
       "    <tr style=\"text-align: right;\">\n",
       "      <th></th>\n",
       "      <th>type</th>\n",
       "      <th>paperless_billing</th>\n",
       "      <th>payment_method</th>\n",
       "      <th>monthly_charges</th>\n",
       "      <th>total_charges</th>\n",
       "      <th>internet_service</th>\n",
       "      <th>online_security</th>\n",
       "      <th>online_backup</th>\n",
       "      <th>device_protection</th>\n",
       "      <th>tech_support</th>\n",
       "      <th>streaming_tv</th>\n",
       "      <th>streaming_movies</th>\n",
       "      <th>gender</th>\n",
       "      <th>senior_citizen</th>\n",
       "      <th>partner</th>\n",
       "      <th>dependents</th>\n",
       "      <th>multiple_lines</th>\n",
       "      <th>begin_year</th>\n",
       "      <th>begin_month</th>\n",
       "    </tr>\n",
       "  </thead>\n",
       "  <tbody>\n",
       "    <tr>\n",
       "      <th>2160</th>\n",
       "      <td>1</td>\n",
       "      <td>0</td>\n",
       "      <td>3</td>\n",
       "      <td>-1.482494</td>\n",
       "      <td>-0.889562</td>\n",
       "      <td>2</td>\n",
       "      <td>2</td>\n",
       "      <td>2</td>\n",
       "      <td>2</td>\n",
       "      <td>2</td>\n",
       "      <td>2</td>\n",
       "      <td>2</td>\n",
       "      <td>0</td>\n",
       "      <td>0</td>\n",
       "      <td>0</td>\n",
       "      <td>0</td>\n",
       "      <td>0</td>\n",
       "      <td>1.084831</td>\n",
       "      <td>-1.521779</td>\n",
       "    </tr>\n",
       "    <tr>\n",
       "      <th>3808</th>\n",
       "      <td>2</td>\n",
       "      <td>1</td>\n",
       "      <td>1</td>\n",
       "      <td>0.790277</td>\n",
       "      <td>1.783331</td>\n",
       "      <td>0</td>\n",
       "      <td>1</td>\n",
       "      <td>1</td>\n",
       "      <td>1</td>\n",
       "      <td>1</td>\n",
       "      <td>1</td>\n",
       "      <td>1</td>\n",
       "      <td>1</td>\n",
       "      <td>0</td>\n",
       "      <td>1</td>\n",
       "      <td>0</td>\n",
       "      <td>1</td>\n",
       "      <td>-1.469593</td>\n",
       "      <td>-1.241370</td>\n",
       "    </tr>\n",
       "    <tr>\n",
       "      <th>2509</th>\n",
       "      <td>0</td>\n",
       "      <td>1</td>\n",
       "      <td>2</td>\n",
       "      <td>0.823457</td>\n",
       "      <td>-0.040800</td>\n",
       "      <td>1</td>\n",
       "      <td>0</td>\n",
       "      <td>1</td>\n",
       "      <td>0</td>\n",
       "      <td>0</td>\n",
       "      <td>0</td>\n",
       "      <td>1</td>\n",
       "      <td>0</td>\n",
       "      <td>1</td>\n",
       "      <td>0</td>\n",
       "      <td>0</td>\n",
       "      <td>1</td>\n",
       "      <td>0.063061</td>\n",
       "      <td>1.282309</td>\n",
       "    </tr>\n",
       "    <tr>\n",
       "      <th>3830</th>\n",
       "      <td>1</td>\n",
       "      <td>1</td>\n",
       "      <td>2</td>\n",
       "      <td>1.352664</td>\n",
       "      <td>-0.813899</td>\n",
       "      <td>1</td>\n",
       "      <td>0</td>\n",
       "      <td>1</td>\n",
       "      <td>1</td>\n",
       "      <td>1</td>\n",
       "      <td>1</td>\n",
       "      <td>1</td>\n",
       "      <td>0</td>\n",
       "      <td>0</td>\n",
       "      <td>0</td>\n",
       "      <td>0</td>\n",
       "      <td>0</td>\n",
       "      <td>1.084831</td>\n",
       "      <td>0.441083</td>\n",
       "    </tr>\n",
       "    <tr>\n",
       "      <th>2568</th>\n",
       "      <td>0</td>\n",
       "      <td>1</td>\n",
       "      <td>3</td>\n",
       "      <td>-0.336155</td>\n",
       "      <td>-0.986440</td>\n",
       "      <td>0</td>\n",
       "      <td>0</td>\n",
       "      <td>0</td>\n",
       "      <td>0</td>\n",
       "      <td>0</td>\n",
       "      <td>0</td>\n",
       "      <td>1</td>\n",
       "      <td>0</td>\n",
       "      <td>0</td>\n",
       "      <td>0</td>\n",
       "      <td>0</td>\n",
       "      <td>0</td>\n",
       "      <td>1.084831</td>\n",
       "      <td>1.562718</td>\n",
       "    </tr>\n",
       "  </tbody>\n",
       "</table>\n",
       "</div>"
      ],
      "text/plain": [
       "     type paperless_billing payment_method  monthly_charges  total_charges  \\\n",
       "2160    1                 0              3        -1.482494      -0.889562   \n",
       "3808    2                 1              1         0.790277       1.783331   \n",
       "2509    0                 1              2         0.823457      -0.040800   \n",
       "3830    1                 1              2         1.352664      -0.813899   \n",
       "2568    0                 1              3        -0.336155      -0.986440   \n",
       "\n",
       "     internet_service online_security online_backup device_protection  \\\n",
       "2160                2               2             2                 2   \n",
       "3808                0               1             1                 1   \n",
       "2509                1               0             1                 0   \n",
       "3830                1               0             1                 1   \n",
       "2568                0               0             0                 0   \n",
       "\n",
       "     tech_support streaming_tv streaming_movies gender senior_citizen partner  \\\n",
       "2160            2            2                2      0              0       0   \n",
       "3808            1            1                1      1              0       1   \n",
       "2509            0            0                1      0              1       0   \n",
       "3830            1            1                1      0              0       0   \n",
       "2568            0            0                1      0              0       0   \n",
       "\n",
       "     dependents multiple_lines  begin_year  begin_month  \n",
       "2160          0              0    1.084831    -1.521779  \n",
       "3808          0              1   -1.469593    -1.241370  \n",
       "2509          0              1    0.063061     1.282309  \n",
       "3830          0              0    1.084831     0.441083  \n",
       "2568          0              0    1.084831     1.562718  "
      ]
     },
     "execution_count": 71,
     "metadata": {},
     "output_type": "execute_result"
    }
   ],
   "source": [
    "X_train_copy.head()"
   ]
  },
  {
   "cell_type": "markdown",
   "metadata": {},
   "source": [
    "#### LightGBM sin equilibrio de clases"
   ]
  },
  {
   "cell_type": "code",
   "execution_count": 101,
   "metadata": {},
   "outputs": [
    {
     "name": "stdout",
     "output_type": "stream",
     "text": [
      "CPU times: total: 1min 13s\n",
      "Wall time: 11.8 s\n"
     ]
    },
    {
     "data": {
      "text/html": [
       "<style>#sk-container-id-3 {color: black;}#sk-container-id-3 pre{padding: 0;}#sk-container-id-3 div.sk-toggleable {background-color: white;}#sk-container-id-3 label.sk-toggleable__label {cursor: pointer;display: block;width: 100%;margin-bottom: 0;padding: 0.3em;box-sizing: border-box;text-align: center;}#sk-container-id-3 label.sk-toggleable__label-arrow:before {content: \"▸\";float: left;margin-right: 0.25em;color: #696969;}#sk-container-id-3 label.sk-toggleable__label-arrow:hover:before {color: black;}#sk-container-id-3 div.sk-estimator:hover label.sk-toggleable__label-arrow:before {color: black;}#sk-container-id-3 div.sk-toggleable__content {max-height: 0;max-width: 0;overflow: hidden;text-align: left;background-color: #f0f8ff;}#sk-container-id-3 div.sk-toggleable__content pre {margin: 0.2em;color: black;border-radius: 0.25em;background-color: #f0f8ff;}#sk-container-id-3 input.sk-toggleable__control:checked~div.sk-toggleable__content {max-height: 200px;max-width: 100%;overflow: auto;}#sk-container-id-3 input.sk-toggleable__control:checked~label.sk-toggleable__label-arrow:before {content: \"▾\";}#sk-container-id-3 div.sk-estimator input.sk-toggleable__control:checked~label.sk-toggleable__label {background-color: #d4ebff;}#sk-container-id-3 div.sk-label input.sk-toggleable__control:checked~label.sk-toggleable__label {background-color: #d4ebff;}#sk-container-id-3 input.sk-hidden--visually {border: 0;clip: rect(1px 1px 1px 1px);clip: rect(1px, 1px, 1px, 1px);height: 1px;margin: -1px;overflow: hidden;padding: 0;position: absolute;width: 1px;}#sk-container-id-3 div.sk-estimator {font-family: monospace;background-color: #f0f8ff;border: 1px dotted black;border-radius: 0.25em;box-sizing: border-box;margin-bottom: 0.5em;}#sk-container-id-3 div.sk-estimator:hover {background-color: #d4ebff;}#sk-container-id-3 div.sk-parallel-item::after {content: \"\";width: 100%;border-bottom: 1px solid gray;flex-grow: 1;}#sk-container-id-3 div.sk-label:hover label.sk-toggleable__label {background-color: #d4ebff;}#sk-container-id-3 div.sk-serial::before {content: \"\";position: absolute;border-left: 1px solid gray;box-sizing: border-box;top: 0;bottom: 0;left: 50%;z-index: 0;}#sk-container-id-3 div.sk-serial {display: flex;flex-direction: column;align-items: center;background-color: white;padding-right: 0.2em;padding-left: 0.2em;position: relative;}#sk-container-id-3 div.sk-item {position: relative;z-index: 1;}#sk-container-id-3 div.sk-parallel {display: flex;align-items: stretch;justify-content: center;background-color: white;position: relative;}#sk-container-id-3 div.sk-item::before, #sk-container-id-3 div.sk-parallel-item::before {content: \"\";position: absolute;border-left: 1px solid gray;box-sizing: border-box;top: 0;bottom: 0;left: 50%;z-index: -1;}#sk-container-id-3 div.sk-parallel-item {display: flex;flex-direction: column;z-index: 1;position: relative;background-color: white;}#sk-container-id-3 div.sk-parallel-item:first-child::after {align-self: flex-end;width: 50%;}#sk-container-id-3 div.sk-parallel-item:last-child::after {align-self: flex-start;width: 50%;}#sk-container-id-3 div.sk-parallel-item:only-child::after {width: 0;}#sk-container-id-3 div.sk-dashed-wrapped {border: 1px dashed gray;margin: 0 0.4em 0.5em 0.4em;box-sizing: border-box;padding-bottom: 0.4em;background-color: white;}#sk-container-id-3 div.sk-label label {font-family: monospace;font-weight: bold;display: inline-block;line-height: 1.2em;}#sk-container-id-3 div.sk-label-container {text-align: center;}#sk-container-id-3 div.sk-container {/* jupyter's `normalize.less` sets `[hidden] { display: none; }` but bootstrap.min.css set `[hidden] { display: none !important; }` so we also need the `!important` here to be able to override the default hidden behavior on the sphinx rendered scikit-learn.org. See: https://github.com/scikit-learn/scikit-learn/issues/21755 */display: inline-block !important;position: relative;}#sk-container-id-3 div.sk-text-repr-fallback {display: none;}</style><div id=\"sk-container-id-3\" class=\"sk-top-container\"><div class=\"sk-text-repr-fallback\"><pre>GridSearchCV(cv=3,\n",
       "             estimator=LGBMClassifier(n_jobs=-1, objective=&#x27;binary&#x27;,\n",
       "                                      random_state=12345, verbose=-1),\n",
       "             param_grid={&#x27;lgbm__boosting_type&#x27;: [&#x27;gbdt&#x27;],\n",
       "                         &#x27;lgbm__learning_rate&#x27;: [0.005, 0.01],\n",
       "                         &#x27;lgbm__n_estimators&#x27;: [8, 16, 24],\n",
       "                         &#x27;lgbm__num_leaves&#x27;: [6, 8, 12, 16]},\n",
       "             refit=&#x27;roc_auc&#x27;, return_train_score=True,\n",
       "             scoring={&#x27;accuracy&#x27;: &#x27;accuracy&#x27;, &#x27;f1&#x27;: &#x27;f1&#x27;, &#x27;recall&#x27;: &#x27;recall&#x27;,\n",
       "                      &#x27;roc_auc&#x27;: &#x27;roc_auc&#x27;})</pre><b>In a Jupyter environment, please rerun this cell to show the HTML representation or trust the notebook. <br />On GitHub, the HTML representation is unable to render, please try loading this page with nbviewer.org.</b></div><div class=\"sk-container\" hidden><div class=\"sk-item sk-dashed-wrapped\"><div class=\"sk-label-container\"><div class=\"sk-label sk-toggleable\"><input class=\"sk-toggleable__control sk-hidden--visually\" id=\"sk-estimator-id-7\" type=\"checkbox\" ><label for=\"sk-estimator-id-7\" class=\"sk-toggleable__label sk-toggleable__label-arrow\">GridSearchCV</label><div class=\"sk-toggleable__content\"><pre>GridSearchCV(cv=3,\n",
       "             estimator=LGBMClassifier(n_jobs=-1, objective=&#x27;binary&#x27;,\n",
       "                                      random_state=12345, verbose=-1),\n",
       "             param_grid={&#x27;lgbm__boosting_type&#x27;: [&#x27;gbdt&#x27;],\n",
       "                         &#x27;lgbm__learning_rate&#x27;: [0.005, 0.01],\n",
       "                         &#x27;lgbm__n_estimators&#x27;: [8, 16, 24],\n",
       "                         &#x27;lgbm__num_leaves&#x27;: [6, 8, 12, 16]},\n",
       "             refit=&#x27;roc_auc&#x27;, return_train_score=True,\n",
       "             scoring={&#x27;accuracy&#x27;: &#x27;accuracy&#x27;, &#x27;f1&#x27;: &#x27;f1&#x27;, &#x27;recall&#x27;: &#x27;recall&#x27;,\n",
       "                      &#x27;roc_auc&#x27;: &#x27;roc_auc&#x27;})</pre></div></div></div><div class=\"sk-parallel\"><div class=\"sk-parallel-item\"><div class=\"sk-item\"><div class=\"sk-label-container\"><div class=\"sk-label sk-toggleable\"><input class=\"sk-toggleable__control sk-hidden--visually\" id=\"sk-estimator-id-8\" type=\"checkbox\" ><label for=\"sk-estimator-id-8\" class=\"sk-toggleable__label sk-toggleable__label-arrow\">estimator: LGBMClassifier</label><div class=\"sk-toggleable__content\"><pre>LGBMClassifier(n_jobs=-1, objective=&#x27;binary&#x27;, random_state=12345, verbose=-1)</pre></div></div></div><div class=\"sk-serial\"><div class=\"sk-item\"><div class=\"sk-estimator sk-toggleable\"><input class=\"sk-toggleable__control sk-hidden--visually\" id=\"sk-estimator-id-9\" type=\"checkbox\" ><label for=\"sk-estimator-id-9\" class=\"sk-toggleable__label sk-toggleable__label-arrow\">LGBMClassifier</label><div class=\"sk-toggleable__content\"><pre>LGBMClassifier(n_jobs=-1, objective=&#x27;binary&#x27;, random_state=12345, verbose=-1)</pre></div></div></div></div></div></div></div></div></div></div>"
      ],
      "text/plain": [
       "GridSearchCV(cv=3,\n",
       "             estimator=LGBMClassifier(n_jobs=-1, objective='binary',\n",
       "                                      random_state=12345, verbose=-1),\n",
       "             param_grid={'lgbm__boosting_type': ['gbdt'],\n",
       "                         'lgbm__learning_rate': [0.005, 0.01],\n",
       "                         'lgbm__n_estimators': [8, 16, 24],\n",
       "                         'lgbm__num_leaves': [6, 8, 12, 16]},\n",
       "             refit='roc_auc', return_train_score=True,\n",
       "             scoring={'accuracy': 'accuracy', 'f1': 'f1', 'recall': 'recall',\n",
       "                      'roc_auc': 'roc_auc'})"
      ]
     },
     "execution_count": 101,
     "metadata": {},
     "output_type": "execute_result"
    }
   ],
   "source": [
    "%%time\n",
    "model = LGBMClassifier(objective='binary', random_state=12345, n_jobs=-1, verbose=-1)\n",
    "\n",
    "grid = {'lgbm__learning_rate': [0.005, 0.01],\n",
    "        'lgbm__n_estimators': [8,16,24],\n",
    "        'lgbm__num_leaves': [6,8,12,16],\n",
    "        'lgbm__boosting_type' : ['gbdt']\n",
    "        }\n",
    "\n",
    "lgbm_gscv = GridSearchCV(model, \n",
    "                         param_grid=grid, \n",
    "                         scoring=scorers, \n",
    "                         refit='roc_auc',\n",
    "                         cv=3, \n",
    "                         return_train_score=True)\n",
    "\n",
    "lgbm_gscv.fit(X_train_copy,y_train)"
   ]
  },
  {
   "cell_type": "code",
   "execution_count": 102,
   "metadata": {},
   "outputs": [
    {
     "name": "stdout",
     "output_type": "stream",
     "text": [
      "Mejores parámetros de LightGBM sin equilibrio de clases:\n",
      "{'lgbm__boosting_type': 'gbdt', 'lgbm__learning_rate': 0.005, 'lgbm__n_estimators': 8, 'lgbm__num_leaves': 6}\n",
      "\n",
      "Mejores resultados de LightGBM sin equilibrio de clases:\n"
     ]
    },
    {
     "data": {
      "text/html": [
       "<div>\n",
       "<style scoped>\n",
       "    .dataframe tbody tr th:only-of-type {\n",
       "        vertical-align: middle;\n",
       "    }\n",
       "\n",
       "    .dataframe tbody tr th {\n",
       "        vertical-align: top;\n",
       "    }\n",
       "\n",
       "    .dataframe thead th {\n",
       "        text-align: right;\n",
       "    }\n",
       "</style>\n",
       "<table border=\"1\" class=\"dataframe\">\n",
       "  <thead>\n",
       "    <tr style=\"text-align: right;\">\n",
       "      <th></th>\n",
       "      <th>roc_auc</th>\n",
       "      <th>accuracy</th>\n",
       "      <th>recall</th>\n",
       "      <th>f1</th>\n",
       "    </tr>\n",
       "  </thead>\n",
       "  <tbody>\n",
       "    <tr>\n",
       "      <th>0</th>\n",
       "      <td>0.8995</td>\n",
       "      <td>0.861</td>\n",
       "      <td>0.6327</td>\n",
       "      <td>0.7077</td>\n",
       "    </tr>\n",
       "  </tbody>\n",
       "</table>\n",
       "</div>"
      ],
      "text/plain": [
       "   roc_auc  accuracy  recall      f1\n",
       "0   0.8995     0.861  0.6327  0.7077"
      ]
     },
     "metadata": {},
     "output_type": "display_data"
    }
   ],
   "source": [
    "lgbm_params, lgbm_results = gscv_results(lgbm_gscv, 'roc_auc', 'accuracy', 'recall', 'f1')\n",
    "\n",
    "print('Mejores parámetros de LightGBM sin equilibrio de clases:')\n",
    "print(lgbm_params)\n",
    "print()\n",
    "print('Mejores resultados de LightGBM sin equilibrio de clases:')\n",
    "display(lgbm_results)"
   ]
  },
  {
   "cell_type": "markdown",
   "metadata": {},
   "source": [
    "#### LightGBM con equilibrio de clases"
   ]
  },
  {
   "cell_type": "code",
   "execution_count": 149,
   "metadata": {},
   "outputs": [
    {
     "name": "stdout",
     "output_type": "stream",
     "text": [
      "CPU times: total: 1min 24s\n",
      "Wall time: 13.3 s\n"
     ]
    },
    {
     "data": {
      "text/html": [
       "<style>#sk-container-id-6 {color: black;}#sk-container-id-6 pre{padding: 0;}#sk-container-id-6 div.sk-toggleable {background-color: white;}#sk-container-id-6 label.sk-toggleable__label {cursor: pointer;display: block;width: 100%;margin-bottom: 0;padding: 0.3em;box-sizing: border-box;text-align: center;}#sk-container-id-6 label.sk-toggleable__label-arrow:before {content: \"▸\";float: left;margin-right: 0.25em;color: #696969;}#sk-container-id-6 label.sk-toggleable__label-arrow:hover:before {color: black;}#sk-container-id-6 div.sk-estimator:hover label.sk-toggleable__label-arrow:before {color: black;}#sk-container-id-6 div.sk-toggleable__content {max-height: 0;max-width: 0;overflow: hidden;text-align: left;background-color: #f0f8ff;}#sk-container-id-6 div.sk-toggleable__content pre {margin: 0.2em;color: black;border-radius: 0.25em;background-color: #f0f8ff;}#sk-container-id-6 input.sk-toggleable__control:checked~div.sk-toggleable__content {max-height: 200px;max-width: 100%;overflow: auto;}#sk-container-id-6 input.sk-toggleable__control:checked~label.sk-toggleable__label-arrow:before {content: \"▾\";}#sk-container-id-6 div.sk-estimator input.sk-toggleable__control:checked~label.sk-toggleable__label {background-color: #d4ebff;}#sk-container-id-6 div.sk-label input.sk-toggleable__control:checked~label.sk-toggleable__label {background-color: #d4ebff;}#sk-container-id-6 input.sk-hidden--visually {border: 0;clip: rect(1px 1px 1px 1px);clip: rect(1px, 1px, 1px, 1px);height: 1px;margin: -1px;overflow: hidden;padding: 0;position: absolute;width: 1px;}#sk-container-id-6 div.sk-estimator {font-family: monospace;background-color: #f0f8ff;border: 1px dotted black;border-radius: 0.25em;box-sizing: border-box;margin-bottom: 0.5em;}#sk-container-id-6 div.sk-estimator:hover {background-color: #d4ebff;}#sk-container-id-6 div.sk-parallel-item::after {content: \"\";width: 100%;border-bottom: 1px solid gray;flex-grow: 1;}#sk-container-id-6 div.sk-label:hover label.sk-toggleable__label {background-color: #d4ebff;}#sk-container-id-6 div.sk-serial::before {content: \"\";position: absolute;border-left: 1px solid gray;box-sizing: border-box;top: 0;bottom: 0;left: 50%;z-index: 0;}#sk-container-id-6 div.sk-serial {display: flex;flex-direction: column;align-items: center;background-color: white;padding-right: 0.2em;padding-left: 0.2em;position: relative;}#sk-container-id-6 div.sk-item {position: relative;z-index: 1;}#sk-container-id-6 div.sk-parallel {display: flex;align-items: stretch;justify-content: center;background-color: white;position: relative;}#sk-container-id-6 div.sk-item::before, #sk-container-id-6 div.sk-parallel-item::before {content: \"\";position: absolute;border-left: 1px solid gray;box-sizing: border-box;top: 0;bottom: 0;left: 50%;z-index: -1;}#sk-container-id-6 div.sk-parallel-item {display: flex;flex-direction: column;z-index: 1;position: relative;background-color: white;}#sk-container-id-6 div.sk-parallel-item:first-child::after {align-self: flex-end;width: 50%;}#sk-container-id-6 div.sk-parallel-item:last-child::after {align-self: flex-start;width: 50%;}#sk-container-id-6 div.sk-parallel-item:only-child::after {width: 0;}#sk-container-id-6 div.sk-dashed-wrapped {border: 1px dashed gray;margin: 0 0.4em 0.5em 0.4em;box-sizing: border-box;padding-bottom: 0.4em;background-color: white;}#sk-container-id-6 div.sk-label label {font-family: monospace;font-weight: bold;display: inline-block;line-height: 1.2em;}#sk-container-id-6 div.sk-label-container {text-align: center;}#sk-container-id-6 div.sk-container {/* jupyter's `normalize.less` sets `[hidden] { display: none; }` but bootstrap.min.css set `[hidden] { display: none !important; }` so we also need the `!important` here to be able to override the default hidden behavior on the sphinx rendered scikit-learn.org. See: https://github.com/scikit-learn/scikit-learn/issues/21755 */display: inline-block !important;position: relative;}#sk-container-id-6 div.sk-text-repr-fallback {display: none;}</style><div id=\"sk-container-id-6\" class=\"sk-top-container\"><div class=\"sk-text-repr-fallback\"><pre>GridSearchCV(cv=3,\n",
       "             estimator=LGBMClassifier(n_jobs=-1, objective=&#x27;binary&#x27;,\n",
       "                                      random_state=12345, scale_pos_weight=3,\n",
       "                                      verbose=-1),\n",
       "             param_grid={&#x27;lgbm__boosting_type&#x27;: [&#x27;gbdt&#x27;],\n",
       "                         &#x27;lgbm__learning_rate&#x27;: [0.005, 0.01],\n",
       "                         &#x27;lgbm__n_estimators&#x27;: [8, 16, 24],\n",
       "                         &#x27;lgbm__num_leaves&#x27;: [6, 8, 12, 16]},\n",
       "             refit=&#x27;roc_auc&#x27;, return_train_score=True,\n",
       "             scoring={&#x27;accuracy&#x27;: &#x27;accuracy&#x27;, &#x27;f1&#x27;: &#x27;f1&#x27;, &#x27;recall&#x27;: &#x27;recall&#x27;,\n",
       "                      &#x27;roc_auc&#x27;: &#x27;roc_auc&#x27;})</pre><b>In a Jupyter environment, please rerun this cell to show the HTML representation or trust the notebook. <br />On GitHub, the HTML representation is unable to render, please try loading this page with nbviewer.org.</b></div><div class=\"sk-container\" hidden><div class=\"sk-item sk-dashed-wrapped\"><div class=\"sk-label-container\"><div class=\"sk-label sk-toggleable\"><input class=\"sk-toggleable__control sk-hidden--visually\" id=\"sk-estimator-id-23\" type=\"checkbox\" ><label for=\"sk-estimator-id-23\" class=\"sk-toggleable__label sk-toggleable__label-arrow\">GridSearchCV</label><div class=\"sk-toggleable__content\"><pre>GridSearchCV(cv=3,\n",
       "             estimator=LGBMClassifier(n_jobs=-1, objective=&#x27;binary&#x27;,\n",
       "                                      random_state=12345, scale_pos_weight=3,\n",
       "                                      verbose=-1),\n",
       "             param_grid={&#x27;lgbm__boosting_type&#x27;: [&#x27;gbdt&#x27;],\n",
       "                         &#x27;lgbm__learning_rate&#x27;: [0.005, 0.01],\n",
       "                         &#x27;lgbm__n_estimators&#x27;: [8, 16, 24],\n",
       "                         &#x27;lgbm__num_leaves&#x27;: [6, 8, 12, 16]},\n",
       "             refit=&#x27;roc_auc&#x27;, return_train_score=True,\n",
       "             scoring={&#x27;accuracy&#x27;: &#x27;accuracy&#x27;, &#x27;f1&#x27;: &#x27;f1&#x27;, &#x27;recall&#x27;: &#x27;recall&#x27;,\n",
       "                      &#x27;roc_auc&#x27;: &#x27;roc_auc&#x27;})</pre></div></div></div><div class=\"sk-parallel\"><div class=\"sk-parallel-item\"><div class=\"sk-item\"><div class=\"sk-label-container\"><div class=\"sk-label sk-toggleable\"><input class=\"sk-toggleable__control sk-hidden--visually\" id=\"sk-estimator-id-24\" type=\"checkbox\" ><label for=\"sk-estimator-id-24\" class=\"sk-toggleable__label sk-toggleable__label-arrow\">estimator: LGBMClassifier</label><div class=\"sk-toggleable__content\"><pre>LGBMClassifier(n_jobs=-1, objective=&#x27;binary&#x27;, random_state=12345,\n",
       "               scale_pos_weight=3, verbose=-1)</pre></div></div></div><div class=\"sk-serial\"><div class=\"sk-item\"><div class=\"sk-estimator sk-toggleable\"><input class=\"sk-toggleable__control sk-hidden--visually\" id=\"sk-estimator-id-25\" type=\"checkbox\" ><label for=\"sk-estimator-id-25\" class=\"sk-toggleable__label sk-toggleable__label-arrow\">LGBMClassifier</label><div class=\"sk-toggleable__content\"><pre>LGBMClassifier(n_jobs=-1, objective=&#x27;binary&#x27;, random_state=12345,\n",
       "               scale_pos_weight=3, verbose=-1)</pre></div></div></div></div></div></div></div></div></div></div>"
      ],
      "text/plain": [
       "GridSearchCV(cv=3,\n",
       "             estimator=LGBMClassifier(n_jobs=-1, objective='binary',\n",
       "                                      random_state=12345, scale_pos_weight=3,\n",
       "                                      verbose=-1),\n",
       "             param_grid={'lgbm__boosting_type': ['gbdt'],\n",
       "                         'lgbm__learning_rate': [0.005, 0.01],\n",
       "                         'lgbm__n_estimators': [8, 16, 24],\n",
       "                         'lgbm__num_leaves': [6, 8, 12, 16]},\n",
       "             refit='roc_auc', return_train_score=True,\n",
       "             scoring={'accuracy': 'accuracy', 'f1': 'f1', 'recall': 'recall',\n",
       "                      'roc_auc': 'roc_auc'})"
      ]
     },
     "execution_count": 149,
     "metadata": {},
     "output_type": "execute_result"
    }
   ],
   "source": [
    "%%time\n",
    "model = LGBMClassifier(objective='binary', random_state=12345, n_jobs=-1, verbose=-1, scale_pos_weight=3)\n",
    "\n",
    "grid = {'lgbm__learning_rate': [0.005, 0.01],\n",
    "        'lgbm__n_estimators': [8,16,24],\n",
    "        'lgbm__num_leaves': [6,8,12,16],\n",
    "        'lgbm__boosting_type' : ['gbdt']\n",
    "        }\n",
    "\n",
    "lgbm_wc_gscv = GridSearchCV(model, \n",
    "                         param_grid=grid, \n",
    "                         scoring=scorers, \n",
    "                         refit='roc_auc',\n",
    "                         cv=3, \n",
    "                         return_train_score=True)\n",
    "\n",
    "lgbm_wc_gscv.fit(X_train_copy,y_train)"
   ]
  },
  {
   "cell_type": "code",
   "execution_count": 152,
   "metadata": {},
   "outputs": [
    {
     "name": "stdout",
     "output_type": "stream",
     "text": [
      "Mejores parámetros de LightGBM con scale_pos_weight:\n",
      "{'lgbm__boosting_type': 'gbdt', 'lgbm__learning_rate': 0.005, 'lgbm__n_estimators': 8, 'lgbm__num_leaves': 6}\n",
      "\n",
      "Mejores resultados de LightGBM con scale_pos_weight:\n"
     ]
    },
    {
     "data": {
      "text/html": [
       "<div>\n",
       "<style scoped>\n",
       "    .dataframe tbody tr th:only-of-type {\n",
       "        vertical-align: middle;\n",
       "    }\n",
       "\n",
       "    .dataframe tbody tr th {\n",
       "        vertical-align: top;\n",
       "    }\n",
       "\n",
       "    .dataframe thead th {\n",
       "        text-align: right;\n",
       "    }\n",
       "</style>\n",
       "<table border=\"1\" class=\"dataframe\">\n",
       "  <thead>\n",
       "    <tr style=\"text-align: right;\">\n",
       "      <th></th>\n",
       "      <th>roc_auc</th>\n",
       "      <th>accuracy</th>\n",
       "      <th>recall</th>\n",
       "      <th>f1</th>\n",
       "    </tr>\n",
       "  </thead>\n",
       "  <tbody>\n",
       "    <tr>\n",
       "      <th>0</th>\n",
       "      <td>0.8996</td>\n",
       "      <td>0.8385</td>\n",
       "      <td>0.7575</td>\n",
       "      <td>0.7137</td>\n",
       "    </tr>\n",
       "  </tbody>\n",
       "</table>\n",
       "</div>"
      ],
      "text/plain": [
       "   roc_auc  accuracy  recall      f1\n",
       "0   0.8996    0.8385  0.7575  0.7137"
      ]
     },
     "metadata": {},
     "output_type": "display_data"
    }
   ],
   "source": [
    "lgbm_wc_params, lgbm_wc_results = gscv_results(lgbm_wc_gscv, 'roc_auc', 'accuracy', 'recall', 'f1')\n",
    "\n",
    "print('Mejores parámetros de LightGBM con scale_pos_weight:')\n",
    "print(lgbm_wc_params)\n",
    "print()\n",
    "print('Mejores resultados de LightGBM con scale_pos_weight:')\n",
    "display(lgbm_wc_results)"
   ]
  },
  {
   "cell_type": "code",
   "execution_count": 189,
   "metadata": {},
   "outputs": [
    {
     "name": "stdout",
     "output_type": "stream",
     "text": [
      "LightGBM Results Summary:\n"
     ]
    },
    {
     "data": {
      "text/html": [
       "<div>\n",
       "<style scoped>\n",
       "    .dataframe tbody tr th:only-of-type {\n",
       "        vertical-align: middle;\n",
       "    }\n",
       "\n",
       "    .dataframe tbody tr th {\n",
       "        vertical-align: top;\n",
       "    }\n",
       "\n",
       "    .dataframe thead th {\n",
       "        text-align: right;\n",
       "    }\n",
       "</style>\n",
       "<table border=\"1\" class=\"dataframe\">\n",
       "  <thead>\n",
       "    <tr style=\"text-align: right;\">\n",
       "      <th></th>\n",
       "      <th>roc_auc</th>\n",
       "      <th>accuracy</th>\n",
       "      <th>recall</th>\n",
       "      <th>f1</th>\n",
       "    </tr>\n",
       "  </thead>\n",
       "  <tbody>\n",
       "    <tr>\n",
       "      <th>LightGBM scale_pos_weight</th>\n",
       "      <td>0.8996</td>\n",
       "      <td>0.8385</td>\n",
       "      <td>0.7575</td>\n",
       "      <td>0.7137</td>\n",
       "    </tr>\n",
       "    <tr>\n",
       "      <th>LightGBM</th>\n",
       "      <td>0.8995</td>\n",
       "      <td>0.8610</td>\n",
       "      <td>0.6327</td>\n",
       "      <td>0.7077</td>\n",
       "    </tr>\n",
       "  </tbody>\n",
       "</table>\n",
       "</div>"
      ],
      "text/plain": [
       "                           roc_auc  accuracy  recall      f1\n",
       "LightGBM scale_pos_weight   0.8996    0.8385  0.7575  0.7137\n",
       "LightGBM                    0.8995    0.8610  0.6327  0.7077"
      ]
     },
     "metadata": {},
     "output_type": "display_data"
    }
   ],
   "source": [
    "lgbm_table_results = pd.concat([lgbm_results, lgbm_wc_results])\n",
    "\n",
    "lgbm_table_results.index = ['LightGBM', 'LightGBM scale_pos_weight']\n",
    "\n",
    "print('LightGBM Results Summary:')\n",
    "display(lgbm_table_results.sort_values(by='roc_auc', ascending=False).round(4))"
   ]
  },
  {
   "cell_type": "markdown",
   "metadata": {},
   "source": [
    "El modelo LightGBM mejoró con equilibrio de clases pero no de manera considerada."
   ]
  },
  {
   "cell_type": "markdown",
   "metadata": {},
   "source": [
    "### XGBoost"
   ]
  },
  {
   "cell_type": "markdown",
   "metadata": {},
   "source": [
    "#### XGBoost sin equilibrio de clases"
   ]
  },
  {
   "cell_type": "code",
   "execution_count": 139,
   "metadata": {},
   "outputs": [
    {
     "data": {
      "text/html": [
       "<style>#sk-container-id-4 {color: black;}#sk-container-id-4 pre{padding: 0;}#sk-container-id-4 div.sk-toggleable {background-color: white;}#sk-container-id-4 label.sk-toggleable__label {cursor: pointer;display: block;width: 100%;margin-bottom: 0;padding: 0.3em;box-sizing: border-box;text-align: center;}#sk-container-id-4 label.sk-toggleable__label-arrow:before {content: \"▸\";float: left;margin-right: 0.25em;color: #696969;}#sk-container-id-4 label.sk-toggleable__label-arrow:hover:before {color: black;}#sk-container-id-4 div.sk-estimator:hover label.sk-toggleable__label-arrow:before {color: black;}#sk-container-id-4 div.sk-toggleable__content {max-height: 0;max-width: 0;overflow: hidden;text-align: left;background-color: #f0f8ff;}#sk-container-id-4 div.sk-toggleable__content pre {margin: 0.2em;color: black;border-radius: 0.25em;background-color: #f0f8ff;}#sk-container-id-4 input.sk-toggleable__control:checked~div.sk-toggleable__content {max-height: 200px;max-width: 100%;overflow: auto;}#sk-container-id-4 input.sk-toggleable__control:checked~label.sk-toggleable__label-arrow:before {content: \"▾\";}#sk-container-id-4 div.sk-estimator input.sk-toggleable__control:checked~label.sk-toggleable__label {background-color: #d4ebff;}#sk-container-id-4 div.sk-label input.sk-toggleable__control:checked~label.sk-toggleable__label {background-color: #d4ebff;}#sk-container-id-4 input.sk-hidden--visually {border: 0;clip: rect(1px 1px 1px 1px);clip: rect(1px, 1px, 1px, 1px);height: 1px;margin: -1px;overflow: hidden;padding: 0;position: absolute;width: 1px;}#sk-container-id-4 div.sk-estimator {font-family: monospace;background-color: #f0f8ff;border: 1px dotted black;border-radius: 0.25em;box-sizing: border-box;margin-bottom: 0.5em;}#sk-container-id-4 div.sk-estimator:hover {background-color: #d4ebff;}#sk-container-id-4 div.sk-parallel-item::after {content: \"\";width: 100%;border-bottom: 1px solid gray;flex-grow: 1;}#sk-container-id-4 div.sk-label:hover label.sk-toggleable__label {background-color: #d4ebff;}#sk-container-id-4 div.sk-serial::before {content: \"\";position: absolute;border-left: 1px solid gray;box-sizing: border-box;top: 0;bottom: 0;left: 50%;z-index: 0;}#sk-container-id-4 div.sk-serial {display: flex;flex-direction: column;align-items: center;background-color: white;padding-right: 0.2em;padding-left: 0.2em;position: relative;}#sk-container-id-4 div.sk-item {position: relative;z-index: 1;}#sk-container-id-4 div.sk-parallel {display: flex;align-items: stretch;justify-content: center;background-color: white;position: relative;}#sk-container-id-4 div.sk-item::before, #sk-container-id-4 div.sk-parallel-item::before {content: \"\";position: absolute;border-left: 1px solid gray;box-sizing: border-box;top: 0;bottom: 0;left: 50%;z-index: -1;}#sk-container-id-4 div.sk-parallel-item {display: flex;flex-direction: column;z-index: 1;position: relative;background-color: white;}#sk-container-id-4 div.sk-parallel-item:first-child::after {align-self: flex-end;width: 50%;}#sk-container-id-4 div.sk-parallel-item:last-child::after {align-self: flex-start;width: 50%;}#sk-container-id-4 div.sk-parallel-item:only-child::after {width: 0;}#sk-container-id-4 div.sk-dashed-wrapped {border: 1px dashed gray;margin: 0 0.4em 0.5em 0.4em;box-sizing: border-box;padding-bottom: 0.4em;background-color: white;}#sk-container-id-4 div.sk-label label {font-family: monospace;font-weight: bold;display: inline-block;line-height: 1.2em;}#sk-container-id-4 div.sk-label-container {text-align: center;}#sk-container-id-4 div.sk-container {/* jupyter's `normalize.less` sets `[hidden] { display: none; }` but bootstrap.min.css set `[hidden] { display: none !important; }` so we also need the `!important` here to be able to override the default hidden behavior on the sphinx rendered scikit-learn.org. See: https://github.com/scikit-learn/scikit-learn/issues/21755 */display: inline-block !important;position: relative;}#sk-container-id-4 div.sk-text-repr-fallback {display: none;}</style><div id=\"sk-container-id-4\" class=\"sk-top-container\"><div class=\"sk-text-repr-fallback\"><pre>GridSearchCV(cv=3,\n",
       "             estimator=Pipeline(steps=[(&#x27;preprocess&#x27;,\n",
       "                                        ColumnTransformer(remainder=&#x27;passthrough&#x27;,\n",
       "                                                          transformers=[(&#x27;onehotencoder&#x27;,\n",
       "                                                                         OneHotEncoder(drop=&#x27;first&#x27;),\n",
       "                                                                         [&#x27;type&#x27;,\n",
       "                                                                          &#x27;payment_method&#x27;,\n",
       "                                                                          &#x27;internet_service&#x27;,\n",
       "                                                                          &#x27;multiple_lines&#x27;,\n",
       "                                                                          &#x27;online_security&#x27;,\n",
       "                                                                          &#x27;online_backup&#x27;,\n",
       "                                                                          &#x27;device_protection&#x27;,\n",
       "                                                                          &#x27;tech_support&#x27;,\n",
       "                                                                          &#x27;streaming_tv&#x27;,\n",
       "                                                                          &#x27;streaming_movies&#x27;]),\n",
       "                                                                        (&#x27;standardscaler&#x27;,\n",
       "                                                                         Standar...\n",
       "                                                      monotone_constraints=None,\n",
       "                                                      multi_strategy=None,\n",
       "                                                      n_estimators=150,\n",
       "                                                      n_jobs=None,\n",
       "                                                      num_parallel_tree=None,\n",
       "                                                      random_state=12345, ...))]),\n",
       "             param_grid={&#x27;xgb__learning_rate&#x27;: [0.001, 0.003, 0.005, 0.007,\n",
       "                                                0.01, 0.03, 0.05, 0.1],\n",
       "                         &#x27;xgb__max_depth&#x27;: [1, 2, 3, 5]},\n",
       "             refit=&#x27;roc_auc&#x27;, return_train_score=True,\n",
       "             scoring={&#x27;accuracy&#x27;: &#x27;accuracy&#x27;, &#x27;f1&#x27;: &#x27;f1&#x27;, &#x27;recall&#x27;: &#x27;recall&#x27;,\n",
       "                      &#x27;roc_auc&#x27;: &#x27;roc_auc&#x27;})</pre><b>In a Jupyter environment, please rerun this cell to show the HTML representation or trust the notebook. <br />On GitHub, the HTML representation is unable to render, please try loading this page with nbviewer.org.</b></div><div class=\"sk-container\" hidden><div class=\"sk-item sk-dashed-wrapped\"><div class=\"sk-label-container\"><div class=\"sk-label sk-toggleable\"><input class=\"sk-toggleable__control sk-hidden--visually\" id=\"sk-estimator-id-10\" type=\"checkbox\" ><label for=\"sk-estimator-id-10\" class=\"sk-toggleable__label sk-toggleable__label-arrow\">GridSearchCV</label><div class=\"sk-toggleable__content\"><pre>GridSearchCV(cv=3,\n",
       "             estimator=Pipeline(steps=[(&#x27;preprocess&#x27;,\n",
       "                                        ColumnTransformer(remainder=&#x27;passthrough&#x27;,\n",
       "                                                          transformers=[(&#x27;onehotencoder&#x27;,\n",
       "                                                                         OneHotEncoder(drop=&#x27;first&#x27;),\n",
       "                                                                         [&#x27;type&#x27;,\n",
       "                                                                          &#x27;payment_method&#x27;,\n",
       "                                                                          &#x27;internet_service&#x27;,\n",
       "                                                                          &#x27;multiple_lines&#x27;,\n",
       "                                                                          &#x27;online_security&#x27;,\n",
       "                                                                          &#x27;online_backup&#x27;,\n",
       "                                                                          &#x27;device_protection&#x27;,\n",
       "                                                                          &#x27;tech_support&#x27;,\n",
       "                                                                          &#x27;streaming_tv&#x27;,\n",
       "                                                                          &#x27;streaming_movies&#x27;]),\n",
       "                                                                        (&#x27;standardscaler&#x27;,\n",
       "                                                                         Standar...\n",
       "                                                      monotone_constraints=None,\n",
       "                                                      multi_strategy=None,\n",
       "                                                      n_estimators=150,\n",
       "                                                      n_jobs=None,\n",
       "                                                      num_parallel_tree=None,\n",
       "                                                      random_state=12345, ...))]),\n",
       "             param_grid={&#x27;xgb__learning_rate&#x27;: [0.001, 0.003, 0.005, 0.007,\n",
       "                                                0.01, 0.03, 0.05, 0.1],\n",
       "                         &#x27;xgb__max_depth&#x27;: [1, 2, 3, 5]},\n",
       "             refit=&#x27;roc_auc&#x27;, return_train_score=True,\n",
       "             scoring={&#x27;accuracy&#x27;: &#x27;accuracy&#x27;, &#x27;f1&#x27;: &#x27;f1&#x27;, &#x27;recall&#x27;: &#x27;recall&#x27;,\n",
       "                      &#x27;roc_auc&#x27;: &#x27;roc_auc&#x27;})</pre></div></div></div><div class=\"sk-parallel\"><div class=\"sk-parallel-item\"><div class=\"sk-item\"><div class=\"sk-label-container\"><div class=\"sk-label sk-toggleable\"><input class=\"sk-toggleable__control sk-hidden--visually\" id=\"sk-estimator-id-11\" type=\"checkbox\" ><label for=\"sk-estimator-id-11\" class=\"sk-toggleable__label sk-toggleable__label-arrow\">estimator: Pipeline</label><div class=\"sk-toggleable__content\"><pre>Pipeline(steps=[(&#x27;preprocess&#x27;,\n",
       "                 ColumnTransformer(remainder=&#x27;passthrough&#x27;,\n",
       "                                   transformers=[(&#x27;onehotencoder&#x27;,\n",
       "                                                  OneHotEncoder(drop=&#x27;first&#x27;),\n",
       "                                                  [&#x27;type&#x27;, &#x27;payment_method&#x27;,\n",
       "                                                   &#x27;internet_service&#x27;,\n",
       "                                                   &#x27;multiple_lines&#x27;,\n",
       "                                                   &#x27;online_security&#x27;,\n",
       "                                                   &#x27;online_backup&#x27;,\n",
       "                                                   &#x27;device_protection&#x27;,\n",
       "                                                   &#x27;tech_support&#x27;,\n",
       "                                                   &#x27;streaming_tv&#x27;,\n",
       "                                                   &#x27;streaming_movies&#x27;]),\n",
       "                                                 (&#x27;standardscaler&#x27;,\n",
       "                                                  StandardScaler(),\n",
       "                                                  [&#x27;monthly_charges&#x27;...\n",
       "                               feature_types=None, gamma=None, grow_policy=None,\n",
       "                               importance_type=None,\n",
       "                               interaction_constraints=None, learning_rate=None,\n",
       "                               max_bin=None, max_cat_threshold=None,\n",
       "                               max_cat_to_onehot=None, max_delta_step=None,\n",
       "                               max_depth=None, max_leaves=None,\n",
       "                               min_child_weight=None, missing=nan,\n",
       "                               monotone_constraints=None, multi_strategy=None,\n",
       "                               n_estimators=150, n_jobs=None,\n",
       "                               num_parallel_tree=None, random_state=12345, ...))])</pre></div></div></div><div class=\"sk-serial\"><div class=\"sk-item\"><div class=\"sk-serial\"><div class=\"sk-item sk-dashed-wrapped\"><div class=\"sk-label-container\"><div class=\"sk-label sk-toggleable\"><input class=\"sk-toggleable__control sk-hidden--visually\" id=\"sk-estimator-id-12\" type=\"checkbox\" ><label for=\"sk-estimator-id-12\" class=\"sk-toggleable__label sk-toggleable__label-arrow\">preprocess: ColumnTransformer</label><div class=\"sk-toggleable__content\"><pre>ColumnTransformer(remainder=&#x27;passthrough&#x27;,\n",
       "                  transformers=[(&#x27;onehotencoder&#x27;, OneHotEncoder(drop=&#x27;first&#x27;),\n",
       "                                 [&#x27;type&#x27;, &#x27;payment_method&#x27;, &#x27;internet_service&#x27;,\n",
       "                                  &#x27;multiple_lines&#x27;, &#x27;online_security&#x27;,\n",
       "                                  &#x27;online_backup&#x27;, &#x27;device_protection&#x27;,\n",
       "                                  &#x27;tech_support&#x27;, &#x27;streaming_tv&#x27;,\n",
       "                                  &#x27;streaming_movies&#x27;]),\n",
       "                                (&#x27;standardscaler&#x27;, StandardScaler(),\n",
       "                                 [&#x27;monthly_charges&#x27;, &#x27;begin_month&#x27;,\n",
       "                                  &#x27;begin_year&#x27;, &#x27;total_charges&#x27;])])</pre></div></div></div><div class=\"sk-parallel\"><div class=\"sk-parallel-item\"><div class=\"sk-item\"><div class=\"sk-label-container\"><div class=\"sk-label sk-toggleable\"><input class=\"sk-toggleable__control sk-hidden--visually\" id=\"sk-estimator-id-13\" type=\"checkbox\" ><label for=\"sk-estimator-id-13\" class=\"sk-toggleable__label sk-toggleable__label-arrow\">onehotencoder</label><div class=\"sk-toggleable__content\"><pre>[&#x27;type&#x27;, &#x27;payment_method&#x27;, &#x27;internet_service&#x27;, &#x27;multiple_lines&#x27;, &#x27;online_security&#x27;, &#x27;online_backup&#x27;, &#x27;device_protection&#x27;, &#x27;tech_support&#x27;, &#x27;streaming_tv&#x27;, &#x27;streaming_movies&#x27;]</pre></div></div></div><div class=\"sk-serial\"><div class=\"sk-item\"><div class=\"sk-estimator sk-toggleable\"><input class=\"sk-toggleable__control sk-hidden--visually\" id=\"sk-estimator-id-14\" type=\"checkbox\" ><label for=\"sk-estimator-id-14\" class=\"sk-toggleable__label sk-toggleable__label-arrow\">OneHotEncoder</label><div class=\"sk-toggleable__content\"><pre>OneHotEncoder(drop=&#x27;first&#x27;)</pre></div></div></div></div></div></div><div class=\"sk-parallel-item\"><div class=\"sk-item\"><div class=\"sk-label-container\"><div class=\"sk-label sk-toggleable\"><input class=\"sk-toggleable__control sk-hidden--visually\" id=\"sk-estimator-id-15\" type=\"checkbox\" ><label for=\"sk-estimator-id-15\" class=\"sk-toggleable__label sk-toggleable__label-arrow\">standardscaler</label><div class=\"sk-toggleable__content\"><pre>[&#x27;monthly_charges&#x27;, &#x27;begin_month&#x27;, &#x27;begin_year&#x27;, &#x27;total_charges&#x27;]</pre></div></div></div><div class=\"sk-serial\"><div class=\"sk-item\"><div class=\"sk-estimator sk-toggleable\"><input class=\"sk-toggleable__control sk-hidden--visually\" id=\"sk-estimator-id-16\" type=\"checkbox\" ><label for=\"sk-estimator-id-16\" class=\"sk-toggleable__label sk-toggleable__label-arrow\">StandardScaler</label><div class=\"sk-toggleable__content\"><pre>StandardScaler()</pre></div></div></div></div></div></div><div class=\"sk-parallel-item\"><div class=\"sk-item\"><div class=\"sk-label-container\"><div class=\"sk-label sk-toggleable\"><input class=\"sk-toggleable__control sk-hidden--visually\" id=\"sk-estimator-id-17\" type=\"checkbox\" ><label for=\"sk-estimator-id-17\" class=\"sk-toggleable__label sk-toggleable__label-arrow\">remainder</label><div class=\"sk-toggleable__content\"><pre></pre></div></div></div><div class=\"sk-serial\"><div class=\"sk-item\"><div class=\"sk-estimator sk-toggleable\"><input class=\"sk-toggleable__control sk-hidden--visually\" id=\"sk-estimator-id-18\" type=\"checkbox\" ><label for=\"sk-estimator-id-18\" class=\"sk-toggleable__label sk-toggleable__label-arrow\">passthrough</label><div class=\"sk-toggleable__content\"><pre>passthrough</pre></div></div></div></div></div></div></div></div><div class=\"sk-item\"><div class=\"sk-estimator sk-toggleable\"><input class=\"sk-toggleable__control sk-hidden--visually\" id=\"sk-estimator-id-19\" type=\"checkbox\" ><label for=\"sk-estimator-id-19\" class=\"sk-toggleable__label sk-toggleable__label-arrow\">XGBClassifier</label><div class=\"sk-toggleable__content\"><pre>XGBClassifier(base_score=None, booster=None, callbacks=None,\n",
       "              colsample_bylevel=None, colsample_bynode=None,\n",
       "              colsample_bytree=None, device=None, early_stopping_rounds=None,\n",
       "              enable_categorical=False, eval_metric=None, feature_types=None,\n",
       "              gamma=None, grow_policy=None, importance_type=None,\n",
       "              interaction_constraints=None, learning_rate=None, max_bin=None,\n",
       "              max_cat_threshold=None, max_cat_to_onehot=None,\n",
       "              max_delta_step=None, max_depth=None, max_leaves=None,\n",
       "              min_child_weight=None, missing=nan, monotone_constraints=None,\n",
       "              multi_strategy=None, n_estimators=150, n_jobs=None,\n",
       "              num_parallel_tree=None, random_state=12345, ...)</pre></div></div></div></div></div></div></div></div></div></div></div></div>"
      ],
      "text/plain": [
       "GridSearchCV(cv=3,\n",
       "             estimator=Pipeline(steps=[('preprocess',\n",
       "                                        ColumnTransformer(remainder='passthrough',\n",
       "                                                          transformers=[('onehotencoder',\n",
       "                                                                         OneHotEncoder(drop='first'),\n",
       "                                                                         ['type',\n",
       "                                                                          'payment_method',\n",
       "                                                                          'internet_service',\n",
       "                                                                          'multiple_lines',\n",
       "                                                                          'online_security',\n",
       "                                                                          'online_backup',\n",
       "                                                                          'device_protection',\n",
       "                                                                          'tech_support',\n",
       "                                                                          'streaming_tv',\n",
       "                                                                          'streaming_movies']),\n",
       "                                                                        ('standardscaler',\n",
       "                                                                         Standar...\n",
       "                                                      monotone_constraints=None,\n",
       "                                                      multi_strategy=None,\n",
       "                                                      n_estimators=150,\n",
       "                                                      n_jobs=None,\n",
       "                                                      num_parallel_tree=None,\n",
       "                                                      random_state=12345, ...))]),\n",
       "             param_grid={'xgb__learning_rate': [0.001, 0.003, 0.005, 0.007,\n",
       "                                                0.01, 0.03, 0.05, 0.1],\n",
       "                         'xgb__max_depth': [1, 2, 3, 5]},\n",
       "             refit='roc_auc', return_train_score=True,\n",
       "             scoring={'accuracy': 'accuracy', 'f1': 'f1', 'recall': 'recall',\n",
       "                      'roc_auc': 'roc_auc'})"
      ]
     },
     "execution_count": 139,
     "metadata": {},
     "output_type": "execute_result"
    }
   ],
   "source": [
    "%%time\n",
    "xgboost = XGBClassifier(objective='binary:logistic',\n",
    "                        n_estimators=150,\n",
    "                        random_state=12345)\n",
    "\n",
    "pipe = Pipeline([('preprocess', preprocessor), ('xgb', xgboost)])\n",
    "\n",
    "grid = {\"xgb__max_depth\": [1, 2, 3, 5],\n",
    "        \"xgb__learning_rate\": [.001, 0.003, 0.005, 0.007, .01, 0.03, 0.05, .1]}\n",
    "\n",
    "xgb_gscv = GridSearchCV(pipe, grid, \n",
    "                        scoring=scorers, \n",
    "                        refit='roc_auc',\n",
    "                        cv=3, \n",
    "                        return_train_score=True)\n",
    "\n",
    "xgb_gscv.fit(X_train, y_train)"
   ]
  },
  {
   "cell_type": "code",
   "execution_count": 140,
   "metadata": {},
   "outputs": [
    {
     "name": "stdout",
     "output_type": "stream",
     "text": [
      "Mejores parámetros de LightGBM sin equilibrio de clases:\n",
      "{'xgb__learning_rate': 0.1, 'xgb__max_depth': 5}\n",
      "\n",
      "Mejores resultados de LightGBM sin equilibrio de clases:\n"
     ]
    },
    {
     "data": {
      "text/html": [
       "<div>\n",
       "<style scoped>\n",
       "    .dataframe tbody tr th:only-of-type {\n",
       "        vertical-align: middle;\n",
       "    }\n",
       "\n",
       "    .dataframe tbody tr th {\n",
       "        vertical-align: top;\n",
       "    }\n",
       "\n",
       "    .dataframe thead th {\n",
       "        text-align: right;\n",
       "    }\n",
       "</style>\n",
       "<table border=\"1\" class=\"dataframe\">\n",
       "  <thead>\n",
       "    <tr style=\"text-align: right;\">\n",
       "      <th></th>\n",
       "      <th>roc_auc</th>\n",
       "      <th>accuracy</th>\n",
       "      <th>recall</th>\n",
       "      <th>f1</th>\n",
       "    </tr>\n",
       "  </thead>\n",
       "  <tbody>\n",
       "    <tr>\n",
       "      <th>0</th>\n",
       "      <td>0.8982</td>\n",
       "      <td>0.8606</td>\n",
       "      <td>0.617</td>\n",
       "      <td>0.7019</td>\n",
       "    </tr>\n",
       "  </tbody>\n",
       "</table>\n",
       "</div>"
      ],
      "text/plain": [
       "   roc_auc  accuracy  recall      f1\n",
       "0   0.8982    0.8606   0.617  0.7019"
      ]
     },
     "metadata": {},
     "output_type": "display_data"
    }
   ],
   "source": [
    "xgb_params, xgb_results = gscv_results(xgb_gscv, 'roc_auc', 'accuracy', 'recall', 'f1')\n",
    "\n",
    "print('Mejores parámetros de xgboost sin equilibrio de clases:')\n",
    "print(xgb_params)\n",
    "print()\n",
    "print('Mejores resultados de xgboost sin equilibrio de clases:')\n",
    "display(xgb_results)"
   ]
  },
  {
   "cell_type": "markdown",
   "metadata": {},
   "source": [
    "#### XGoost con equilibrio de clases"
   ]
  },
  {
   "cell_type": "code",
   "execution_count": 41,
   "metadata": {},
   "outputs": [
    {
     "data": {
      "text/html": [
       "<style>#sk-container-id-1 {color: black;}#sk-container-id-1 pre{padding: 0;}#sk-container-id-1 div.sk-toggleable {background-color: white;}#sk-container-id-1 label.sk-toggleable__label {cursor: pointer;display: block;width: 100%;margin-bottom: 0;padding: 0.3em;box-sizing: border-box;text-align: center;}#sk-container-id-1 label.sk-toggleable__label-arrow:before {content: \"▸\";float: left;margin-right: 0.25em;color: #696969;}#sk-container-id-1 label.sk-toggleable__label-arrow:hover:before {color: black;}#sk-container-id-1 div.sk-estimator:hover label.sk-toggleable__label-arrow:before {color: black;}#sk-container-id-1 div.sk-toggleable__content {max-height: 0;max-width: 0;overflow: hidden;text-align: left;background-color: #f0f8ff;}#sk-container-id-1 div.sk-toggleable__content pre {margin: 0.2em;color: black;border-radius: 0.25em;background-color: #f0f8ff;}#sk-container-id-1 input.sk-toggleable__control:checked~div.sk-toggleable__content {max-height: 200px;max-width: 100%;overflow: auto;}#sk-container-id-1 input.sk-toggleable__control:checked~label.sk-toggleable__label-arrow:before {content: \"▾\";}#sk-container-id-1 div.sk-estimator input.sk-toggleable__control:checked~label.sk-toggleable__label {background-color: #d4ebff;}#sk-container-id-1 div.sk-label input.sk-toggleable__control:checked~label.sk-toggleable__label {background-color: #d4ebff;}#sk-container-id-1 input.sk-hidden--visually {border: 0;clip: rect(1px 1px 1px 1px);clip: rect(1px, 1px, 1px, 1px);height: 1px;margin: -1px;overflow: hidden;padding: 0;position: absolute;width: 1px;}#sk-container-id-1 div.sk-estimator {font-family: monospace;background-color: #f0f8ff;border: 1px dotted black;border-radius: 0.25em;box-sizing: border-box;margin-bottom: 0.5em;}#sk-container-id-1 div.sk-estimator:hover {background-color: #d4ebff;}#sk-container-id-1 div.sk-parallel-item::after {content: \"\";width: 100%;border-bottom: 1px solid gray;flex-grow: 1;}#sk-container-id-1 div.sk-label:hover label.sk-toggleable__label {background-color: #d4ebff;}#sk-container-id-1 div.sk-serial::before {content: \"\";position: absolute;border-left: 1px solid gray;box-sizing: border-box;top: 0;bottom: 0;left: 50%;z-index: 0;}#sk-container-id-1 div.sk-serial {display: flex;flex-direction: column;align-items: center;background-color: white;padding-right: 0.2em;padding-left: 0.2em;position: relative;}#sk-container-id-1 div.sk-item {position: relative;z-index: 1;}#sk-container-id-1 div.sk-parallel {display: flex;align-items: stretch;justify-content: center;background-color: white;position: relative;}#sk-container-id-1 div.sk-item::before, #sk-container-id-1 div.sk-parallel-item::before {content: \"\";position: absolute;border-left: 1px solid gray;box-sizing: border-box;top: 0;bottom: 0;left: 50%;z-index: -1;}#sk-container-id-1 div.sk-parallel-item {display: flex;flex-direction: column;z-index: 1;position: relative;background-color: white;}#sk-container-id-1 div.sk-parallel-item:first-child::after {align-self: flex-end;width: 50%;}#sk-container-id-1 div.sk-parallel-item:last-child::after {align-self: flex-start;width: 50%;}#sk-container-id-1 div.sk-parallel-item:only-child::after {width: 0;}#sk-container-id-1 div.sk-dashed-wrapped {border: 1px dashed gray;margin: 0 0.4em 0.5em 0.4em;box-sizing: border-box;padding-bottom: 0.4em;background-color: white;}#sk-container-id-1 div.sk-label label {font-family: monospace;font-weight: bold;display: inline-block;line-height: 1.2em;}#sk-container-id-1 div.sk-label-container {text-align: center;}#sk-container-id-1 div.sk-container {/* jupyter's `normalize.less` sets `[hidden] { display: none; }` but bootstrap.min.css set `[hidden] { display: none !important; }` so we also need the `!important` here to be able to override the default hidden behavior on the sphinx rendered scikit-learn.org. See: https://github.com/scikit-learn/scikit-learn/issues/21755 */display: inline-block !important;position: relative;}#sk-container-id-1 div.sk-text-repr-fallback {display: none;}</style><div id=\"sk-container-id-1\" class=\"sk-top-container\"><div class=\"sk-text-repr-fallback\"><pre>GridSearchCV(cv=3,\n",
       "             estimator=Pipeline(steps=[(&#x27;preprocess&#x27;,\n",
       "                                        ColumnTransformer(remainder=&#x27;passthrough&#x27;,\n",
       "                                                          transformers=[(&#x27;onehotencoder&#x27;,\n",
       "                                                                         OneHotEncoder(drop=&#x27;first&#x27;),\n",
       "                                                                         [&#x27;type&#x27;,\n",
       "                                                                          &#x27;payment_method&#x27;,\n",
       "                                                                          &#x27;internet_service&#x27;,\n",
       "                                                                          &#x27;multiple_lines&#x27;,\n",
       "                                                                          &#x27;online_security&#x27;,\n",
       "                                                                          &#x27;online_backup&#x27;,\n",
       "                                                                          &#x27;device_protection&#x27;,\n",
       "                                                                          &#x27;tech_support&#x27;,\n",
       "                                                                          &#x27;streaming_tv&#x27;,\n",
       "                                                                          &#x27;streaming_movies&#x27;]),\n",
       "                                                                        (&#x27;standardscaler&#x27;,\n",
       "                                                                         Standar...\n",
       "                                                      monotone_constraints=None,\n",
       "                                                      multi_strategy=None,\n",
       "                                                      n_estimators=150,\n",
       "                                                      n_jobs=None,\n",
       "                                                      num_parallel_tree=None,\n",
       "                                                      random_state=12345, ...))]),\n",
       "             param_grid={&#x27;xgb__learning_rate&#x27;: [0.001, 0.003, 0.005, 0.007,\n",
       "                                                0.01, 0.03, 0.05, 0.1],\n",
       "                         &#x27;xgb__max_depth&#x27;: [1, 2, 3, 5]},\n",
       "             refit=&#x27;roc_auc&#x27;, return_train_score=True,\n",
       "             scoring={&#x27;accuracy&#x27;: &#x27;accuracy&#x27;, &#x27;f1&#x27;: &#x27;f1&#x27;, &#x27;recall&#x27;: &#x27;recall&#x27;,\n",
       "                      &#x27;roc_auc&#x27;: &#x27;roc_auc&#x27;})</pre><b>In a Jupyter environment, please rerun this cell to show the HTML representation or trust the notebook. <br />On GitHub, the HTML representation is unable to render, please try loading this page with nbviewer.org.</b></div><div class=\"sk-container\" hidden><div class=\"sk-item sk-dashed-wrapped\"><div class=\"sk-label-container\"><div class=\"sk-label sk-toggleable\"><input class=\"sk-toggleable__control sk-hidden--visually\" id=\"sk-estimator-id-1\" type=\"checkbox\" ><label for=\"sk-estimator-id-1\" class=\"sk-toggleable__label sk-toggleable__label-arrow\">GridSearchCV</label><div class=\"sk-toggleable__content\"><pre>GridSearchCV(cv=3,\n",
       "             estimator=Pipeline(steps=[(&#x27;preprocess&#x27;,\n",
       "                                        ColumnTransformer(remainder=&#x27;passthrough&#x27;,\n",
       "                                                          transformers=[(&#x27;onehotencoder&#x27;,\n",
       "                                                                         OneHotEncoder(drop=&#x27;first&#x27;),\n",
       "                                                                         [&#x27;type&#x27;,\n",
       "                                                                          &#x27;payment_method&#x27;,\n",
       "                                                                          &#x27;internet_service&#x27;,\n",
       "                                                                          &#x27;multiple_lines&#x27;,\n",
       "                                                                          &#x27;online_security&#x27;,\n",
       "                                                                          &#x27;online_backup&#x27;,\n",
       "                                                                          &#x27;device_protection&#x27;,\n",
       "                                                                          &#x27;tech_support&#x27;,\n",
       "                                                                          &#x27;streaming_tv&#x27;,\n",
       "                                                                          &#x27;streaming_movies&#x27;]),\n",
       "                                                                        (&#x27;standardscaler&#x27;,\n",
       "                                                                         Standar...\n",
       "                                                      monotone_constraints=None,\n",
       "                                                      multi_strategy=None,\n",
       "                                                      n_estimators=150,\n",
       "                                                      n_jobs=None,\n",
       "                                                      num_parallel_tree=None,\n",
       "                                                      random_state=12345, ...))]),\n",
       "             param_grid={&#x27;xgb__learning_rate&#x27;: [0.001, 0.003, 0.005, 0.007,\n",
       "                                                0.01, 0.03, 0.05, 0.1],\n",
       "                         &#x27;xgb__max_depth&#x27;: [1, 2, 3, 5]},\n",
       "             refit=&#x27;roc_auc&#x27;, return_train_score=True,\n",
       "             scoring={&#x27;accuracy&#x27;: &#x27;accuracy&#x27;, &#x27;f1&#x27;: &#x27;f1&#x27;, &#x27;recall&#x27;: &#x27;recall&#x27;,\n",
       "                      &#x27;roc_auc&#x27;: &#x27;roc_auc&#x27;})</pre></div></div></div><div class=\"sk-parallel\"><div class=\"sk-parallel-item\"><div class=\"sk-item\"><div class=\"sk-label-container\"><div class=\"sk-label sk-toggleable\"><input class=\"sk-toggleable__control sk-hidden--visually\" id=\"sk-estimator-id-2\" type=\"checkbox\" ><label for=\"sk-estimator-id-2\" class=\"sk-toggleable__label sk-toggleable__label-arrow\">estimator: Pipeline</label><div class=\"sk-toggleable__content\"><pre>Pipeline(steps=[(&#x27;preprocess&#x27;,\n",
       "                 ColumnTransformer(remainder=&#x27;passthrough&#x27;,\n",
       "                                   transformers=[(&#x27;onehotencoder&#x27;,\n",
       "                                                  OneHotEncoder(drop=&#x27;first&#x27;),\n",
       "                                                  [&#x27;type&#x27;, &#x27;payment_method&#x27;,\n",
       "                                                   &#x27;internet_service&#x27;,\n",
       "                                                   &#x27;multiple_lines&#x27;,\n",
       "                                                   &#x27;online_security&#x27;,\n",
       "                                                   &#x27;online_backup&#x27;,\n",
       "                                                   &#x27;device_protection&#x27;,\n",
       "                                                   &#x27;tech_support&#x27;,\n",
       "                                                   &#x27;streaming_tv&#x27;,\n",
       "                                                   &#x27;streaming_movies&#x27;]),\n",
       "                                                 (&#x27;standardscaler&#x27;,\n",
       "                                                  StandardScaler(),\n",
       "                                                  [&#x27;monthly_charges&#x27;...\n",
       "                               feature_types=None, gamma=None, grow_policy=None,\n",
       "                               importance_type=None,\n",
       "                               interaction_constraints=None, learning_rate=None,\n",
       "                               max_bin=None, max_cat_threshold=None,\n",
       "                               max_cat_to_onehot=None, max_delta_step=None,\n",
       "                               max_depth=None, max_leaves=None,\n",
       "                               min_child_weight=None, missing=nan,\n",
       "                               monotone_constraints=None, multi_strategy=None,\n",
       "                               n_estimators=150, n_jobs=None,\n",
       "                               num_parallel_tree=None, random_state=12345, ...))])</pre></div></div></div><div class=\"sk-serial\"><div class=\"sk-item\"><div class=\"sk-serial\"><div class=\"sk-item sk-dashed-wrapped\"><div class=\"sk-label-container\"><div class=\"sk-label sk-toggleable\"><input class=\"sk-toggleable__control sk-hidden--visually\" id=\"sk-estimator-id-3\" type=\"checkbox\" ><label for=\"sk-estimator-id-3\" class=\"sk-toggleable__label sk-toggleable__label-arrow\">preprocess: ColumnTransformer</label><div class=\"sk-toggleable__content\"><pre>ColumnTransformer(remainder=&#x27;passthrough&#x27;,\n",
       "                  transformers=[(&#x27;onehotencoder&#x27;, OneHotEncoder(drop=&#x27;first&#x27;),\n",
       "                                 [&#x27;type&#x27;, &#x27;payment_method&#x27;, &#x27;internet_service&#x27;,\n",
       "                                  &#x27;multiple_lines&#x27;, &#x27;online_security&#x27;,\n",
       "                                  &#x27;online_backup&#x27;, &#x27;device_protection&#x27;,\n",
       "                                  &#x27;tech_support&#x27;, &#x27;streaming_tv&#x27;,\n",
       "                                  &#x27;streaming_movies&#x27;]),\n",
       "                                (&#x27;standardscaler&#x27;, StandardScaler(),\n",
       "                                 [&#x27;monthly_charges&#x27;, &#x27;begin_month&#x27;,\n",
       "                                  &#x27;begin_year&#x27;, &#x27;total_charges&#x27;])])</pre></div></div></div><div class=\"sk-parallel\"><div class=\"sk-parallel-item\"><div class=\"sk-item\"><div class=\"sk-label-container\"><div class=\"sk-label sk-toggleable\"><input class=\"sk-toggleable__control sk-hidden--visually\" id=\"sk-estimator-id-4\" type=\"checkbox\" ><label for=\"sk-estimator-id-4\" class=\"sk-toggleable__label sk-toggleable__label-arrow\">onehotencoder</label><div class=\"sk-toggleable__content\"><pre>[&#x27;type&#x27;, &#x27;payment_method&#x27;, &#x27;internet_service&#x27;, &#x27;multiple_lines&#x27;, &#x27;online_security&#x27;, &#x27;online_backup&#x27;, &#x27;device_protection&#x27;, &#x27;tech_support&#x27;, &#x27;streaming_tv&#x27;, &#x27;streaming_movies&#x27;]</pre></div></div></div><div class=\"sk-serial\"><div class=\"sk-item\"><div class=\"sk-estimator sk-toggleable\"><input class=\"sk-toggleable__control sk-hidden--visually\" id=\"sk-estimator-id-5\" type=\"checkbox\" ><label for=\"sk-estimator-id-5\" class=\"sk-toggleable__label sk-toggleable__label-arrow\">OneHotEncoder</label><div class=\"sk-toggleable__content\"><pre>OneHotEncoder(drop=&#x27;first&#x27;)</pre></div></div></div></div></div></div><div class=\"sk-parallel-item\"><div class=\"sk-item\"><div class=\"sk-label-container\"><div class=\"sk-label sk-toggleable\"><input class=\"sk-toggleable__control sk-hidden--visually\" id=\"sk-estimator-id-6\" type=\"checkbox\" ><label for=\"sk-estimator-id-6\" class=\"sk-toggleable__label sk-toggleable__label-arrow\">standardscaler</label><div class=\"sk-toggleable__content\"><pre>[&#x27;monthly_charges&#x27;, &#x27;begin_month&#x27;, &#x27;begin_year&#x27;, &#x27;total_charges&#x27;]</pre></div></div></div><div class=\"sk-serial\"><div class=\"sk-item\"><div class=\"sk-estimator sk-toggleable\"><input class=\"sk-toggleable__control sk-hidden--visually\" id=\"sk-estimator-id-7\" type=\"checkbox\" ><label for=\"sk-estimator-id-7\" class=\"sk-toggleable__label sk-toggleable__label-arrow\">StandardScaler</label><div class=\"sk-toggleable__content\"><pre>StandardScaler()</pre></div></div></div></div></div></div><div class=\"sk-parallel-item\"><div class=\"sk-item\"><div class=\"sk-label-container\"><div class=\"sk-label sk-toggleable\"><input class=\"sk-toggleable__control sk-hidden--visually\" id=\"sk-estimator-id-8\" type=\"checkbox\" ><label for=\"sk-estimator-id-8\" class=\"sk-toggleable__label sk-toggleable__label-arrow\">remainder</label><div class=\"sk-toggleable__content\"><pre>[&#x27;paperless_billing&#x27;, &#x27;gender&#x27;, &#x27;senior_citizen&#x27;, &#x27;partner&#x27;, &#x27;dependents&#x27;]</pre></div></div></div><div class=\"sk-serial\"><div class=\"sk-item\"><div class=\"sk-estimator sk-toggleable\"><input class=\"sk-toggleable__control sk-hidden--visually\" id=\"sk-estimator-id-9\" type=\"checkbox\" ><label for=\"sk-estimator-id-9\" class=\"sk-toggleable__label sk-toggleable__label-arrow\">passthrough</label><div class=\"sk-toggleable__content\"><pre>passthrough</pre></div></div></div></div></div></div></div></div><div class=\"sk-item\"><div class=\"sk-estimator sk-toggleable\"><input class=\"sk-toggleable__control sk-hidden--visually\" id=\"sk-estimator-id-10\" type=\"checkbox\" ><label for=\"sk-estimator-id-10\" class=\"sk-toggleable__label sk-toggleable__label-arrow\">XGBClassifier</label><div class=\"sk-toggleable__content\"><pre>XGBClassifier(base_score=None, booster=None, callbacks=None,\n",
       "              colsample_bylevel=None, colsample_bynode=None,\n",
       "              colsample_bytree=None, device=None, early_stopping_rounds=None,\n",
       "              enable_categorical=False, eval_metric=None, feature_types=None,\n",
       "              gamma=None, grow_policy=None, importance_type=None,\n",
       "              interaction_constraints=None, learning_rate=None, max_bin=None,\n",
       "              max_cat_threshold=None, max_cat_to_onehot=None,\n",
       "              max_delta_step=None, max_depth=None, max_leaves=None,\n",
       "              min_child_weight=None, missing=nan, monotone_constraints=None,\n",
       "              multi_strategy=None, n_estimators=150, n_jobs=None,\n",
       "              num_parallel_tree=None, random_state=12345, ...)</pre></div></div></div></div></div></div></div></div></div></div></div></div>"
      ],
      "text/plain": [
       "GridSearchCV(cv=3,\n",
       "             estimator=Pipeline(steps=[('preprocess',\n",
       "                                        ColumnTransformer(remainder='passthrough',\n",
       "                                                          transformers=[('onehotencoder',\n",
       "                                                                         OneHotEncoder(drop='first'),\n",
       "                                                                         ['type',\n",
       "                                                                          'payment_method',\n",
       "                                                                          'internet_service',\n",
       "                                                                          'multiple_lines',\n",
       "                                                                          'online_security',\n",
       "                                                                          'online_backup',\n",
       "                                                                          'device_protection',\n",
       "                                                                          'tech_support',\n",
       "                                                                          'streaming_tv',\n",
       "                                                                          'streaming_movies']),\n",
       "                                                                        ('standardscaler',\n",
       "                                                                         Standar...\n",
       "                                                      monotone_constraints=None,\n",
       "                                                      multi_strategy=None,\n",
       "                                                      n_estimators=150,\n",
       "                                                      n_jobs=None,\n",
       "                                                      num_parallel_tree=None,\n",
       "                                                      random_state=12345, ...))]),\n",
       "             param_grid={'xgb__learning_rate': [0.001, 0.003, 0.005, 0.007,\n",
       "                                                0.01, 0.03, 0.05, 0.1],\n",
       "                         'xgb__max_depth': [1, 2, 3, 5]},\n",
       "             refit='roc_auc', return_train_score=True,\n",
       "             scoring={'accuracy': 'accuracy', 'f1': 'f1', 'recall': 'recall',\n",
       "                      'roc_auc': 'roc_auc'})"
      ]
     },
     "execution_count": 41,
     "metadata": {},
     "output_type": "execute_result"
    }
   ],
   "source": [
    "xgboost = XGBClassifier(n_estimators=150, \n",
    "                        scale_pos_weight=3,\n",
    "                        random_state=12345)\n",
    "\n",
    "pipe = Pipeline([('preprocess', preprocessor), ('xgb', xgboost)])\n",
    "\n",
    "grid = {\"xgb__max_depth\": [1, 2, 3, 5],\n",
    "        \"xgb__learning_rate\": [.001, 0.003, 0.005, 0.007, .01, 0.03, 0.05, .1]}\n",
    "\n",
    "xgb_wc_gscv = GridSearchCV(pipe, grid, \n",
    "                        scoring=scorers, \n",
    "                        refit='roc_auc',\n",
    "                        cv=3, \n",
    "                        return_train_score=True)\n",
    "\n",
    "xgb_wc_gscv.fit(X_train, y_train)"
   ]
  },
  {
   "cell_type": "code",
   "execution_count": 44,
   "metadata": {},
   "outputs": [
    {
     "name": "stdout",
     "output_type": "stream",
     "text": [
      "Mejores parámetros de xgboost con scale_pos_weight:\n",
      "{'xgb__learning_rate': 0.1, 'xgb__max_depth': 5}\n",
      "\n",
      "Mejores resultados de xgboost con scale_pos_weight:\n"
     ]
    },
    {
     "data": {
      "text/html": [
       "<div>\n",
       "<style scoped>\n",
       "    .dataframe tbody tr th:only-of-type {\n",
       "        vertical-align: middle;\n",
       "    }\n",
       "\n",
       "    .dataframe tbody tr th {\n",
       "        vertical-align: top;\n",
       "    }\n",
       "\n",
       "    .dataframe thead th {\n",
       "        text-align: right;\n",
       "    }\n",
       "</style>\n",
       "<table border=\"1\" class=\"dataframe\">\n",
       "  <thead>\n",
       "    <tr style=\"text-align: right;\">\n",
       "      <th></th>\n",
       "      <th>roc_auc</th>\n",
       "      <th>accuracy</th>\n",
       "      <th>recall</th>\n",
       "      <th>f1</th>\n",
       "    </tr>\n",
       "  </thead>\n",
       "  <tbody>\n",
       "    <tr>\n",
       "      <th>0</th>\n",
       "      <td>0.9018</td>\n",
       "      <td>0.829</td>\n",
       "      <td>0.7832</td>\n",
       "      <td>0.7087</td>\n",
       "    </tr>\n",
       "  </tbody>\n",
       "</table>\n",
       "</div>"
      ],
      "text/plain": [
       "   roc_auc  accuracy  recall      f1\n",
       "0   0.9018     0.829  0.7832  0.7087"
      ]
     },
     "metadata": {},
     "output_type": "display_data"
    }
   ],
   "source": [
    "xgb_wc_params, xgb_wc_results = gscv_results(xgb_wc_gscv, 'roc_auc', 'accuracy', 'recall', 'f1')\n",
    "\n",
    "print('Mejores parámetros de xgboost con scale_pos_weight:')\n",
    "print(xgb_wc_params)\n",
    "print()\n",
    "print('Mejores resultados de xgboost con scale_pos_weight:')\n",
    "display(xgb_wc_results)"
   ]
  },
  {
   "cell_type": "code",
   "execution_count": 190,
   "metadata": {},
   "outputs": [
    {
     "name": "stdout",
     "output_type": "stream",
     "text": [
      "XGBoost Results Summary:\n"
     ]
    },
    {
     "data": {
      "text/html": [
       "<div>\n",
       "<style scoped>\n",
       "    .dataframe tbody tr th:only-of-type {\n",
       "        vertical-align: middle;\n",
       "    }\n",
       "\n",
       "    .dataframe tbody tr th {\n",
       "        vertical-align: top;\n",
       "    }\n",
       "\n",
       "    .dataframe thead th {\n",
       "        text-align: right;\n",
       "    }\n",
       "</style>\n",
       "<table border=\"1\" class=\"dataframe\">\n",
       "  <thead>\n",
       "    <tr style=\"text-align: right;\">\n",
       "      <th></th>\n",
       "      <th>roc_auc</th>\n",
       "      <th>accuracy</th>\n",
       "      <th>recall</th>\n",
       "      <th>f1</th>\n",
       "    </tr>\n",
       "  </thead>\n",
       "  <tbody>\n",
       "    <tr>\n",
       "      <th>XGBoost scale_pos_weight</th>\n",
       "      <td>0.902</td>\n",
       "      <td>0.829</td>\n",
       "      <td>0.783</td>\n",
       "      <td>0.709</td>\n",
       "    </tr>\n",
       "    <tr>\n",
       "      <th>XGBoost</th>\n",
       "      <td>0.898</td>\n",
       "      <td>0.861</td>\n",
       "      <td>0.617</td>\n",
       "      <td>0.702</td>\n",
       "    </tr>\n",
       "  </tbody>\n",
       "</table>\n",
       "</div>"
      ],
      "text/plain": [
       "                          roc_auc  accuracy  recall     f1\n",
       "XGBoost scale_pos_weight    0.902     0.829   0.783  0.709\n",
       "XGBoost                     0.898     0.861   0.617  0.702"
      ]
     },
     "metadata": {},
     "output_type": "display_data"
    }
   ],
   "source": [
    "xgb_table_results = pd.concat([xgb_results, xgb_wc_results])\n",
    "\n",
    "xgb_table_results.index = ['XGBoost', 'XGBoost scale_pos_weight']\n",
    "\n",
    "print('XGBoost Results Summary:')\n",
    "display(xgb_table_results.sort_values(by='roc_auc', ascending=False).round(3))"
   ]
  },
  {
   "cell_type": "markdown",
   "metadata": {},
   "source": [
    "XGBoost tuvo un buen desempeño con el quilibrio de clase, mejorando la precisión y el recall."
   ]
  },
  {
   "cell_type": "markdown",
   "metadata": {},
   "source": [
    "### Resultados finales"
   ]
  },
  {
   "cell_type": "code",
   "execution_count": 191,
   "metadata": {},
   "outputs": [
    {
     "name": "stdout",
     "output_type": "stream",
     "text": [
      "Resumen de las métricas de todos los modelos\n"
     ]
    },
    {
     "data": {
      "text/html": [
       "<div>\n",
       "<style scoped>\n",
       "    .dataframe tbody tr th:only-of-type {\n",
       "        vertical-align: middle;\n",
       "    }\n",
       "\n",
       "    .dataframe tbody tr th {\n",
       "        vertical-align: top;\n",
       "    }\n",
       "\n",
       "    .dataframe thead th {\n",
       "        text-align: right;\n",
       "    }\n",
       "</style>\n",
       "<table border=\"1\" class=\"dataframe\">\n",
       "  <thead>\n",
       "    <tr style=\"text-align: right;\">\n",
       "      <th></th>\n",
       "      <th>roc_auc</th>\n",
       "      <th>accuracy</th>\n",
       "      <th>recall</th>\n",
       "      <th>f1</th>\n",
       "    </tr>\n",
       "  </thead>\n",
       "  <tbody>\n",
       "    <tr>\n",
       "      <th>XGBoost scale_pos_weight</th>\n",
       "      <td>0.9018</td>\n",
       "      <td>0.8290</td>\n",
       "      <td>0.7832</td>\n",
       "      <td>0.7087</td>\n",
       "    </tr>\n",
       "    <tr>\n",
       "      <th>LightGBM scale_pos_weight</th>\n",
       "      <td>0.8996</td>\n",
       "      <td>0.8385</td>\n",
       "      <td>0.7575</td>\n",
       "      <td>0.7137</td>\n",
       "    </tr>\n",
       "    <tr>\n",
       "      <th>LightGBM</th>\n",
       "      <td>0.8995</td>\n",
       "      <td>0.8610</td>\n",
       "      <td>0.6327</td>\n",
       "      <td>0.7077</td>\n",
       "    </tr>\n",
       "    <tr>\n",
       "      <th>XGBoost</th>\n",
       "      <td>0.8982</td>\n",
       "      <td>0.8606</td>\n",
       "      <td>0.6170</td>\n",
       "      <td>0.7019</td>\n",
       "    </tr>\n",
       "    <tr>\n",
       "      <th>CatBoost</th>\n",
       "      <td>0.8940</td>\n",
       "      <td>0.8549</td>\n",
       "      <td>0.6056</td>\n",
       "      <td>0.6894</td>\n",
       "    </tr>\n",
       "    <tr>\n",
       "      <th>CatBoost class_weight</th>\n",
       "      <td>0.8910</td>\n",
       "      <td>0.8038</td>\n",
       "      <td>0.8217</td>\n",
       "      <td>0.6900</td>\n",
       "    </tr>\n",
       "    <tr>\n",
       "      <th>RF</th>\n",
       "      <td>0.8518</td>\n",
       "      <td>0.8020</td>\n",
       "      <td>0.4087</td>\n",
       "      <td>0.5230</td>\n",
       "    </tr>\n",
       "    <tr>\n",
       "      <th>RF class_weight</th>\n",
       "      <td>0.8514</td>\n",
       "      <td>0.7533</td>\n",
       "      <td>0.8145</td>\n",
       "      <td>0.6371</td>\n",
       "    </tr>\n",
       "    <tr>\n",
       "      <th>LR</th>\n",
       "      <td>0.8372</td>\n",
       "      <td>0.7977</td>\n",
       "      <td>0.5235</td>\n",
       "      <td>0.5791</td>\n",
       "    </tr>\n",
       "    <tr>\n",
       "      <th>LR class_weight</th>\n",
       "      <td>0.8368</td>\n",
       "      <td>0.7423</td>\n",
       "      <td>0.7874</td>\n",
       "      <td>0.6191</td>\n",
       "    </tr>\n",
       "  </tbody>\n",
       "</table>\n",
       "</div>"
      ],
      "text/plain": [
       "                           roc_auc  accuracy  recall      f1\n",
       "XGBoost scale_pos_weight    0.9018    0.8290  0.7832  0.7087\n",
       "LightGBM scale_pos_weight   0.8996    0.8385  0.7575  0.7137\n",
       "LightGBM                    0.8995    0.8610  0.6327  0.7077\n",
       "XGBoost                     0.8982    0.8606  0.6170  0.7019\n",
       "CatBoost                    0.8940    0.8549  0.6056  0.6894\n",
       "CatBoost class_weight       0.8910    0.8038  0.8217  0.6900\n",
       "RF                          0.8518    0.8020  0.4087  0.5230\n",
       "RF class_weight             0.8514    0.7533  0.8145  0.6371\n",
       "LR                          0.8372    0.7977  0.5235  0.5791\n",
       "LR class_weight             0.8368    0.7423  0.7874  0.6191"
      ]
     },
     "metadata": {},
     "output_type": "display_data"
    }
   ],
   "source": [
    "model_results = pd.concat([lr_table_results, rf_table_results, cb_table_results, lgbm_table_results, xgb_table_results])\n",
    "\n",
    "print('Resumen de las métricas de todos los modelos')\n",
    "display(model_results.sort_values(by='roc_auc', ascending=False).round(4))"
   ]
  },
  {
   "cell_type": "markdown",
   "metadata": {},
   "source": [
    "El proyecto nos pide evaluar el modelo en base a los valores de AUC-ROC, y el que mejor desempeño tuvo fue el modelo XGBoost con el parámetro para clases desequilibradas. Se probará el modelo si se desempeña bien en el conjunto de prueba."
   ]
  },
  {
   "cell_type": "markdown",
   "metadata": {},
   "source": [
    "#### Calidad del modelo"
   ]
  },
  {
   "cell_type": "code",
   "execution_count": 57,
   "metadata": {},
   "outputs": [
    {
     "name": "stdout",
     "output_type": "stream",
     "text": [
      "XGBoost con equilibrio de clases resultados:\n"
     ]
    },
    {
     "data": {
      "text/html": [
       "<div>\n",
       "<style scoped>\n",
       "    .dataframe tbody tr th:only-of-type {\n",
       "        vertical-align: middle;\n",
       "    }\n",
       "\n",
       "    .dataframe tbody tr th {\n",
       "        vertical-align: top;\n",
       "    }\n",
       "\n",
       "    .dataframe thead th {\n",
       "        text-align: right;\n",
       "    }\n",
       "</style>\n",
       "<table border=\"1\" class=\"dataframe\">\n",
       "  <thead>\n",
       "    <tr style=\"text-align: right;\">\n",
       "      <th></th>\n",
       "      <th>roc_auc</th>\n",
       "      <th>accuracy</th>\n",
       "      <th>recall</th>\n",
       "      <th>f1</th>\n",
       "    </tr>\n",
       "  </thead>\n",
       "  <tbody>\n",
       "    <tr>\n",
       "      <th>0</th>\n",
       "      <td>0.8416</td>\n",
       "      <td>0.8487</td>\n",
       "      <td>0.8266</td>\n",
       "      <td>0.7437</td>\n",
       "    </tr>\n",
       "  </tbody>\n",
       "</table>\n",
       "</div>"
      ],
      "text/plain": [
       "   roc_auc  accuracy  recall      f1\n",
       "0   0.8416    0.8487  0.8266  0.7437"
      ]
     },
     "metadata": {},
     "output_type": "display_data"
    }
   ],
   "source": [
    "pred_test = xgb_wc_gscv.predict(X_test)\n",
    "\n",
    "roc_auc = roc_auc_score(y_test, pred_test)\n",
    "accuracy = accuracy_score(y_test, pred_test)\n",
    "recall = recall_score(y_test, pred_test)\n",
    "f1 = f1_score(y_test, pred_test)\n",
    "\n",
    "test_results = pd.DataFrame(data={'roc_auc':[roc_auc],\n",
    "                                  'accuracy':[accuracy],\n",
    "                                  'recall':[recall],\n",
    "                                  'f1':[f1]\n",
    "                                  })\n",
    "\n",
    "print('XGBoost con equilibrio de clases resultados:')\n",
    "display(test_results.round(4))"
   ]
  },
  {
   "cell_type": "markdown",
   "metadata": {},
   "source": [
    "Podemos decir que el modelo tiene un buen desempeño en ambas conjuntos, y no está sobreajustado."
   ]
  },
  {
   "cell_type": "markdown",
   "metadata": {},
   "source": [
    "## Conclusiones"
   ]
  },
  {
   "cell_type": "markdown",
   "metadata": {},
   "source": [
    "**Resultados**\n",
    "\n",
    "El modelo Xgboost tiene una velocidad de aprendizaje muy buena (17.8 s) y un valor AUC-ROC excelente tanto en el conjunto de entrenamiento como de prueba, ya que no varía demasiado los valores en ambos conjunto podemos decir que no hay sobreajustamiento. Ademas el valor de presición, recall y f1 también fueron muy buenos, montrándonos que el modelo puede predecir correctamente la pérdida de clientes del 80 % de los clientes que aún no ha visto.\n",
    "\n",
    "Evidentemente hubo un un desequilibrio de clases, y el ajuste de parametros para los modelos fue sufiente para solucionar el problema. Con class_weight en 'balanced' y scale_pos_weight en 3 debido a la relación entre la cantidad de clase negativa y la clase positiva.\n",
    "\n",
    "**Alcance futuro**\n",
    "\n",
    "Telecom puede confiar en implementar el modelo XGBoosto para predecir qué clientes se darán de baja. Por lo que no es una mala idea ofrecer  pequeñas promociones adicionales a la clientela. Telecom haría bien en centrarse en mantener a los nuevos clientes, ya que es probable que los antiguos sigan en la empresa.\n",
    "\n",
    "**Recomendación**\n",
    " \n",
    "Se debe tomar en cuenta especialmente a los nuevos clientes porque ellos son los que más probable abandonen su contrato. En los dos últimos años se han ido la mayor parte de clientes, por lo que se debe averiguar por medio de encuestas o análisis los últimos cambios realizados por la empresa que al parecer han tenido una repercusión negativa en el mantenimiento de los clientes."
   ]
  }
 ],
 "metadata": {
  "ExecuteTimeLog": [
   {
    "duration": 5255,
    "start_time": "2024-07-03T04:03:13.305Z"
   },
   {
    "duration": 1153,
    "start_time": "2024-07-03T04:04:39.588Z"
   },
   {
    "duration": 96,
    "start_time": "2024-07-03T04:05:21.138Z"
   },
   {
    "duration": 19,
    "start_time": "2024-07-03T04:05:52.591Z"
   },
   {
    "duration": 15,
    "start_time": "2024-07-03T04:13:06.238Z"
   },
   {
    "duration": 20,
    "start_time": "2024-07-03T04:13:24.204Z"
   },
   {
    "duration": 10,
    "start_time": "2024-07-03T04:13:35.129Z"
   },
   {
    "duration": 24,
    "start_time": "2024-07-03T04:16:34.536Z"
   },
   {
    "duration": 17,
    "start_time": "2024-07-03T04:16:41.754Z"
   },
   {
    "duration": 14,
    "start_time": "2024-07-03T04:17:09.165Z"
   },
   {
    "duration": 3,
    "start_time": "2024-07-03T04:39:26.201Z"
   },
   {
    "duration": 4,
    "start_time": "2024-07-03T04:40:27.283Z"
   },
   {
    "duration": 12,
    "start_time": "2024-07-03T04:46:25.860Z"
   },
   {
    "duration": 12,
    "start_time": "2024-07-03T04:46:32.661Z"
   },
   {
    "duration": 11,
    "start_time": "2024-07-03T04:47:12.114Z"
   },
   {
    "duration": 8,
    "start_time": "2024-07-03T04:47:36.379Z"
   },
   {
    "duration": 21,
    "start_time": "2024-07-03T04:49:03.855Z"
   },
   {
    "duration": 9,
    "start_time": "2024-07-03T04:49:21.630Z"
   },
   {
    "duration": 13,
    "start_time": "2024-07-03T04:49:43.555Z"
   },
   {
    "duration": 16,
    "start_time": "2024-07-03T05:12:08.428Z"
   },
   {
    "duration": 318,
    "start_time": "2024-07-03T15:12:03.531Z"
   },
   {
    "duration": 5078,
    "start_time": "2024-07-03T15:12:11.526Z"
   },
   {
    "duration": 98,
    "start_time": "2024-07-03T15:12:16.608Z"
   },
   {
    "duration": 21,
    "start_time": "2024-07-03T15:12:16.709Z"
   },
   {
    "duration": 19,
    "start_time": "2024-07-03T15:12:16.734Z"
   },
   {
    "duration": 15,
    "start_time": "2024-07-03T15:12:16.756Z"
   },
   {
    "duration": 20,
    "start_time": "2024-07-03T15:12:16.773Z"
   },
   {
    "duration": 17,
    "start_time": "2024-07-03T15:12:16.832Z"
   },
   {
    "duration": 15,
    "start_time": "2024-07-03T15:12:16.852Z"
   },
   {
    "duration": 12,
    "start_time": "2024-07-03T15:12:16.870Z"
   },
   {
    "duration": 49,
    "start_time": "2024-07-03T15:12:16.888Z"
   },
   {
    "duration": 13,
    "start_time": "2024-07-03T15:12:16.940Z"
   },
   {
    "duration": 18,
    "start_time": "2024-07-03T15:12:16.958Z"
   },
   {
    "duration": 50,
    "start_time": "2024-07-03T15:12:16.982Z"
   },
   {
    "duration": 14,
    "start_time": "2024-07-03T15:12:57.764Z"
   },
   {
    "duration": 15,
    "start_time": "2024-07-03T15:13:37.126Z"
   },
   {
    "duration": 9,
    "start_time": "2024-07-03T15:15:02.519Z"
   },
   {
    "duration": 56,
    "start_time": "2024-07-03T16:13:12.307Z"
   },
   {
    "duration": 23,
    "start_time": "2024-07-03T16:13:55.423Z"
   },
   {
    "duration": 37,
    "start_time": "2024-07-03T16:15:50.732Z"
   },
   {
    "duration": 50,
    "start_time": "2024-07-03T16:30:34.810Z"
   },
   {
    "duration": 20,
    "start_time": "2024-07-03T16:30:39.047Z"
   },
   {
    "duration": 35,
    "start_time": "2024-07-03T16:30:45.678Z"
   },
   {
    "duration": 50,
    "start_time": "2024-07-03T16:33:17.892Z"
   },
   {
    "duration": 21,
    "start_time": "2024-07-03T16:33:19.997Z"
   },
   {
    "duration": 64,
    "start_time": "2024-07-03T16:51:50.078Z"
   },
   {
    "duration": 23,
    "start_time": "2024-07-03T16:51:50.635Z"
   },
   {
    "duration": 319,
    "start_time": "2024-07-03T18:46:29.009Z"
   },
   {
    "duration": 5065,
    "start_time": "2024-07-03T18:46:34.713Z"
   },
   {
    "duration": 91,
    "start_time": "2024-07-03T18:46:39.781Z"
   },
   {
    "duration": 20,
    "start_time": "2024-07-03T18:46:39.874Z"
   },
   {
    "duration": 17,
    "start_time": "2024-07-03T18:46:39.898Z"
   },
   {
    "duration": 15,
    "start_time": "2024-07-03T18:46:39.918Z"
   },
   {
    "duration": 18,
    "start_time": "2024-07-03T18:46:39.936Z"
   },
   {
    "duration": 15,
    "start_time": "2024-07-03T18:46:39.956Z"
   },
   {
    "duration": 16,
    "start_time": "2024-07-03T18:46:40.009Z"
   },
   {
    "duration": 13,
    "start_time": "2024-07-03T18:46:40.028Z"
   },
   {
    "duration": 13,
    "start_time": "2024-07-03T18:46:40.047Z"
   },
   {
    "duration": 16,
    "start_time": "2024-07-03T18:46:40.109Z"
   },
   {
    "duration": 8,
    "start_time": "2024-07-03T18:46:40.129Z"
   },
   {
    "duration": 10,
    "start_time": "2024-07-03T18:46:40.140Z"
   },
   {
    "duration": 56,
    "start_time": "2024-07-03T18:46:40.154Z"
   },
   {
    "duration": 9,
    "start_time": "2024-07-03T18:46:40.213Z"
   },
   {
    "duration": 9,
    "start_time": "2024-07-03T18:46:40.225Z"
   },
   {
    "duration": 89,
    "start_time": "2024-07-03T18:46:40.237Z"
   },
   {
    "duration": 21,
    "start_time": "2024-07-03T18:46:40.330Z"
   },
   {
    "duration": 61,
    "start_time": "2024-07-03T18:46:40.355Z"
   },
   {
    "duration": 4953,
    "start_time": "2024-07-04T04:07:59.425Z"
   },
   {
    "duration": 97,
    "start_time": "2024-07-04T04:08:04.382Z"
   },
   {
    "duration": 19,
    "start_time": "2024-07-04T04:08:04.482Z"
   },
   {
    "duration": 19,
    "start_time": "2024-07-04T04:08:04.505Z"
   },
   {
    "duration": 13,
    "start_time": "2024-07-04T04:08:04.527Z"
   },
   {
    "duration": 16,
    "start_time": "2024-07-04T04:08:04.543Z"
   },
   {
    "duration": 49,
    "start_time": "2024-07-04T04:08:04.563Z"
   },
   {
    "duration": 16,
    "start_time": "2024-07-04T04:08:04.615Z"
   },
   {
    "duration": 12,
    "start_time": "2024-07-04T04:08:04.634Z"
   },
   {
    "duration": 50,
    "start_time": "2024-07-04T04:08:04.652Z"
   },
   {
    "duration": 18,
    "start_time": "2024-07-04T04:08:04.705Z"
   },
   {
    "duration": 8,
    "start_time": "2024-07-04T04:08:04.726Z"
   },
   {
    "duration": 10,
    "start_time": "2024-07-04T04:08:04.738Z"
   },
   {
    "duration": 54,
    "start_time": "2024-07-04T04:08:04.754Z"
   },
   {
    "duration": 9,
    "start_time": "2024-07-04T04:08:04.811Z"
   },
   {
    "duration": 8,
    "start_time": "2024-07-04T04:08:04.823Z"
   },
   {
    "duration": 88,
    "start_time": "2024-07-04T04:08:04.834Z"
   },
   {
    "duration": 22,
    "start_time": "2024-07-04T04:08:04.925Z"
   },
   {
    "duration": 60,
    "start_time": "2024-07-04T04:08:04.950Z"
   },
   {
    "duration": 1291,
    "start_time": "2024-07-04T04:08:10.993Z"
   },
   {
    "duration": 56,
    "start_time": "2024-07-04T04:08:12.287Z"
   },
   {
    "duration": 22,
    "start_time": "2024-07-04T04:08:12.346Z"
   },
   {
    "duration": 37,
    "start_time": "2024-07-04T04:08:12.375Z"
   },
   {
    "duration": 15,
    "start_time": "2024-07-04T04:08:12.418Z"
   },
   {
    "duration": 17,
    "start_time": "2024-07-04T04:08:12.437Z"
   },
   {
    "duration": 51,
    "start_time": "2024-07-04T04:08:12.457Z"
   },
   {
    "duration": 18,
    "start_time": "2024-07-04T04:08:12.511Z"
   },
   {
    "duration": 13,
    "start_time": "2024-07-04T04:08:12.532Z"
   },
   {
    "duration": 11,
    "start_time": "2024-07-04T04:08:12.549Z"
   },
   {
    "duration": 17,
    "start_time": "2024-07-04T04:08:12.605Z"
   },
   {
    "duration": 9,
    "start_time": "2024-07-04T04:08:12.625Z"
   },
   {
    "duration": 11,
    "start_time": "2024-07-04T04:08:12.640Z"
   },
   {
    "duration": 50,
    "start_time": "2024-07-04T04:08:12.655Z"
   },
   {
    "duration": 8,
    "start_time": "2024-07-04T04:08:12.712Z"
   },
   {
    "duration": 8,
    "start_time": "2024-07-04T04:08:12.723Z"
   },
   {
    "duration": 88,
    "start_time": "2024-07-04T04:08:12.734Z"
   },
   {
    "duration": 22,
    "start_time": "2024-07-04T04:08:12.825Z"
   },
   {
    "duration": 61,
    "start_time": "2024-07-04T04:08:12.850Z"
   },
   {
    "duration": 18,
    "start_time": "2024-07-04T04:08:57.045Z"
   },
   {
    "duration": 8,
    "start_time": "2024-07-04T04:11:04.226Z"
   },
   {
    "duration": 8,
    "start_time": "2024-07-04T04:11:35.982Z"
   },
   {
    "duration": 696,
    "start_time": "2024-07-04T04:37:14.497Z"
   },
   {
    "duration": 392,
    "start_time": "2024-07-04T04:37:39.284Z"
   },
   {
    "duration": 545,
    "start_time": "2024-07-04T04:39:47.049Z"
   },
   {
    "duration": 0,
    "start_time": "2024-07-04T04:42:53.138Z"
   },
   {
    "duration": 0,
    "start_time": "2024-07-04T04:46:42.365Z"
   },
   {
    "duration": 5518,
    "start_time": "2024-07-04T17:47:10.927Z"
   },
   {
    "duration": 67,
    "start_time": "2024-07-04T17:47:16.449Z"
   },
   {
    "duration": 19,
    "start_time": "2024-07-04T17:47:16.519Z"
   },
   {
    "duration": 17,
    "start_time": "2024-07-04T17:47:16.543Z"
   },
   {
    "duration": 15,
    "start_time": "2024-07-04T17:47:16.563Z"
   },
   {
    "duration": 18,
    "start_time": "2024-07-04T17:47:16.580Z"
   },
   {
    "duration": 694,
    "start_time": "2024-07-04T17:47:16.631Z"
   },
   {
    "duration": 0,
    "start_time": "2024-07-04T17:47:17.331Z"
   },
   {
    "duration": 0,
    "start_time": "2024-07-04T17:47:17.333Z"
   },
   {
    "duration": 0,
    "start_time": "2024-07-04T17:47:17.336Z"
   },
   {
    "duration": 0,
    "start_time": "2024-07-04T17:47:17.338Z"
   },
   {
    "duration": 0,
    "start_time": "2024-07-04T17:47:17.340Z"
   },
   {
    "duration": 0,
    "start_time": "2024-07-04T17:47:17.343Z"
   },
   {
    "duration": 0,
    "start_time": "2024-07-04T17:47:17.345Z"
   },
   {
    "duration": 1,
    "start_time": "2024-07-04T17:47:17.347Z"
   },
   {
    "duration": 0,
    "start_time": "2024-07-04T17:47:17.349Z"
   },
   {
    "duration": 0,
    "start_time": "2024-07-04T17:47:17.352Z"
   },
   {
    "duration": 0,
    "start_time": "2024-07-04T17:47:17.354Z"
   },
   {
    "duration": 0,
    "start_time": "2024-07-04T17:47:17.357Z"
   },
   {
    "duration": 1,
    "start_time": "2024-07-04T17:47:17.358Z"
   },
   {
    "duration": 5167,
    "start_time": "2024-07-04T19:24:55.867Z"
   },
   {
    "duration": 93,
    "start_time": "2024-07-04T19:25:01.038Z"
   },
   {
    "duration": 27,
    "start_time": "2024-07-04T19:25:01.135Z"
   },
   {
    "duration": 20,
    "start_time": "2024-07-04T19:25:01.166Z"
   },
   {
    "duration": 42,
    "start_time": "2024-07-04T19:25:01.190Z"
   },
   {
    "duration": 18,
    "start_time": "2024-07-04T19:25:01.236Z"
   },
   {
    "duration": 15,
    "start_time": "2024-07-04T19:25:01.258Z"
   },
   {
    "duration": 54,
    "start_time": "2024-07-04T19:25:01.276Z"
   },
   {
    "duration": 12,
    "start_time": "2024-07-04T19:25:01.333Z"
   },
   {
    "duration": 13,
    "start_time": "2024-07-04T19:25:01.351Z"
   },
   {
    "duration": 64,
    "start_time": "2024-07-04T19:25:01.367Z"
   },
   {
    "duration": 9,
    "start_time": "2024-07-04T19:25:01.435Z"
   },
   {
    "duration": 10,
    "start_time": "2024-07-04T19:25:01.447Z"
   },
   {
    "duration": 15,
    "start_time": "2024-07-04T19:25:01.461Z"
   },
   {
    "duration": 10,
    "start_time": "2024-07-04T19:25:01.523Z"
   },
   {
    "duration": 9,
    "start_time": "2024-07-04T19:25:01.536Z"
   },
   {
    "duration": 88,
    "start_time": "2024-07-04T19:25:01.548Z"
   },
   {
    "duration": 22,
    "start_time": "2024-07-04T19:25:01.640Z"
   },
   {
    "duration": 9,
    "start_time": "2024-07-04T19:25:01.666Z"
   },
   {
    "duration": 34,
    "start_time": "2024-07-04T19:25:27.760Z"
   },
   {
    "duration": 54,
    "start_time": "2024-07-04T19:27:00.765Z"
   },
   {
    "duration": 24,
    "start_time": "2024-07-04T19:27:04.750Z"
   },
   {
    "duration": 8,
    "start_time": "2024-07-04T19:27:08.006Z"
   },
   {
    "duration": 31,
    "start_time": "2024-07-04T19:27:10.676Z"
   },
   {
    "duration": 32,
    "start_time": "2024-07-04T19:29:03.190Z"
   },
   {
    "duration": 53,
    "start_time": "2024-07-04T19:29:12.275Z"
   },
   {
    "duration": 23,
    "start_time": "2024-07-04T19:29:13.180Z"
   },
   {
    "duration": 9,
    "start_time": "2024-07-04T19:29:16.507Z"
   },
   {
    "duration": 35,
    "start_time": "2024-07-04T19:29:18.547Z"
   },
   {
    "duration": 34,
    "start_time": "2024-07-04T19:30:09.042Z"
   },
   {
    "duration": 8,
    "start_time": "2024-07-04T20:04:35.985Z"
   },
   {
    "duration": 8,
    "start_time": "2024-07-04T20:07:36.063Z"
   },
   {
    "duration": 30,
    "start_time": "2024-07-04T20:13:25.393Z"
   },
   {
    "duration": 21,
    "start_time": "2024-07-04T20:13:37.882Z"
   },
   {
    "duration": 63,
    "start_time": "2024-07-04T20:14:01.019Z"
   },
   {
    "duration": 28,
    "start_time": "2024-07-04T20:14:02.423Z"
   },
   {
    "duration": 25,
    "start_time": "2024-07-04T20:14:10.734Z"
   },
   {
    "duration": 42,
    "start_time": "2024-07-04T20:14:18.068Z"
   },
   {
    "duration": 24,
    "start_time": "2024-07-04T20:14:35.522Z"
   },
   {
    "duration": 51,
    "start_time": "2024-07-04T20:14:41.596Z"
   },
   {
    "duration": 5077,
    "start_time": "2024-07-04T21:39:27.651Z"
   },
   {
    "duration": 72,
    "start_time": "2024-07-04T21:39:32.733Z"
   },
   {
    "duration": 19,
    "start_time": "2024-07-04T21:39:32.808Z"
   },
   {
    "duration": 17,
    "start_time": "2024-07-04T21:39:32.831Z"
   },
   {
    "duration": 8,
    "start_time": "2024-07-04T21:39:32.850Z"
   },
   {
    "duration": 14,
    "start_time": "2024-07-04T21:39:32.861Z"
   },
   {
    "duration": 54,
    "start_time": "2024-07-04T21:39:32.878Z"
   },
   {
    "duration": 14,
    "start_time": "2024-07-04T21:39:32.935Z"
   },
   {
    "duration": 15,
    "start_time": "2024-07-04T21:39:32.952Z"
   },
   {
    "duration": 10,
    "start_time": "2024-07-04T21:39:32.976Z"
   },
   {
    "duration": 49,
    "start_time": "2024-07-04T21:39:32.990Z"
   },
   {
    "duration": 15,
    "start_time": "2024-07-04T21:39:33.042Z"
   },
   {
    "duration": 17,
    "start_time": "2024-07-04T21:39:33.061Z"
   },
   {
    "duration": 52,
    "start_time": "2024-07-04T21:39:33.081Z"
   },
   {
    "duration": 10,
    "start_time": "2024-07-04T21:39:33.136Z"
   },
   {
    "duration": 13,
    "start_time": "2024-07-04T21:39:33.149Z"
   },
   {
    "duration": 8,
    "start_time": "2024-07-04T21:39:33.165Z"
   },
   {
    "duration": 8,
    "start_time": "2024-07-04T21:39:33.177Z"
   },
   {
    "duration": 50,
    "start_time": "2024-07-04T21:39:33.234Z"
   },
   {
    "duration": 23,
    "start_time": "2024-07-04T21:39:33.287Z"
   },
   {
    "duration": 22,
    "start_time": "2024-07-04T21:39:33.335Z"
   },
   {
    "duration": 34,
    "start_time": "2024-07-04T21:39:33.359Z"
   },
   {
    "duration": 11,
    "start_time": "2024-07-04T21:39:55.768Z"
   },
   {
    "duration": 14,
    "start_time": "2024-07-04T21:40:43.336Z"
   },
   {
    "duration": 16,
    "start_time": "2024-07-04T21:41:03.417Z"
   },
   {
    "duration": 19,
    "start_time": "2024-07-04T21:43:51.119Z"
   },
   {
    "duration": 19,
    "start_time": "2024-07-04T21:43:53.600Z"
   },
   {
    "duration": 1318,
    "start_time": "2024-07-04T21:45:46.441Z"
   },
   {
    "duration": 1199,
    "start_time": "2024-07-04T21:46:03.241Z"
   },
   {
    "duration": 19,
    "start_time": "2024-07-04T21:51:43.947Z"
   },
   {
    "duration": 10,
    "start_time": "2024-07-04T21:51:51.736Z"
   },
   {
    "duration": 92,
    "start_time": "2024-07-04T21:53:42.569Z"
   },
   {
    "duration": 113,
    "start_time": "2024-07-04T21:54:04.925Z"
   },
   {
    "duration": 115,
    "start_time": "2024-07-04T21:54:37.447Z"
   },
   {
    "duration": 20,
    "start_time": "2024-07-04T22:11:28.431Z"
   },
   {
    "duration": 24,
    "start_time": "2024-07-04T22:11:40.970Z"
   },
   {
    "duration": 27,
    "start_time": "2024-07-04T22:11:53.618Z"
   },
   {
    "duration": 29,
    "start_time": "2024-07-04T22:12:06.275Z"
   },
   {
    "duration": 24,
    "start_time": "2024-07-04T22:12:21.598Z"
   },
   {
    "duration": 23,
    "start_time": "2024-07-04T22:12:30.073Z"
   },
   {
    "duration": 15,
    "start_time": "2024-07-04T22:12:43.808Z"
   },
   {
    "duration": 18,
    "start_time": "2024-07-04T22:13:03.672Z"
   },
   {
    "duration": 5191,
    "start_time": "2024-07-04T23:28:11.333Z"
   },
   {
    "duration": 100,
    "start_time": "2024-07-04T23:28:16.528Z"
   },
   {
    "duration": 22,
    "start_time": "2024-07-04T23:28:16.630Z"
   },
   {
    "duration": 18,
    "start_time": "2024-07-04T23:28:16.656Z"
   },
   {
    "duration": 8,
    "start_time": "2024-07-04T23:28:16.677Z"
   },
   {
    "duration": 14,
    "start_time": "2024-07-04T23:28:16.712Z"
   },
   {
    "duration": 17,
    "start_time": "2024-07-04T23:28:16.729Z"
   },
   {
    "duration": 9,
    "start_time": "2024-07-04T23:28:16.749Z"
   },
   {
    "duration": 60,
    "start_time": "2024-07-04T23:28:16.761Z"
   },
   {
    "duration": 418,
    "start_time": "2024-07-04T23:28:16.827Z"
   },
   {
    "duration": 0,
    "start_time": "2024-07-04T23:28:17.250Z"
   },
   {
    "duration": 0,
    "start_time": "2024-07-04T23:28:17.252Z"
   },
   {
    "duration": 0,
    "start_time": "2024-07-04T23:28:17.255Z"
   },
   {
    "duration": 0,
    "start_time": "2024-07-04T23:28:17.256Z"
   },
   {
    "duration": 0,
    "start_time": "2024-07-04T23:28:17.258Z"
   },
   {
    "duration": 0,
    "start_time": "2024-07-04T23:28:17.261Z"
   },
   {
    "duration": 0,
    "start_time": "2024-07-04T23:28:17.264Z"
   },
   {
    "duration": 0,
    "start_time": "2024-07-04T23:28:17.265Z"
   },
   {
    "duration": 0,
    "start_time": "2024-07-04T23:28:17.268Z"
   },
   {
    "duration": 0,
    "start_time": "2024-07-04T23:28:17.269Z"
   },
   {
    "duration": 0,
    "start_time": "2024-07-04T23:28:17.272Z"
   },
   {
    "duration": 0,
    "start_time": "2024-07-04T23:28:17.273Z"
   },
   {
    "duration": 0,
    "start_time": "2024-07-04T23:28:17.313Z"
   },
   {
    "duration": 0,
    "start_time": "2024-07-04T23:28:17.315Z"
   },
   {
    "duration": 0,
    "start_time": "2024-07-04T23:28:17.317Z"
   },
   {
    "duration": 0,
    "start_time": "2024-07-04T23:28:17.320Z"
   },
   {
    "duration": 16,
    "start_time": "2024-07-04T23:29:12.636Z"
   },
   {
    "duration": 1275,
    "start_time": "2024-07-04T23:29:21.443Z"
   },
   {
    "duration": 109,
    "start_time": "2024-07-04T23:29:43.982Z"
   },
   {
    "duration": 7,
    "start_time": "2024-07-04T23:30:33.452Z"
   },
   {
    "duration": 18,
    "start_time": "2024-07-04T23:30:39.222Z"
   },
   {
    "duration": 15,
    "start_time": "2024-07-04T23:31:06.532Z"
   },
   {
    "duration": 20,
    "start_time": "2024-07-04T23:31:07.547Z"
   },
   {
    "duration": 11,
    "start_time": "2024-07-04T23:31:12.782Z"
   },
   {
    "duration": 7,
    "start_time": "2024-07-04T23:31:15.761Z"
   },
   {
    "duration": 13,
    "start_time": "2024-07-04T23:31:33.751Z"
   },
   {
    "duration": 15,
    "start_time": "2024-07-04T23:31:34.661Z"
   },
   {
    "duration": 8,
    "start_time": "2024-07-04T23:31:53.920Z"
   },
   {
    "duration": 9,
    "start_time": "2024-07-04T23:32:56.092Z"
   },
   {
    "duration": 13,
    "start_time": "2024-07-04T23:32:57.996Z"
   },
   {
    "duration": 9,
    "start_time": "2024-07-04T23:32:59.468Z"
   },
   {
    "duration": 8,
    "start_time": "2024-07-04T23:33:01.488Z"
   },
   {
    "duration": 51,
    "start_time": "2024-07-04T23:33:02.514Z"
   },
   {
    "duration": 23,
    "start_time": "2024-07-04T23:33:05.649Z"
   },
   {
    "duration": 29,
    "start_time": "2024-07-04T23:33:06.290Z"
   },
   {
    "duration": 31,
    "start_time": "2024-07-04T23:33:07.516Z"
   },
   {
    "duration": 7,
    "start_time": "2024-07-04T23:37:47.883Z"
   },
   {
    "duration": 19,
    "start_time": "2024-07-04T23:37:48.970Z"
   },
   {
    "duration": 25,
    "start_time": "2024-07-04T23:39:30.011Z"
   },
   {
    "duration": 5,
    "start_time": "2024-07-04T23:40:42.957Z"
   },
   {
    "duration": 16,
    "start_time": "2024-07-04T23:41:00.969Z"
   },
   {
    "duration": 21,
    "start_time": "2024-07-04T23:42:34.822Z"
   },
   {
    "duration": 21,
    "start_time": "2024-07-04T23:43:06.067Z"
   },
   {
    "duration": 20,
    "start_time": "2024-07-04T23:48:07.403Z"
   },
   {
    "duration": 28,
    "start_time": "2024-07-04T23:48:44.879Z"
   },
   {
    "duration": 27,
    "start_time": "2024-07-04T23:49:18.897Z"
   },
   {
    "duration": 5,
    "start_time": "2024-07-04T23:49:32.680Z"
   },
   {
    "duration": 21,
    "start_time": "2024-07-04T23:49:42.315Z"
   },
   {
    "duration": 22,
    "start_time": "2024-07-04T23:50:11.623Z"
   },
   {
    "duration": 22,
    "start_time": "2024-07-04T23:50:46.139Z"
   },
   {
    "duration": 23,
    "start_time": "2024-07-04T23:51:21.219Z"
   },
   {
    "duration": 19,
    "start_time": "2024-07-04T23:52:50.094Z"
   },
   {
    "duration": 18,
    "start_time": "2024-07-04T23:54:10.544Z"
   },
   {
    "duration": 14,
    "start_time": "2024-07-04T23:54:30.685Z"
   },
   {
    "duration": 13,
    "start_time": "2024-07-04T23:54:46.630Z"
   },
   {
    "duration": 58,
    "start_time": "2024-07-04T23:54:54.698Z"
   },
   {
    "duration": 40,
    "start_time": "2024-07-04T23:55:11.452Z"
   },
   {
    "duration": 1302,
    "start_time": "2024-07-04T23:57:46.425Z"
   },
   {
    "duration": 57,
    "start_time": "2024-07-04T23:57:47.731Z"
   },
   {
    "duration": 32,
    "start_time": "2024-07-04T23:57:47.792Z"
   },
   {
    "duration": 16,
    "start_time": "2024-07-04T23:57:47.828Z"
   },
   {
    "duration": 9,
    "start_time": "2024-07-04T23:57:47.848Z"
   },
   {
    "duration": 14,
    "start_time": "2024-07-04T23:57:47.860Z"
   },
   {
    "duration": 17,
    "start_time": "2024-07-04T23:57:47.913Z"
   },
   {
    "duration": 8,
    "start_time": "2024-07-04T23:57:47.933Z"
   },
   {
    "duration": 13,
    "start_time": "2024-07-04T23:57:47.944Z"
   },
   {
    "duration": 47,
    "start_time": "2024-07-04T23:57:47.965Z"
   },
   {
    "duration": 27,
    "start_time": "2024-07-04T23:57:48.015Z"
   },
   {
    "duration": 17,
    "start_time": "2024-07-04T23:57:48.045Z"
   },
   {
    "duration": 49,
    "start_time": "2024-07-04T23:57:48.065Z"
   },
   {
    "duration": 16,
    "start_time": "2024-07-04T23:57:48.117Z"
   },
   {
    "duration": 13,
    "start_time": "2024-07-04T23:57:48.136Z"
   },
   {
    "duration": 8,
    "start_time": "2024-07-04T23:57:48.152Z"
   },
   {
    "duration": 66,
    "start_time": "2024-07-04T23:57:48.164Z"
   },
   {
    "duration": 13,
    "start_time": "2024-07-04T23:57:48.233Z"
   },
   {
    "duration": 20,
    "start_time": "2024-07-04T23:57:48.249Z"
   },
   {
    "duration": 44,
    "start_time": "2024-07-04T23:57:48.272Z"
   },
   {
    "duration": 20,
    "start_time": "2024-07-04T23:57:48.320Z"
   },
   {
    "duration": 10,
    "start_time": "2024-07-04T23:57:48.343Z"
   },
   {
    "duration": 54,
    "start_time": "2024-07-04T23:57:48.357Z"
   },
   {
    "duration": 11,
    "start_time": "2024-07-04T23:57:48.415Z"
   },
   {
    "duration": 10,
    "start_time": "2024-07-04T23:57:48.429Z"
   },
   {
    "duration": 16,
    "start_time": "2024-07-04T23:57:48.443Z"
   },
   {
    "duration": 267,
    "start_time": "2024-07-04T23:57:48.463Z"
   },
   {
    "duration": 0,
    "start_time": "2024-07-04T23:57:48.734Z"
   },
   {
    "duration": 0,
    "start_time": "2024-07-04T23:57:48.737Z"
   },
   {
    "duration": 0,
    "start_time": "2024-07-04T23:57:48.740Z"
   },
   {
    "duration": 6,
    "start_time": "2024-07-04T23:58:27.444Z"
   },
   {
    "duration": 17,
    "start_time": "2024-07-04T23:58:33.502Z"
   },
   {
    "duration": 27,
    "start_time": "2024-07-04T23:59:57.348Z"
   },
   {
    "duration": 18,
    "start_time": "2024-07-05T00:00:00.009Z"
   },
   {
    "duration": 1283,
    "start_time": "2024-07-05T00:00:08.185Z"
   },
   {
    "duration": 58,
    "start_time": "2024-07-05T00:00:09.473Z"
   },
   {
    "duration": 19,
    "start_time": "2024-07-05T00:00:09.534Z"
   },
   {
    "duration": 18,
    "start_time": "2024-07-05T00:00:09.557Z"
   },
   {
    "duration": 37,
    "start_time": "2024-07-05T00:00:09.578Z"
   },
   {
    "duration": 15,
    "start_time": "2024-07-05T00:00:09.617Z"
   },
   {
    "duration": 20,
    "start_time": "2024-07-05T00:00:09.634Z"
   },
   {
    "duration": 10,
    "start_time": "2024-07-05T00:00:09.657Z"
   },
   {
    "duration": 48,
    "start_time": "2024-07-05T00:00:09.671Z"
   },
   {
    "duration": 9,
    "start_time": "2024-07-05T00:00:09.724Z"
   },
   {
    "duration": 30,
    "start_time": "2024-07-05T00:00:09.736Z"
   },
   {
    "duration": 55,
    "start_time": "2024-07-05T00:00:09.769Z"
   },
   {
    "duration": 14,
    "start_time": "2024-07-05T00:00:09.827Z"
   },
   {
    "duration": 15,
    "start_time": "2024-07-05T00:00:09.845Z"
   },
   {
    "duration": 52,
    "start_time": "2024-07-05T00:00:09.863Z"
   },
   {
    "duration": 8,
    "start_time": "2024-07-05T00:00:09.918Z"
   },
   {
    "duration": 22,
    "start_time": "2024-07-05T00:00:09.929Z"
   },
   {
    "duration": 12,
    "start_time": "2024-07-05T00:00:09.955Z"
   },
   {
    "duration": 54,
    "start_time": "2024-07-05T00:00:09.971Z"
   },
   {
    "duration": 7,
    "start_time": "2024-07-05T00:00:10.031Z"
   },
   {
    "duration": 22,
    "start_time": "2024-07-05T00:00:10.041Z"
   },
   {
    "duration": 50,
    "start_time": "2024-07-05T00:00:10.065Z"
   },
   {
    "duration": 15,
    "start_time": "2024-07-05T00:00:10.118Z"
   },
   {
    "duration": 9,
    "start_time": "2024-07-05T00:00:10.137Z"
   },
   {
    "duration": 9,
    "start_time": "2024-07-05T00:00:10.152Z"
   },
   {
    "duration": 54,
    "start_time": "2024-07-05T00:00:10.164Z"
   },
   {
    "duration": 254,
    "start_time": "2024-07-05T00:00:10.222Z"
   },
   {
    "duration": 0,
    "start_time": "2024-07-05T00:00:10.479Z"
   },
   {
    "duration": 0,
    "start_time": "2024-07-05T00:00:10.480Z"
   },
   {
    "duration": 0,
    "start_time": "2024-07-05T00:00:10.483Z"
   },
   {
    "duration": 6,
    "start_time": "2024-07-05T00:03:53.624Z"
   },
   {
    "duration": 23,
    "start_time": "2024-07-05T00:04:03.021Z"
   },
   {
    "duration": 5,
    "start_time": "2024-07-05T00:04:12.543Z"
   },
   {
    "duration": 6,
    "start_time": "2024-07-05T00:04:32.081Z"
   },
   {
    "duration": 5,
    "start_time": "2024-07-05T00:04:48.288Z"
   },
   {
    "duration": 51,
    "start_time": "2024-07-05T00:04:52.746Z"
   },
   {
    "duration": 21,
    "start_time": "2024-07-05T00:05:04.854Z"
   },
   {
    "duration": 1482,
    "start_time": "2024-07-05T00:05:31.933Z"
   },
   {
    "duration": 283,
    "start_time": "2024-07-05T00:06:11.390Z"
   },
   {
    "duration": 5,
    "start_time": "2024-07-05T00:06:39.524Z"
   },
   {
    "duration": 51,
    "start_time": "2024-07-05T00:06:40.162Z"
   },
   {
    "duration": 51,
    "start_time": "2024-07-05T00:08:25.733Z"
   },
   {
    "duration": 23,
    "start_time": "2024-07-05T00:08:26.730Z"
   },
   {
    "duration": 23,
    "start_time": "2024-07-05T00:08:28.491Z"
   },
   {
    "duration": 33,
    "start_time": "2024-07-05T00:08:30.019Z"
   },
   {
    "duration": 8,
    "start_time": "2024-07-05T00:13:33.950Z"
   },
   {
    "duration": 15,
    "start_time": "2024-07-05T00:13:56.373Z"
   },
   {
    "duration": 15,
    "start_time": "2024-07-05T00:14:05.018Z"
   },
   {
    "duration": 35,
    "start_time": "2024-07-05T01:26:39.979Z"
   },
   {
    "duration": 19,
    "start_time": "2024-07-05T01:26:41.290Z"
   },
   {
    "duration": 345,
    "start_time": "2024-07-05T03:52:59.434Z"
   },
   {
    "duration": 5303,
    "start_time": "2024-07-05T03:53:15.141Z"
   },
   {
    "duration": 111,
    "start_time": "2024-07-05T03:53:20.448Z"
   },
   {
    "duration": 20,
    "start_time": "2024-07-05T03:53:20.565Z"
   },
   {
    "duration": 17,
    "start_time": "2024-07-05T03:53:20.589Z"
   },
   {
    "duration": 8,
    "start_time": "2024-07-05T03:53:20.610Z"
   },
   {
    "duration": 23,
    "start_time": "2024-07-05T03:53:20.637Z"
   },
   {
    "duration": 24,
    "start_time": "2024-07-05T03:53:20.663Z"
   },
   {
    "duration": 10,
    "start_time": "2024-07-05T03:53:20.690Z"
   },
   {
    "duration": 38,
    "start_time": "2024-07-05T03:53:20.705Z"
   },
   {
    "duration": 19,
    "start_time": "2024-07-05T03:53:20.753Z"
   },
   {
    "duration": 6,
    "start_time": "2024-07-05T03:53:20.776Z"
   },
   {
    "duration": 18,
    "start_time": "2024-07-05T03:53:20.786Z"
   },
   {
    "duration": 56,
    "start_time": "2024-07-05T03:53:20.807Z"
   },
   {
    "duration": 10,
    "start_time": "2024-07-05T03:53:20.866Z"
   },
   {
    "duration": 14,
    "start_time": "2024-07-05T03:53:20.879Z"
   },
   {
    "duration": 15,
    "start_time": "2024-07-05T03:53:20.896Z"
   },
   {
    "duration": 18,
    "start_time": "2024-07-05T03:53:20.945Z"
   },
   {
    "duration": 11,
    "start_time": "2024-07-05T03:53:20.966Z"
   },
   {
    "duration": 6,
    "start_time": "2024-07-05T03:53:20.980Z"
   },
   {
    "duration": 11,
    "start_time": "2024-07-05T03:53:20.989Z"
   },
   {
    "duration": 57,
    "start_time": "2024-07-05T03:53:21.003Z"
   },
   {
    "duration": 8,
    "start_time": "2024-07-05T03:53:21.066Z"
   },
   {
    "duration": 6,
    "start_time": "2024-07-05T03:53:21.077Z"
   },
   {
    "duration": 10,
    "start_time": "2024-07-05T03:53:21.085Z"
   },
   {
    "duration": 45,
    "start_time": "2024-07-05T03:53:21.098Z"
   },
   {
    "duration": 18,
    "start_time": "2024-07-05T03:53:21.146Z"
   },
   {
    "duration": 8,
    "start_time": "2024-07-05T03:53:21.169Z"
   },
   {
    "duration": 5,
    "start_time": "2024-07-05T03:53:21.184Z"
   },
   {
    "duration": 94,
    "start_time": "2024-07-05T03:53:21.192Z"
   },
   {
    "duration": 24,
    "start_time": "2024-07-05T03:53:21.289Z"
   },
   {
    "duration": 1761,
    "start_time": "2024-07-05T03:53:21.317Z"
   },
   {
    "duration": 0,
    "start_time": "2024-07-05T03:53:23.081Z"
   },
   {
    "duration": 0,
    "start_time": "2024-07-05T03:53:23.083Z"
   },
   {
    "duration": 0,
    "start_time": "2024-07-05T03:53:23.085Z"
   },
   {
    "duration": 1364,
    "start_time": "2024-07-05T03:58:56.758Z"
   },
   {
    "duration": 68,
    "start_time": "2024-07-05T03:58:58.125Z"
   },
   {
    "duration": 20,
    "start_time": "2024-07-05T03:58:58.196Z"
   },
   {
    "duration": 33,
    "start_time": "2024-07-05T03:58:58.220Z"
   },
   {
    "duration": 10,
    "start_time": "2024-07-05T03:58:58.259Z"
   },
   {
    "duration": 13,
    "start_time": "2024-07-05T03:58:58.273Z"
   },
   {
    "duration": 17,
    "start_time": "2024-07-05T03:58:58.289Z"
   },
   {
    "duration": 20,
    "start_time": "2024-07-05T03:58:58.341Z"
   },
   {
    "duration": 12,
    "start_time": "2024-07-05T03:58:58.365Z"
   },
   {
    "duration": 8,
    "start_time": "2024-07-05T03:58:58.382Z"
   },
   {
    "duration": 6,
    "start_time": "2024-07-05T03:58:58.393Z"
   },
   {
    "duration": 54,
    "start_time": "2024-07-05T03:58:58.402Z"
   },
   {
    "duration": 19,
    "start_time": "2024-07-05T03:58:58.459Z"
   },
   {
    "duration": 9,
    "start_time": "2024-07-05T03:58:58.481Z"
   },
   {
    "duration": 2334,
    "start_time": "2024-07-05T03:58:58.493Z"
   },
   {
    "duration": 0,
    "start_time": "2024-07-05T03:59:00.849Z"
   },
   {
    "duration": 0,
    "start_time": "2024-07-05T03:59:00.850Z"
   },
   {
    "duration": 0,
    "start_time": "2024-07-05T03:59:00.851Z"
   },
   {
    "duration": 0,
    "start_time": "2024-07-05T03:59:00.852Z"
   },
   {
    "duration": 0,
    "start_time": "2024-07-05T03:59:00.853Z"
   },
   {
    "duration": 0,
    "start_time": "2024-07-05T03:59:00.854Z"
   },
   {
    "duration": 0,
    "start_time": "2024-07-05T03:59:00.856Z"
   },
   {
    "duration": 0,
    "start_time": "2024-07-05T03:59:00.857Z"
   },
   {
    "duration": 0,
    "start_time": "2024-07-05T03:59:00.858Z"
   },
   {
    "duration": 0,
    "start_time": "2024-07-05T03:59:00.859Z"
   },
   {
    "duration": 0,
    "start_time": "2024-07-05T03:59:00.865Z"
   },
   {
    "duration": 0,
    "start_time": "2024-07-05T03:59:00.868Z"
   },
   {
    "duration": 0,
    "start_time": "2024-07-05T03:59:00.869Z"
   },
   {
    "duration": 0,
    "start_time": "2024-07-05T03:59:00.872Z"
   },
   {
    "duration": 0,
    "start_time": "2024-07-05T03:59:00.874Z"
   },
   {
    "duration": 0,
    "start_time": "2024-07-05T03:59:00.876Z"
   },
   {
    "duration": 0,
    "start_time": "2024-07-05T03:59:00.877Z"
   },
   {
    "duration": 0,
    "start_time": "2024-07-05T03:59:00.880Z"
   },
   {
    "duration": 0,
    "start_time": "2024-07-05T03:59:00.883Z"
   },
   {
    "duration": 0,
    "start_time": "2024-07-05T03:59:00.886Z"
   },
   {
    "duration": 1304,
    "start_time": "2024-07-05T03:59:54.486Z"
   },
   {
    "duration": 57,
    "start_time": "2024-07-05T03:59:55.794Z"
   },
   {
    "duration": 22,
    "start_time": "2024-07-05T03:59:55.854Z"
   },
   {
    "duration": 17,
    "start_time": "2024-07-05T03:59:55.882Z"
   },
   {
    "duration": 46,
    "start_time": "2024-07-05T03:59:55.902Z"
   },
   {
    "duration": 15,
    "start_time": "2024-07-05T03:59:55.951Z"
   },
   {
    "duration": 16,
    "start_time": "2024-07-05T03:59:55.970Z"
   },
   {
    "duration": 8,
    "start_time": "2024-07-05T03:59:55.989Z"
   },
   {
    "duration": 41,
    "start_time": "2024-07-05T03:59:56.000Z"
   },
   {
    "duration": 8,
    "start_time": "2024-07-05T03:59:56.047Z"
   },
   {
    "duration": 7,
    "start_time": "2024-07-05T03:59:56.057Z"
   },
   {
    "duration": 16,
    "start_time": "2024-07-05T03:59:56.067Z"
   },
   {
    "duration": 60,
    "start_time": "2024-07-05T03:59:56.086Z"
   },
   {
    "duration": 9,
    "start_time": "2024-07-05T03:59:56.150Z"
   },
   {
    "duration": 119655,
    "start_time": "2024-07-05T03:59:56.162Z"
   },
   {
    "duration": 17,
    "start_time": "2024-07-05T04:01:55.821Z"
   },
   {
    "duration": 17,
    "start_time": "2024-07-05T04:01:55.841Z"
   },
   {
    "duration": 11,
    "start_time": "2024-07-05T04:01:55.861Z"
   },
   {
    "duration": 8,
    "start_time": "2024-07-05T04:01:55.874Z"
   },
   {
    "duration": 47,
    "start_time": "2024-07-05T04:01:55.886Z"
   },
   {
    "duration": 12,
    "start_time": "2024-07-05T04:01:55.936Z"
   },
   {
    "duration": 16,
    "start_time": "2024-07-05T04:01:55.951Z"
   },
   {
    "duration": 8,
    "start_time": "2024-07-05T04:01:55.970Z"
   },
   {
    "duration": 6,
    "start_time": "2024-07-05T04:01:55.981Z"
   },
   {
    "duration": 10,
    "start_time": "2024-07-05T04:01:56.034Z"
   },
   {
    "duration": 15,
    "start_time": "2024-07-05T04:01:56.046Z"
   },
   {
    "duration": 8,
    "start_time": "2024-07-05T04:01:56.064Z"
   },
   {
    "duration": 7,
    "start_time": "2024-07-05T04:01:56.080Z"
   },
   {
    "duration": 5,
    "start_time": "2024-07-05T04:01:56.134Z"
   },
   {
    "duration": 51,
    "start_time": "2024-07-05T04:01:56.142Z"
   },
   {
    "duration": 50,
    "start_time": "2024-07-05T04:01:56.196Z"
   },
   {
    "duration": 1515,
    "start_time": "2024-07-05T04:01:56.249Z"
   },
   {
    "duration": 0,
    "start_time": "2024-07-05T04:01:57.767Z"
   },
   {
    "duration": 0,
    "start_time": "2024-07-05T04:01:57.770Z"
   },
   {
    "duration": 0,
    "start_time": "2024-07-05T04:01:57.772Z"
   },
   {
    "duration": 17,
    "start_time": "2024-07-05T04:05:14.018Z"
   },
   {
    "duration": 268,
    "start_time": "2024-07-05T04:05:24.969Z"
   },
   {
    "duration": 352,
    "start_time": "2024-07-05T04:06:51.825Z"
   },
   {
    "duration": 34,
    "start_time": "2024-07-05T04:07:02.691Z"
   },
   {
    "duration": 6,
    "start_time": "2024-07-05T04:08:51.673Z"
   },
   {
    "duration": 329,
    "start_time": "2024-07-05T04:08:56.549Z"
   },
   {
    "duration": 317,
    "start_time": "2024-07-05T04:09:33.156Z"
   },
   {
    "duration": 337,
    "start_time": "2024-07-05T04:09:54.120Z"
   },
   {
    "duration": 317,
    "start_time": "2024-07-05T04:10:04.706Z"
   },
   {
    "duration": 5,
    "start_time": "2024-07-05T04:11:58.922Z"
   },
   {
    "duration": 547,
    "start_time": "2024-07-05T04:12:46.262Z"
   },
   {
    "duration": 559,
    "start_time": "2024-07-05T04:12:54.327Z"
   },
   {
    "duration": 567,
    "start_time": "2024-07-05T04:13:02.123Z"
   },
   {
    "duration": 551,
    "start_time": "2024-07-05T04:13:08.372Z"
   },
   {
    "duration": 7,
    "start_time": "2024-07-05T04:15:28.304Z"
   },
   {
    "duration": 421,
    "start_time": "2024-07-05T04:15:56.908Z"
   },
   {
    "duration": 21,
    "start_time": "2024-07-05T04:22:59.462Z"
   },
   {
    "duration": 39,
    "start_time": "2024-07-05T04:23:04.109Z"
   },
   {
    "duration": 27,
    "start_time": "2024-07-05T04:23:06.622Z"
   },
   {
    "duration": 24,
    "start_time": "2024-07-05T04:23:07.298Z"
   },
   {
    "duration": 210,
    "start_time": "2024-07-05T04:23:48.186Z"
   },
   {
    "duration": 256,
    "start_time": "2024-07-05T04:24:03.853Z"
   },
   {
    "duration": 85,
    "start_time": "2024-07-05T04:24:23.956Z"
   },
   {
    "duration": 107,
    "start_time": "2024-07-05T04:24:31.396Z"
   },
   {
    "duration": 104,
    "start_time": "2024-07-05T04:25:10.460Z"
   },
   {
    "duration": 34,
    "start_time": "2024-07-05T04:33:13.993Z"
   },
   {
    "duration": 20,
    "start_time": "2024-07-05T04:33:31.089Z"
   },
   {
    "duration": 7,
    "start_time": "2024-07-05T04:34:18.864Z"
   },
   {
    "duration": 5,
    "start_time": "2024-07-05T04:34:58.648Z"
   },
   {
    "duration": 8,
    "start_time": "2024-07-05T04:35:01.842Z"
   },
   {
    "duration": 20,
    "start_time": "2024-07-05T04:35:36.334Z"
   },
   {
    "duration": 26,
    "start_time": "2024-07-05T04:36:04.356Z"
   },
   {
    "duration": 30,
    "start_time": "2024-07-05T04:36:17.784Z"
   },
   {
    "duration": 31,
    "start_time": "2024-07-05T04:41:40.667Z"
   },
   {
    "duration": 2248,
    "start_time": "2024-07-05T04:44:12.295Z"
   },
   {
    "duration": 2138,
    "start_time": "2024-07-05T04:44:40.127Z"
   },
   {
    "duration": 2455,
    "start_time": "2024-07-05T04:45:04.196Z"
   },
   {
    "duration": 2104,
    "start_time": "2024-07-05T04:45:11.661Z"
   },
   {
    "duration": 82,
    "start_time": "2024-07-05T04:46:10.625Z"
   },
   {
    "duration": 4964,
    "start_time": "2024-07-05T04:48:13.353Z"
   },
   {
    "duration": 4807,
    "start_time": "2024-07-05T04:49:32.855Z"
   },
   {
    "duration": 3555,
    "start_time": "2024-07-05T04:56:13.704Z"
   },
   {
    "duration": 89,
    "start_time": "2024-07-05T04:56:36.827Z"
   },
   {
    "duration": 1294,
    "start_time": "2024-07-05T04:58:28.459Z"
   },
   {
    "duration": 55,
    "start_time": "2024-07-05T04:58:29.756Z"
   },
   {
    "duration": 23,
    "start_time": "2024-07-05T04:58:29.813Z"
   },
   {
    "duration": 17,
    "start_time": "2024-07-05T04:58:29.839Z"
   },
   {
    "duration": 9,
    "start_time": "2024-07-05T04:58:29.859Z"
   },
   {
    "duration": 13,
    "start_time": "2024-07-05T04:58:29.871Z"
   },
   {
    "duration": 60,
    "start_time": "2024-07-05T04:58:29.887Z"
   },
   {
    "duration": 8,
    "start_time": "2024-07-05T04:58:29.951Z"
   },
   {
    "duration": 11,
    "start_time": "2024-07-05T04:58:29.962Z"
   },
   {
    "duration": 8,
    "start_time": "2024-07-05T04:58:29.978Z"
   },
   {
    "duration": 46,
    "start_time": "2024-07-05T04:58:29.989Z"
   },
   {
    "duration": 17,
    "start_time": "2024-07-05T04:58:30.038Z"
   },
   {
    "duration": 15,
    "start_time": "2024-07-05T04:58:30.058Z"
   },
   {
    "duration": 378,
    "start_time": "2024-07-05T04:58:30.076Z"
   },
   {
    "duration": 18,
    "start_time": "2024-07-05T04:58:30.456Z"
   },
   {
    "duration": 15,
    "start_time": "2024-07-05T04:58:30.477Z"
   },
   {
    "duration": 47,
    "start_time": "2024-07-05T04:58:30.494Z"
   },
   {
    "duration": 10,
    "start_time": "2024-07-05T04:58:30.544Z"
   },
   {
    "duration": 6,
    "start_time": "2024-07-05T04:58:30.557Z"
   },
   {
    "duration": 7,
    "start_time": "2024-07-05T04:58:30.567Z"
   },
   {
    "duration": 656,
    "start_time": "2024-07-05T04:58:30.576Z"
   },
   {
    "duration": 12,
    "start_time": "2024-07-05T04:58:31.235Z"
   },
   {
    "duration": 15,
    "start_time": "2024-07-05T04:58:31.250Z"
   },
   {
    "duration": 8,
    "start_time": "2024-07-05T04:58:31.269Z"
   },
   {
    "duration": 6,
    "start_time": "2024-07-05T04:58:31.279Z"
   },
   {
    "duration": 51,
    "start_time": "2024-07-05T04:58:31.288Z"
   },
   {
    "duration": 400,
    "start_time": "2024-07-05T04:58:31.342Z"
   },
   {
    "duration": 9,
    "start_time": "2024-07-05T04:58:31.751Z"
   },
   {
    "duration": 14,
    "start_time": "2024-07-05T04:58:31.763Z"
   },
   {
    "duration": 10,
    "start_time": "2024-07-05T04:58:31.780Z"
   },
   {
    "duration": 46,
    "start_time": "2024-07-05T04:58:31.792Z"
   },
   {
    "duration": 6,
    "start_time": "2024-07-05T04:58:31.841Z"
   },
   {
    "duration": 126,
    "start_time": "2024-07-05T04:58:31.850Z"
   },
   {
    "duration": 67,
    "start_time": "2024-07-05T04:58:31.979Z"
   },
   {
    "duration": 24,
    "start_time": "2024-07-05T04:58:32.049Z"
   },
   {
    "duration": 7,
    "start_time": "2024-07-05T04:58:32.076Z"
   },
   {
    "duration": 9,
    "start_time": "2024-07-05T04:58:32.085Z"
   },
   {
    "duration": 66,
    "start_time": "2024-07-05T04:58:32.096Z"
   },
   {
    "duration": 26,
    "start_time": "2024-07-05T04:58:32.166Z"
   },
   {
    "duration": 48,
    "start_time": "2024-07-05T04:58:32.194Z"
   },
   {
    "duration": 4116,
    "start_time": "2024-07-05T04:58:32.245Z"
   },
   {
    "duration": 1322,
    "start_time": "2024-07-05T04:59:22.038Z"
   },
   {
    "duration": 60,
    "start_time": "2024-07-05T04:59:23.363Z"
   },
   {
    "duration": 23,
    "start_time": "2024-07-05T04:59:23.426Z"
   },
   {
    "duration": 17,
    "start_time": "2024-07-05T04:59:23.453Z"
   },
   {
    "duration": 9,
    "start_time": "2024-07-05T04:59:23.472Z"
   },
   {
    "duration": 50,
    "start_time": "2024-07-05T04:59:23.484Z"
   },
   {
    "duration": 16,
    "start_time": "2024-07-05T04:59:23.537Z"
   },
   {
    "duration": 9,
    "start_time": "2024-07-05T04:59:23.555Z"
   },
   {
    "duration": 8,
    "start_time": "2024-07-05T04:59:23.567Z"
   },
   {
    "duration": 52,
    "start_time": "2024-07-05T04:59:23.580Z"
   },
   {
    "duration": 6,
    "start_time": "2024-07-05T04:59:23.635Z"
   },
   {
    "duration": 18,
    "start_time": "2024-07-05T04:59:23.643Z"
   },
   {
    "duration": 16,
    "start_time": "2024-07-05T04:59:23.665Z"
   },
   {
    "duration": 380,
    "start_time": "2024-07-05T04:59:23.685Z"
   },
   {
    "duration": 14,
    "start_time": "2024-07-05T04:59:24.068Z"
   },
   {
    "duration": 15,
    "start_time": "2024-07-05T04:59:24.086Z"
   },
   {
    "duration": 12,
    "start_time": "2024-07-05T04:59:24.132Z"
   },
   {
    "duration": 8,
    "start_time": "2024-07-05T04:59:24.148Z"
   },
   {
    "duration": 6,
    "start_time": "2024-07-05T04:59:24.159Z"
   },
   {
    "duration": 8,
    "start_time": "2024-07-05T04:59:24.169Z"
   },
   {
    "duration": 649,
    "start_time": "2024-07-05T04:59:24.180Z"
   },
   {
    "duration": 12,
    "start_time": "2024-07-05T04:59:24.834Z"
   },
   {
    "duration": 15,
    "start_time": "2024-07-05T04:59:24.849Z"
   },
   {
    "duration": 8,
    "start_time": "2024-07-05T04:59:24.866Z"
   },
   {
    "duration": 6,
    "start_time": "2024-07-05T04:59:24.877Z"
   },
   {
    "duration": 8,
    "start_time": "2024-07-05T04:59:24.933Z"
   },
   {
    "duration": 360,
    "start_time": "2024-07-05T04:59:24.944Z"
   },
   {
    "duration": 22,
    "start_time": "2024-07-05T04:59:25.311Z"
   },
   {
    "duration": 13,
    "start_time": "2024-07-05T04:59:25.336Z"
   },
   {
    "duration": 9,
    "start_time": "2024-07-05T04:59:25.352Z"
   },
   {
    "duration": 9,
    "start_time": "2024-07-05T04:59:25.364Z"
   },
   {
    "duration": 5,
    "start_time": "2024-07-05T04:59:25.376Z"
   },
   {
    "duration": 138,
    "start_time": "2024-07-05T04:59:25.384Z"
   },
   {
    "duration": 52,
    "start_time": "2024-07-05T04:59:25.533Z"
   },
   {
    "duration": 47,
    "start_time": "2024-07-05T04:59:25.588Z"
   },
   {
    "duration": 8,
    "start_time": "2024-07-05T04:59:25.638Z"
   },
   {
    "duration": 8,
    "start_time": "2024-07-05T04:59:25.651Z"
   },
   {
    "duration": 33,
    "start_time": "2024-07-05T04:59:25.662Z"
   },
   {
    "duration": 6,
    "start_time": "2024-07-05T04:59:25.734Z"
   },
   {
    "duration": 21,
    "start_time": "2024-07-05T04:59:25.742Z"
   },
   {
    "duration": 4107,
    "start_time": "2024-07-05T04:59:25.766Z"
   },
   {
    "duration": 2068,
    "start_time": "2024-07-05T05:04:17.878Z"
   },
   {
    "duration": 2160,
    "start_time": "2024-07-05T05:05:47.477Z"
   },
   {
    "duration": 8,
    "start_time": "2024-07-05T05:06:17.621Z"
   },
   {
    "duration": 7,
    "start_time": "2024-07-05T05:06:28.149Z"
   },
   {
    "duration": 6,
    "start_time": "2024-07-05T05:06:34.545Z"
   },
   {
    "duration": 2104,
    "start_time": "2024-07-05T05:06:40.976Z"
   },
   {
    "duration": 333,
    "start_time": "2024-07-05T05:08:33.937Z"
   },
   {
    "duration": 311,
    "start_time": "2024-07-05T05:08:42.875Z"
   },
   {
    "duration": 889,
    "start_time": "2024-07-05T05:09:01.521Z"
   },
   {
    "duration": 347,
    "start_time": "2024-07-05T05:09:11.479Z"
   },
   {
    "duration": 5284,
    "start_time": "2024-07-05T14:59:55.683Z"
   },
   {
    "duration": 97,
    "start_time": "2024-07-05T15:00:00.971Z"
   },
   {
    "duration": 21,
    "start_time": "2024-07-05T15:00:01.072Z"
   },
   {
    "duration": 21,
    "start_time": "2024-07-05T15:00:01.097Z"
   },
   {
    "duration": 10,
    "start_time": "2024-07-05T15:00:01.126Z"
   },
   {
    "duration": 19,
    "start_time": "2024-07-05T15:00:01.140Z"
   },
   {
    "duration": 66,
    "start_time": "2024-07-05T15:00:01.163Z"
   },
   {
    "duration": 11,
    "start_time": "2024-07-05T15:00:01.232Z"
   },
   {
    "duration": 9,
    "start_time": "2024-07-05T15:00:01.247Z"
   },
   {
    "duration": 9,
    "start_time": "2024-07-05T15:00:01.263Z"
   },
   {
    "duration": 48,
    "start_time": "2024-07-05T15:00:01.276Z"
   },
   {
    "duration": 23,
    "start_time": "2024-07-05T15:00:01.328Z"
   },
   {
    "duration": 24,
    "start_time": "2024-07-05T15:00:01.355Z"
   },
   {
    "duration": 429,
    "start_time": "2024-07-05T15:00:01.383Z"
   },
   {
    "duration": 20,
    "start_time": "2024-07-05T15:00:01.815Z"
   },
   {
    "duration": 17,
    "start_time": "2024-07-05T15:00:01.838Z"
   },
   {
    "duration": 13,
    "start_time": "2024-07-05T15:00:01.858Z"
   },
   {
    "duration": 51,
    "start_time": "2024-07-05T15:00:01.874Z"
   },
   {
    "duration": 7,
    "start_time": "2024-07-05T15:00:01.929Z"
   },
   {
    "duration": 7,
    "start_time": "2024-07-05T15:00:01.940Z"
   },
   {
    "duration": 651,
    "start_time": "2024-07-05T15:00:01.951Z"
   },
   {
    "duration": 21,
    "start_time": "2024-07-05T15:00:02.606Z"
   },
   {
    "duration": 17,
    "start_time": "2024-07-05T15:00:02.631Z"
   },
   {
    "duration": 9,
    "start_time": "2024-07-05T15:00:02.652Z"
   },
   {
    "duration": 7,
    "start_time": "2024-07-05T15:00:02.665Z"
   },
   {
    "duration": 7,
    "start_time": "2024-07-05T15:00:02.724Z"
   },
   {
    "duration": 406,
    "start_time": "2024-07-05T15:00:02.735Z"
   },
   {
    "duration": 10,
    "start_time": "2024-07-05T15:00:03.149Z"
   },
   {
    "duration": 17,
    "start_time": "2024-07-05T15:00:03.163Z"
   },
   {
    "duration": 46,
    "start_time": "2024-07-05T15:00:03.184Z"
   },
   {
    "duration": 9,
    "start_time": "2024-07-05T15:00:03.233Z"
   },
   {
    "duration": 5,
    "start_time": "2024-07-05T15:00:03.246Z"
   },
   {
    "duration": 246,
    "start_time": "2024-07-05T15:00:03.255Z"
   },
   {
    "duration": 77,
    "start_time": "2024-07-05T15:00:03.505Z"
   },
   {
    "duration": 53,
    "start_time": "2024-07-05T15:00:03.585Z"
   },
   {
    "duration": 9,
    "start_time": "2024-07-05T15:00:03.645Z"
   },
   {
    "duration": 9,
    "start_time": "2024-07-05T15:00:03.658Z"
   },
   {
    "duration": 77,
    "start_time": "2024-07-05T15:00:03.671Z"
   },
   {
    "duration": 7,
    "start_time": "2024-07-05T15:00:03.753Z"
   },
   {
    "duration": 36,
    "start_time": "2024-07-05T15:00:03.765Z"
   },
   {
    "duration": 4180,
    "start_time": "2024-07-05T15:00:03.805Z"
   },
   {
    "duration": 0,
    "start_time": "2024-07-05T15:00:07.990Z"
   },
   {
    "duration": 0,
    "start_time": "2024-07-05T15:00:07.992Z"
   },
   {
    "duration": 0,
    "start_time": "2024-07-05T15:00:07.996Z"
   },
   {
    "duration": 0,
    "start_time": "2024-07-05T15:00:07.998Z"
   },
   {
    "duration": 234,
    "start_time": "2024-07-05T15:00:24.991Z"
   },
   {
    "duration": 538,
    "start_time": "2024-07-05T15:01:28.148Z"
   },
   {
    "duration": 380,
    "start_time": "2024-07-05T15:01:54.723Z"
   },
   {
    "duration": 607,
    "start_time": "2024-07-05T15:02:08.478Z"
   },
   {
    "duration": 721,
    "start_time": "2024-07-05T15:02:16.963Z"
   },
   {
    "duration": 606,
    "start_time": "2024-07-05T15:02:27.825Z"
   },
   {
    "duration": 11,
    "start_time": "2024-07-05T15:02:35.224Z"
   },
   {
    "duration": 103,
    "start_time": "2024-07-05T15:02:41.026Z"
   },
   {
    "duration": 691,
    "start_time": "2024-07-05T15:05:43.519Z"
   },
   {
    "duration": 460,
    "start_time": "2024-07-05T15:06:04.745Z"
   },
   {
    "duration": 695,
    "start_time": "2024-07-05T15:06:09.983Z"
   },
   {
    "duration": 829,
    "start_time": "2024-07-05T15:06:29.223Z"
   },
   {
    "duration": 677,
    "start_time": "2024-07-05T15:06:38.517Z"
   },
   {
    "duration": 674,
    "start_time": "2024-07-05T15:06:50.602Z"
   },
   {
    "duration": 677,
    "start_time": "2024-07-05T15:06:59.567Z"
   },
   {
    "duration": 646,
    "start_time": "2024-07-05T15:07:11.216Z"
   },
   {
    "duration": 87,
    "start_time": "2024-07-05T15:07:29.338Z"
   },
   {
    "duration": 391,
    "start_time": "2024-07-05T15:07:47.038Z"
   },
   {
    "duration": 817,
    "start_time": "2024-07-05T15:07:53.658Z"
   },
   {
    "duration": 701,
    "start_time": "2024-07-05T15:08:12.449Z"
   },
   {
    "duration": 512,
    "start_time": "2024-07-05T15:10:27.299Z"
   },
   {
    "duration": 331,
    "start_time": "2024-07-05T15:10:40.732Z"
   },
   {
    "duration": 707,
    "start_time": "2024-07-05T15:14:58.216Z"
   },
   {
    "duration": 682,
    "start_time": "2024-07-05T15:15:15.674Z"
   },
   {
    "duration": 206,
    "start_time": "2024-07-05T16:04:14.400Z"
   },
   {
    "duration": 32,
    "start_time": "2024-07-05T16:08:27.771Z"
   },
   {
    "duration": 7,
    "start_time": "2024-07-05T16:08:33.952Z"
   },
   {
    "duration": 53,
    "start_time": "2024-07-05T16:08:36.151Z"
   },
   {
    "duration": 26,
    "start_time": "2024-07-05T16:08:36.586Z"
   },
   {
    "duration": 5,
    "start_time": "2024-07-05T16:09:00.192Z"
   },
   {
    "duration": 51,
    "start_time": "2024-07-05T16:09:00.719Z"
   },
   {
    "duration": 5,
    "start_time": "2024-07-05T16:09:01.118Z"
   },
   {
    "duration": 269,
    "start_time": "2024-07-05T16:09:16.054Z"
   },
   {
    "duration": 2747,
    "start_time": "2024-07-05T16:09:35.738Z"
   },
   {
    "duration": 2606,
    "start_time": "2024-07-05T16:10:52.239Z"
   },
   {
    "duration": 2611,
    "start_time": "2024-07-05T16:13:31.091Z"
   },
   {
    "duration": 765,
    "start_time": "2024-07-05T16:19:51.031Z"
   },
   {
    "duration": 3521,
    "start_time": "2024-07-05T16:20:25.481Z"
   },
   {
    "duration": 2898,
    "start_time": "2024-07-05T16:21:11.825Z"
   },
   {
    "duration": 2505,
    "start_time": "2024-07-05T16:22:19.381Z"
   },
   {
    "duration": 2288,
    "start_time": "2024-07-05T16:23:15.172Z"
   },
   {
    "duration": 2974,
    "start_time": "2024-07-05T16:23:31.126Z"
   },
   {
    "duration": 2299,
    "start_time": "2024-07-05T16:23:47.989Z"
   },
   {
    "duration": 2682,
    "start_time": "2024-07-05T16:24:06.153Z"
   },
   {
    "duration": 2639,
    "start_time": "2024-07-05T16:24:24.108Z"
   },
   {
    "duration": 3254,
    "start_time": "2024-07-05T16:24:39.874Z"
   },
   {
    "duration": 3125,
    "start_time": "2024-07-05T16:24:54.332Z"
   },
   {
    "duration": 3177,
    "start_time": "2024-07-05T16:26:04.482Z"
   },
   {
    "duration": 3204,
    "start_time": "2024-07-05T16:26:27.473Z"
   },
   {
    "duration": 3187,
    "start_time": "2024-07-05T16:26:56.340Z"
   },
   {
    "duration": 2998,
    "start_time": "2024-07-05T16:27:18.977Z"
   },
   {
    "duration": 3252,
    "start_time": "2024-07-05T16:29:38.506Z"
   },
   {
    "duration": 3044,
    "start_time": "2024-07-05T16:30:29.243Z"
   },
   {
    "duration": 4871,
    "start_time": "2024-07-05T18:30:34.571Z"
   },
   {
    "duration": 87,
    "start_time": "2024-07-05T18:30:39.445Z"
   },
   {
    "duration": 5,
    "start_time": "2024-07-05T18:30:39.535Z"
   },
   {
    "duration": 18,
    "start_time": "2024-07-05T18:30:39.545Z"
   },
   {
    "duration": 18,
    "start_time": "2024-07-05T18:30:39.566Z"
   },
   {
    "duration": 46,
    "start_time": "2024-07-05T18:30:39.587Z"
   },
   {
    "duration": 13,
    "start_time": "2024-07-05T18:30:39.636Z"
   },
   {
    "duration": 16,
    "start_time": "2024-07-05T18:30:39.652Z"
   },
   {
    "duration": 8,
    "start_time": "2024-07-05T18:30:39.670Z"
   },
   {
    "duration": 47,
    "start_time": "2024-07-05T18:30:39.684Z"
   },
   {
    "duration": 8,
    "start_time": "2024-07-05T18:30:39.735Z"
   },
   {
    "duration": 7,
    "start_time": "2024-07-05T18:30:39.746Z"
   },
   {
    "duration": 18,
    "start_time": "2024-07-05T18:30:39.758Z"
   },
   {
    "duration": 61,
    "start_time": "2024-07-05T18:30:39.779Z"
   },
   {
    "duration": 361,
    "start_time": "2024-07-05T18:30:39.843Z"
   },
   {
    "duration": 29,
    "start_time": "2024-07-05T18:30:40.207Z"
   },
   {
    "duration": 15,
    "start_time": "2024-07-05T18:30:40.239Z"
   },
   {
    "duration": 11,
    "start_time": "2024-07-05T18:30:40.257Z"
   },
   {
    "duration": 8,
    "start_time": "2024-07-05T18:30:40.271Z"
   },
   {
    "duration": 52,
    "start_time": "2024-07-05T18:30:40.282Z"
   },
   {
    "duration": 6,
    "start_time": "2024-07-05T18:30:40.337Z"
   },
   {
    "duration": 666,
    "start_time": "2024-07-05T18:30:40.345Z"
   },
   {
    "duration": 11,
    "start_time": "2024-07-05T18:30:41.014Z"
   },
   {
    "duration": 14,
    "start_time": "2024-07-05T18:30:41.032Z"
   },
   {
    "duration": 8,
    "start_time": "2024-07-05T18:30:41.050Z"
   },
   {
    "duration": 5,
    "start_time": "2024-07-05T18:30:41.061Z"
   },
   {
    "duration": 6,
    "start_time": "2024-07-05T18:30:41.070Z"
   },
   {
    "duration": 350,
    "start_time": "2024-07-05T18:30:41.130Z"
   },
   {
    "duration": 10,
    "start_time": "2024-07-05T18:30:41.483Z"
   },
   {
    "duration": 37,
    "start_time": "2024-07-05T18:30:41.497Z"
   },
   {
    "duration": 9,
    "start_time": "2024-07-05T18:30:41.537Z"
   },
   {
    "duration": 8,
    "start_time": "2024-07-05T18:30:41.549Z"
   },
   {
    "duration": 5,
    "start_time": "2024-07-05T18:30:41.560Z"
   },
   {
    "duration": 136,
    "start_time": "2024-07-05T18:30:41.569Z"
   },
   {
    "duration": 79,
    "start_time": "2024-07-05T18:30:41.708Z"
   },
   {
    "duration": 43,
    "start_time": "2024-07-05T18:30:41.789Z"
   },
   {
    "duration": 6,
    "start_time": "2024-07-05T18:30:41.835Z"
   },
   {
    "duration": 8,
    "start_time": "2024-07-05T18:30:41.844Z"
   },
   {
    "duration": 33,
    "start_time": "2024-07-05T18:30:41.855Z"
   },
   {
    "duration": 42,
    "start_time": "2024-07-05T18:30:41.891Z"
   },
   {
    "duration": 23,
    "start_time": "2024-07-05T18:30:41.937Z"
   },
   {
    "duration": 2802,
    "start_time": "2024-07-05T18:30:41.963Z"
   },
   {
    "duration": 1290,
    "start_time": "2024-07-05T18:32:48.095Z"
   },
   {
    "duration": 54,
    "start_time": "2024-07-05T18:32:49.388Z"
   },
   {
    "duration": 4,
    "start_time": "2024-07-05T18:32:49.445Z"
   },
   {
    "duration": 18,
    "start_time": "2024-07-05T18:32:49.454Z"
   },
   {
    "duration": 17,
    "start_time": "2024-07-05T18:32:49.476Z"
   },
   {
    "duration": 8,
    "start_time": "2024-07-05T18:32:49.531Z"
   },
   {
    "duration": 14,
    "start_time": "2024-07-05T18:32:49.542Z"
   },
   {
    "duration": 16,
    "start_time": "2024-07-05T18:32:49.559Z"
   },
   {
    "duration": 52,
    "start_time": "2024-07-05T18:32:49.578Z"
   },
   {
    "duration": 7,
    "start_time": "2024-07-05T18:32:49.635Z"
   },
   {
    "duration": 8,
    "start_time": "2024-07-05T18:32:49.645Z"
   },
   {
    "duration": 6,
    "start_time": "2024-07-05T18:32:49.657Z"
   },
   {
    "duration": 16,
    "start_time": "2024-07-05T18:32:49.666Z"
   },
   {
    "duration": 56,
    "start_time": "2024-07-05T18:32:49.685Z"
   },
   {
    "duration": 361,
    "start_time": "2024-07-05T18:32:49.744Z"
   },
   {
    "duration": 24,
    "start_time": "2024-07-05T18:32:50.108Z"
   },
   {
    "duration": 15,
    "start_time": "2024-07-05T18:32:50.135Z"
   },
   {
    "duration": 13,
    "start_time": "2024-07-05T18:32:50.153Z"
   },
   {
    "duration": 8,
    "start_time": "2024-07-05T18:32:50.169Z"
   },
   {
    "duration": 55,
    "start_time": "2024-07-05T18:32:50.180Z"
   },
   {
    "duration": 7,
    "start_time": "2024-07-05T18:32:50.238Z"
   },
   {
    "duration": 699,
    "start_time": "2024-07-05T18:32:50.248Z"
   },
   {
    "duration": 14,
    "start_time": "2024-07-05T18:32:50.951Z"
   },
   {
    "duration": 17,
    "start_time": "2024-07-05T18:32:50.968Z"
   },
   {
    "duration": 8,
    "start_time": "2024-07-05T18:32:50.989Z"
   },
   {
    "duration": 31,
    "start_time": "2024-07-05T18:32:51.000Z"
   },
   {
    "duration": 7,
    "start_time": "2024-07-05T18:32:51.034Z"
   },
   {
    "duration": 373,
    "start_time": "2024-07-05T18:32:51.051Z"
   },
   {
    "duration": 10,
    "start_time": "2024-07-05T18:32:51.427Z"
   },
   {
    "duration": 14,
    "start_time": "2024-07-05T18:32:51.440Z"
   },
   {
    "duration": 9,
    "start_time": "2024-07-05T18:32:51.457Z"
   },
   {
    "duration": 8,
    "start_time": "2024-07-05T18:32:51.468Z"
   },
   {
    "duration": 53,
    "start_time": "2024-07-05T18:32:51.479Z"
   },
   {
    "duration": 117,
    "start_time": "2024-07-05T18:32:51.536Z"
   },
   {
    "duration": 53,
    "start_time": "2024-07-05T18:32:51.657Z"
   },
   {
    "duration": 42,
    "start_time": "2024-07-05T18:32:51.712Z"
   },
   {
    "duration": 10,
    "start_time": "2024-07-05T18:32:51.757Z"
   },
   {
    "duration": 10,
    "start_time": "2024-07-05T18:32:51.770Z"
   },
   {
    "duration": 67,
    "start_time": "2024-07-05T18:32:51.784Z"
   },
   {
    "duration": 6,
    "start_time": "2024-07-05T18:32:51.854Z"
   },
   {
    "duration": 21,
    "start_time": "2024-07-05T18:32:51.866Z"
   },
   {
    "duration": 2751,
    "start_time": "2024-07-05T18:32:51.891Z"
   },
   {
    "duration": 2500,
    "start_time": "2024-07-05T18:33:27.096Z"
   },
   {
    "duration": 2694,
    "start_time": "2024-07-05T18:33:40.744Z"
   },
   {
    "duration": 2319,
    "start_time": "2024-07-05T18:33:58.830Z"
   },
   {
    "duration": 1284,
    "start_time": "2024-07-05T18:52:50.080Z"
   },
   {
    "duration": 55,
    "start_time": "2024-07-05T18:52:51.367Z"
   },
   {
    "duration": 4,
    "start_time": "2024-07-05T18:52:51.425Z"
   },
   {
    "duration": 19,
    "start_time": "2024-07-05T18:52:51.433Z"
   },
   {
    "duration": 16,
    "start_time": "2024-07-05T18:52:51.455Z"
   },
   {
    "duration": 9,
    "start_time": "2024-07-05T18:52:51.474Z"
   },
   {
    "duration": 55,
    "start_time": "2024-07-05T18:52:51.486Z"
   },
   {
    "duration": 15,
    "start_time": "2024-07-05T18:52:51.544Z"
   },
   {
    "duration": 9,
    "start_time": "2024-07-05T18:52:51.562Z"
   },
   {
    "duration": 7,
    "start_time": "2024-07-05T18:52:51.577Z"
   },
   {
    "duration": 49,
    "start_time": "2024-07-05T18:52:51.587Z"
   },
   {
    "duration": 7,
    "start_time": "2024-07-05T18:52:51.639Z"
   },
   {
    "duration": 16,
    "start_time": "2024-07-05T18:52:51.649Z"
   },
   {
    "duration": 16,
    "start_time": "2024-07-05T18:52:51.668Z"
   },
   {
    "duration": 413,
    "start_time": "2024-07-05T18:52:51.688Z"
   },
   {
    "duration": 15,
    "start_time": "2024-07-05T18:52:52.104Z"
   },
   {
    "duration": 16,
    "start_time": "2024-07-05T18:52:52.132Z"
   },
   {
    "duration": 12,
    "start_time": "2024-07-05T18:52:52.151Z"
   },
   {
    "duration": 10,
    "start_time": "2024-07-05T18:52:52.166Z"
   },
   {
    "duration": 6,
    "start_time": "2024-07-05T18:52:52.178Z"
   },
   {
    "duration": 50,
    "start_time": "2024-07-05T18:52:52.188Z"
   },
   {
    "duration": 729,
    "start_time": "2024-07-05T18:52:52.242Z"
   },
   {
    "duration": 12,
    "start_time": "2024-07-05T18:52:52.974Z"
   },
   {
    "duration": 15,
    "start_time": "2024-07-05T18:52:52.989Z"
   },
   {
    "duration": 26,
    "start_time": "2024-07-05T18:52:53.007Z"
   },
   {
    "duration": 6,
    "start_time": "2024-07-05T18:52:53.037Z"
   },
   {
    "duration": 6,
    "start_time": "2024-07-05T18:52:53.047Z"
   },
   {
    "duration": 391,
    "start_time": "2024-07-05T18:52:53.060Z"
   },
   {
    "duration": 10,
    "start_time": "2024-07-05T18:52:53.454Z"
   },
   {
    "duration": 13,
    "start_time": "2024-07-05T18:52:53.470Z"
   },
   {
    "duration": 9,
    "start_time": "2024-07-05T18:52:53.487Z"
   },
   {
    "duration": 8,
    "start_time": "2024-07-05T18:52:53.532Z"
   },
   {
    "duration": 5,
    "start_time": "2024-07-05T18:52:53.543Z"
   },
   {
    "duration": 125,
    "start_time": "2024-07-05T18:52:53.550Z"
   },
   {
    "duration": 65,
    "start_time": "2024-07-05T18:52:53.678Z"
   },
   {
    "duration": 24,
    "start_time": "2024-07-05T18:52:53.745Z"
   },
   {
    "duration": 6,
    "start_time": "2024-07-05T18:52:53.772Z"
   },
   {
    "duration": 8,
    "start_time": "2024-07-05T18:52:53.781Z"
   },
   {
    "duration": 67,
    "start_time": "2024-07-05T18:52:53.792Z"
   },
   {
    "duration": 5,
    "start_time": "2024-07-05T18:52:53.862Z"
   },
   {
    "duration": 22,
    "start_time": "2024-07-05T18:52:53.870Z"
   },
   {
    "duration": 42,
    "start_time": "2024-07-05T18:52:53.894Z"
   },
   {
    "duration": 8,
    "start_time": "2024-07-05T18:53:22.184Z"
   },
   {
    "duration": 8,
    "start_time": "2024-07-05T18:53:42.375Z"
   },
   {
    "duration": 3985,
    "start_time": "2024-07-05T18:53:49.036Z"
   },
   {
    "duration": 4211,
    "start_time": "2024-07-05T18:54:29.687Z"
   },
   {
    "duration": 1292,
    "start_time": "2024-07-05T18:57:07.482Z"
   },
   {
    "duration": 55,
    "start_time": "2024-07-05T18:57:08.778Z"
   },
   {
    "duration": 5,
    "start_time": "2024-07-05T18:57:08.836Z"
   },
   {
    "duration": 19,
    "start_time": "2024-07-05T18:57:08.846Z"
   },
   {
    "duration": 18,
    "start_time": "2024-07-05T18:57:08.868Z"
   },
   {
    "duration": 46,
    "start_time": "2024-07-05T18:57:08.889Z"
   },
   {
    "duration": 15,
    "start_time": "2024-07-05T18:57:08.938Z"
   },
   {
    "duration": 16,
    "start_time": "2024-07-05T18:57:08.956Z"
   },
   {
    "duration": 8,
    "start_time": "2024-07-05T18:57:08.974Z"
   },
   {
    "duration": 8,
    "start_time": "2024-07-05T18:57:09.033Z"
   },
   {
    "duration": 8,
    "start_time": "2024-07-05T18:57:09.044Z"
   },
   {
    "duration": 6,
    "start_time": "2024-07-05T18:57:09.055Z"
   },
   {
    "duration": 17,
    "start_time": "2024-07-05T18:57:09.064Z"
   },
   {
    "duration": 52,
    "start_time": "2024-07-05T18:57:09.084Z"
   },
   {
    "duration": 338,
    "start_time": "2024-07-05T18:57:09.140Z"
   },
   {
    "duration": 14,
    "start_time": "2024-07-05T18:57:09.481Z"
   },
   {
    "duration": 39,
    "start_time": "2024-07-05T18:57:09.498Z"
   },
   {
    "duration": 12,
    "start_time": "2024-07-05T18:57:09.539Z"
   },
   {
    "duration": 9,
    "start_time": "2024-07-05T18:57:09.554Z"
   },
   {
    "duration": 6,
    "start_time": "2024-07-05T18:57:09.566Z"
   },
   {
    "duration": 7,
    "start_time": "2024-07-05T18:57:09.575Z"
   },
   {
    "duration": 712,
    "start_time": "2024-07-05T18:57:09.631Z"
   },
   {
    "duration": 12,
    "start_time": "2024-07-05T18:57:10.346Z"
   },
   {
    "duration": 15,
    "start_time": "2024-07-05T18:57:10.361Z"
   },
   {
    "duration": 11,
    "start_time": "2024-07-05T18:57:10.379Z"
   },
   {
    "duration": 7,
    "start_time": "2024-07-05T18:57:10.393Z"
   },
   {
    "duration": 34,
    "start_time": "2024-07-05T18:57:10.402Z"
   },
   {
    "duration": 367,
    "start_time": "2024-07-05T18:57:10.444Z"
   },
   {
    "duration": 18,
    "start_time": "2024-07-05T18:57:10.814Z"
   },
   {
    "duration": 15,
    "start_time": "2024-07-05T18:57:10.835Z"
   },
   {
    "duration": 8,
    "start_time": "2024-07-05T18:57:10.854Z"
   },
   {
    "duration": 8,
    "start_time": "2024-07-05T18:57:10.865Z"
   },
   {
    "duration": 5,
    "start_time": "2024-07-05T18:57:10.876Z"
   },
   {
    "duration": 172,
    "start_time": "2024-07-05T18:57:10.884Z"
   },
   {
    "duration": 51,
    "start_time": "2024-07-05T18:57:11.059Z"
   },
   {
    "duration": 23,
    "start_time": "2024-07-05T18:57:11.130Z"
   },
   {
    "duration": 6,
    "start_time": "2024-07-05T18:57:11.156Z"
   },
   {
    "duration": 8,
    "start_time": "2024-07-05T18:57:11.165Z"
   },
   {
    "duration": 75,
    "start_time": "2024-07-05T18:57:11.176Z"
   },
   {
    "duration": 6,
    "start_time": "2024-07-05T18:57:11.254Z"
   },
   {
    "duration": 20,
    "start_time": "2024-07-05T18:57:11.263Z"
   },
   {
    "duration": 4404,
    "start_time": "2024-07-05T18:57:11.286Z"
   },
   {
    "duration": 4105,
    "start_time": "2024-07-05T19:01:58.205Z"
   },
   {
    "duration": 1333,
    "start_time": "2024-07-05T19:18:53.450Z"
   },
   {
    "duration": 67,
    "start_time": "2024-07-05T19:18:54.787Z"
   },
   {
    "duration": 5,
    "start_time": "2024-07-05T19:18:54.857Z"
   },
   {
    "duration": 20,
    "start_time": "2024-07-05T19:18:54.868Z"
   },
   {
    "duration": 44,
    "start_time": "2024-07-05T19:18:54.891Z"
   },
   {
    "duration": 10,
    "start_time": "2024-07-05T19:18:54.938Z"
   },
   {
    "duration": 17,
    "start_time": "2024-07-05T19:18:54.954Z"
   },
   {
    "duration": 21,
    "start_time": "2024-07-05T19:18:54.974Z"
   },
   {
    "duration": 11,
    "start_time": "2024-07-05T19:18:55.032Z"
   },
   {
    "duration": 11,
    "start_time": "2024-07-05T19:18:55.049Z"
   },
   {
    "duration": 11,
    "start_time": "2024-07-05T19:18:55.063Z"
   },
   {
    "duration": 9,
    "start_time": "2024-07-05T19:18:55.077Z"
   },
   {
    "duration": 54,
    "start_time": "2024-07-05T19:18:55.090Z"
   },
   {
    "duration": 19,
    "start_time": "2024-07-05T19:18:55.148Z"
   },
   {
    "duration": 401,
    "start_time": "2024-07-05T19:18:55.170Z"
   },
   {
    "duration": 15,
    "start_time": "2024-07-05T19:18:55.574Z"
   },
   {
    "duration": 39,
    "start_time": "2024-07-05T19:18:55.591Z"
   },
   {
    "duration": 14,
    "start_time": "2024-07-05T19:18:55.634Z"
   },
   {
    "duration": 10,
    "start_time": "2024-07-05T19:18:55.651Z"
   },
   {
    "duration": 7,
    "start_time": "2024-07-05T19:18:55.664Z"
   },
   {
    "duration": 8,
    "start_time": "2024-07-05T19:18:55.673Z"
   },
   {
    "duration": 800,
    "start_time": "2024-07-05T19:18:55.683Z"
   },
   {
    "duration": 14,
    "start_time": "2024-07-05T19:18:56.486Z"
   },
   {
    "duration": 26,
    "start_time": "2024-07-05T19:18:56.505Z"
   },
   {
    "duration": 7,
    "start_time": "2024-07-05T19:18:56.534Z"
   },
   {
    "duration": 8,
    "start_time": "2024-07-05T19:18:56.545Z"
   },
   {
    "duration": 6,
    "start_time": "2024-07-05T19:18:56.557Z"
   },
   {
    "duration": 414,
    "start_time": "2024-07-05T19:18:56.572Z"
   },
   {
    "duration": 10,
    "start_time": "2024-07-05T19:18:56.990Z"
   },
   {
    "duration": 36,
    "start_time": "2024-07-05T19:18:57.003Z"
   },
   {
    "duration": 9,
    "start_time": "2024-07-05T19:18:57.045Z"
   },
   {
    "duration": 10,
    "start_time": "2024-07-05T19:18:57.057Z"
   },
   {
    "duration": 5,
    "start_time": "2024-07-05T19:18:57.070Z"
   },
   {
    "duration": 140,
    "start_time": "2024-07-05T19:18:57.077Z"
   },
   {
    "duration": 52,
    "start_time": "2024-07-05T19:18:57.233Z"
   },
   {
    "duration": 47,
    "start_time": "2024-07-05T19:18:57.291Z"
   },
   {
    "duration": 6,
    "start_time": "2024-07-05T19:18:57.342Z"
   },
   {
    "duration": 8,
    "start_time": "2024-07-05T19:18:57.351Z"
   },
   {
    "duration": 70,
    "start_time": "2024-07-05T19:18:57.362Z"
   },
   {
    "duration": 7,
    "start_time": "2024-07-05T19:18:57.434Z"
   },
   {
    "duration": 31,
    "start_time": "2024-07-05T19:18:57.444Z"
   },
   {
    "duration": 4070,
    "start_time": "2024-07-05T19:18:57.479Z"
   },
   {
    "duration": 4507,
    "start_time": "2024-07-05T19:19:33.328Z"
   },
   {
    "duration": 4795,
    "start_time": "2024-07-05T19:19:56.940Z"
   },
   {
    "duration": 4635,
    "start_time": "2024-07-05T19:20:27.103Z"
   },
   {
    "duration": 1347,
    "start_time": "2024-07-05T19:32:08.741Z"
   },
   {
    "duration": 76,
    "start_time": "2024-07-05T19:32:10.092Z"
   },
   {
    "duration": 5,
    "start_time": "2024-07-05T19:32:10.171Z"
   },
   {
    "duration": 24,
    "start_time": "2024-07-05T19:32:10.181Z"
   },
   {
    "duration": 35,
    "start_time": "2024-07-05T19:32:10.213Z"
   },
   {
    "duration": 10,
    "start_time": "2024-07-05T19:32:10.250Z"
   },
   {
    "duration": 17,
    "start_time": "2024-07-05T19:32:10.263Z"
   },
   {
    "duration": 54,
    "start_time": "2024-07-05T19:32:10.284Z"
   },
   {
    "duration": 9,
    "start_time": "2024-07-05T19:32:10.341Z"
   },
   {
    "duration": 10,
    "start_time": "2024-07-05T19:32:10.356Z"
   },
   {
    "duration": 9,
    "start_time": "2024-07-05T19:32:10.369Z"
   },
   {
    "duration": 6,
    "start_time": "2024-07-05T19:32:10.386Z"
   },
   {
    "duration": 52,
    "start_time": "2024-07-05T19:32:10.395Z"
   },
   {
    "duration": 18,
    "start_time": "2024-07-05T19:32:10.450Z"
   },
   {
    "duration": 375,
    "start_time": "2024-07-05T19:32:10.475Z"
   },
   {
    "duration": 20,
    "start_time": "2024-07-05T19:32:10.852Z"
   },
   {
    "duration": 17,
    "start_time": "2024-07-05T19:32:10.874Z"
   },
   {
    "duration": 41,
    "start_time": "2024-07-05T19:32:10.894Z"
   },
   {
    "duration": 10,
    "start_time": "2024-07-05T19:32:10.941Z"
   },
   {
    "duration": 9,
    "start_time": "2024-07-05T19:32:10.955Z"
   },
   {
    "duration": 6,
    "start_time": "2024-07-05T19:32:10.967Z"
   },
   {
    "duration": 779,
    "start_time": "2024-07-05T19:32:10.976Z"
   },
   {
    "duration": 22,
    "start_time": "2024-07-05T19:32:11.759Z"
   },
   {
    "duration": 29,
    "start_time": "2024-07-05T19:32:11.785Z"
   },
   {
    "duration": 12,
    "start_time": "2024-07-05T19:32:11.818Z"
   },
   {
    "duration": 7,
    "start_time": "2024-07-05T19:32:11.833Z"
   },
   {
    "duration": 7,
    "start_time": "2024-07-05T19:32:11.844Z"
   },
   {
    "duration": 457,
    "start_time": "2024-07-05T19:32:11.860Z"
   },
   {
    "duration": 24,
    "start_time": "2024-07-05T19:32:12.321Z"
   },
   {
    "duration": 17,
    "start_time": "2024-07-05T19:32:12.352Z"
   },
   {
    "duration": 13,
    "start_time": "2024-07-05T19:32:12.379Z"
   },
   {
    "duration": 9,
    "start_time": "2024-07-05T19:32:12.396Z"
   },
   {
    "duration": 24,
    "start_time": "2024-07-05T19:32:12.409Z"
   },
   {
    "duration": 150,
    "start_time": "2024-07-05T19:32:12.438Z"
   },
   {
    "duration": 78,
    "start_time": "2024-07-05T19:32:12.592Z"
   },
   {
    "duration": 28,
    "start_time": "2024-07-05T19:32:12.674Z"
   },
   {
    "duration": 25,
    "start_time": "2024-07-05T19:32:12.706Z"
   },
   {
    "duration": 9,
    "start_time": "2024-07-05T19:32:12.735Z"
   },
   {
    "duration": 40,
    "start_time": "2024-07-05T19:32:12.747Z"
   },
   {
    "duration": 41,
    "start_time": "2024-07-05T19:32:12.790Z"
   },
   {
    "duration": 27,
    "start_time": "2024-07-05T19:32:12.836Z"
   },
   {
    "duration": 4711,
    "start_time": "2024-07-05T19:32:12.867Z"
   },
   {
    "duration": 5202,
    "start_time": "2024-07-05T19:44:24.294Z"
   },
   {
    "duration": 4621,
    "start_time": "2024-07-05T19:49:03.739Z"
   },
   {
    "duration": 4490,
    "start_time": "2024-07-05T19:49:54.207Z"
   },
   {
    "duration": 4693,
    "start_time": "2024-07-05T19:52:06.315Z"
   },
   {
    "duration": 4698,
    "start_time": "2024-07-05T19:52:51.698Z"
   },
   {
    "duration": 5074,
    "start_time": "2024-07-05T19:53:25.996Z"
   },
   {
    "duration": 4814,
    "start_time": "2024-07-05T19:53:58.940Z"
   },
   {
    "duration": 5127,
    "start_time": "2024-07-05T19:54:19.029Z"
   },
   {
    "duration": 4780,
    "start_time": "2024-07-05T19:54:58.222Z"
   },
   {
    "duration": 4816,
    "start_time": "2024-07-05T19:55:18.681Z"
   },
   {
    "duration": 8,
    "start_time": "2024-07-05T19:57:14.841Z"
   },
   {
    "duration": 2122,
    "start_time": "2024-07-05T19:57:27.128Z"
   },
   {
    "duration": 1046,
    "start_time": "2024-07-05T20:01:20.152Z"
   },
   {
    "duration": 757,
    "start_time": "2024-07-05T20:01:36.737Z"
   },
   {
    "duration": 726,
    "start_time": "2024-07-05T20:01:53.799Z"
   },
   {
    "duration": 772,
    "start_time": "2024-07-05T20:02:04.725Z"
   },
   {
    "duration": 960,
    "start_time": "2024-07-05T20:02:12.320Z"
   },
   {
    "duration": 775,
    "start_time": "2024-07-05T20:02:20.700Z"
   },
   {
    "duration": 692,
    "start_time": "2024-07-05T20:02:36.499Z"
   },
   {
    "duration": 759,
    "start_time": "2024-07-05T20:02:51.669Z"
   },
   {
    "duration": 821,
    "start_time": "2024-07-05T20:03:02.089Z"
   },
   {
    "duration": 766,
    "start_time": "2024-07-05T20:03:19.204Z"
   },
   {
    "duration": 12,
    "start_time": "2024-07-05T21:19:43.461Z"
   },
   {
    "duration": 6,
    "start_time": "2024-07-05T21:35:08.294Z"
   },
   {
    "duration": 6,
    "start_time": "2024-07-05T21:40:23.162Z"
   }
  ],
  "kernelspec": {
   "display_name": "Python 3 (ipykernel)",
   "language": "python",
   "name": "python3"
  },
  "language_info": {
   "codemirror_mode": {
    "name": "ipython",
    "version": 3
   },
   "file_extension": ".py",
   "mimetype": "text/x-python",
   "name": "python",
   "nbconvert_exporter": "python",
   "pygments_lexer": "ipython3",
   "version": "3.11.5"
  },
  "toc": {
   "base_numbering": 1,
   "nav_menu": {},
   "number_sections": true,
   "sideBar": true,
   "skip_h1_title": true,
   "title_cell": "Table of Contents",
   "title_sidebar": "Contents",
   "toc_cell": false,
   "toc_position": {},
   "toc_section_display": true,
   "toc_window_display": false
  }
 },
 "nbformat": 4,
 "nbformat_minor": 2
}
